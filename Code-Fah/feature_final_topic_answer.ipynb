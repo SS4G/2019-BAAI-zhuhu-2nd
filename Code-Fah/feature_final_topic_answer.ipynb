{
 "cells": [
  {
   "cell_type": "code",
   "execution_count": 1,
   "metadata": {},
   "outputs": [],
   "source": [
    "import pandas as pd\n",
    "import time\n",
    "\n",
    "time_start=time.time()\n",
    "answer_info=pd.read_csv('answer_info.txt',sep='\\s+',names=['aid','qid','uid','atime','ainfo','ainfoc','fine',\n",
    "                                                                 'recommend','table','picture','video','numword',\n",
    "                                                                 'thumbsup','thumbsdown','comment','collect','thank',\n",
    "                                                                 'report','nohelp','oppose'])\n",
    "invite_info=pd.read_csv('invite_info.txt',sep='\\s+',names=['qid','uid','time','target'])\n",
    "invite_info_evaluate=pd.read_csv('invite_info_evaluate_2_0926.txt',sep='\\s+',names=['qid','uid','time'])\n",
    "ques_info=pd.read_csv('question_info.txt',sep='\\s+',names=['qid','qtime','qtitle','qtitlec','qinfo','qinfoc','qtopic'])"
   ]
  },
  {
   "cell_type": "code",
   "execution_count": 2,
   "metadata": {},
   "outputs": [],
   "source": [
    "answer_info=answer_info[['aid','qid','uid','atime']]\n",
    "ques_info=ques_info[['qid','qtopic']]"
   ]
  },
  {
   "cell_type": "code",
   "execution_count": 3,
   "metadata": {},
   "outputs": [],
   "source": [
    "answer_info=pd.merge(answer_info,ques_info,on='qid',how='left')"
   ]
  },
  {
   "cell_type": "code",
   "execution_count": 4,
   "metadata": {},
   "outputs": [
    {
     "data": {
      "text/plain": [
       "4513735"
      ]
     },
     "execution_count": 4,
     "metadata": {},
     "output_type": "execute_result"
    }
   ],
   "source": [
    "len(answer_info)"
   ]
  },
  {
   "cell_type": "code",
   "execution_count": 5,
   "metadata": {},
   "outputs": [],
   "source": [
    "answer_info=answer_info.dropna(subset=['qtopic'])"
   ]
  },
  {
   "cell_type": "code",
   "execution_count": 6,
   "metadata": {},
   "outputs": [
    {
     "data": {
      "text/plain": [
       "4513735"
      ]
     },
     "execution_count": 6,
     "metadata": {},
     "output_type": "execute_result"
    }
   ],
   "source": [
    "len(answer_info)"
   ]
  },
  {
   "cell_type": "code",
   "execution_count": 7,
   "metadata": {},
   "outputs": [
    {
     "data": {
      "text/html": [
       "<div>\n",
       "<style scoped>\n",
       "    .dataframe tbody tr th:only-of-type {\n",
       "        vertical-align: middle;\n",
       "    }\n",
       "\n",
       "    .dataframe tbody tr th {\n",
       "        vertical-align: top;\n",
       "    }\n",
       "\n",
       "    .dataframe thead th {\n",
       "        text-align: right;\n",
       "    }\n",
       "</style>\n",
       "<table border=\"1\" class=\"dataframe\">\n",
       "  <thead>\n",
       "    <tr style=\"text-align: right;\">\n",
       "      <th></th>\n",
       "      <th>aid</th>\n",
       "      <th>qid</th>\n",
       "      <th>uid</th>\n",
       "      <th>atime</th>\n",
       "      <th>qtopic</th>\n",
       "    </tr>\n",
       "  </thead>\n",
       "  <tbody>\n",
       "    <tr>\n",
       "      <th>0</th>\n",
       "      <td>A2502060945</td>\n",
       "      <td>Q1867533817</td>\n",
       "      <td>M625498202</td>\n",
       "      <td>D3808-H7</td>\n",
       "      <td>T381,T8211,T3144,T4936,T823</td>\n",
       "    </tr>\n",
       "    <tr>\n",
       "      <th>1</th>\n",
       "      <td>A2847829478</td>\n",
       "      <td>Q3366788616</td>\n",
       "      <td>M142330444</td>\n",
       "      <td>D3810-H17</td>\n",
       "      <td>T5490,T2180,T17098</td>\n",
       "    </tr>\n",
       "    <tr>\n",
       "      <th>2</th>\n",
       "      <td>A2005999231</td>\n",
       "      <td>Q4264694221</td>\n",
       "      <td>M771499642</td>\n",
       "      <td>D3853-H13</td>\n",
       "      <td>T8716,T10196,T8767</td>\n",
       "    </tr>\n",
       "    <tr>\n",
       "      <th>3</th>\n",
       "      <td>A14821523</td>\n",
       "      <td>Q1088851650</td>\n",
       "      <td>M2282072267</td>\n",
       "      <td>D3859-H18</td>\n",
       "      <td>T258</td>\n",
       "    </tr>\n",
       "    <tr>\n",
       "      <th>4</th>\n",
       "      <td>A731550034</td>\n",
       "      <td>Q1023877868</td>\n",
       "      <td>M2282072267</td>\n",
       "      <td>D3855-H22</td>\n",
       "      <td>T95,T545</td>\n",
       "    </tr>\n",
       "  </tbody>\n",
       "</table>\n",
       "</div>"
      ],
      "text/plain": [
       "           aid          qid          uid      atime  \\\n",
       "0  A2502060945  Q1867533817   M625498202   D3808-H7   \n",
       "1  A2847829478  Q3366788616   M142330444  D3810-H17   \n",
       "2  A2005999231  Q4264694221   M771499642  D3853-H13   \n",
       "3    A14821523  Q1088851650  M2282072267  D3859-H18   \n",
       "4   A731550034  Q1023877868  M2282072267  D3855-H22   \n",
       "\n",
       "                        qtopic  \n",
       "0  T381,T8211,T3144,T4936,T823  \n",
       "1           T5490,T2180,T17098  \n",
       "2           T8716,T10196,T8767  \n",
       "3                         T258  \n",
       "4                     T95,T545  "
      ]
     },
     "execution_count": 7,
     "metadata": {},
     "output_type": "execute_result"
    }
   ],
   "source": [
    "answer_info.head()"
   ]
  },
  {
   "cell_type": "code",
   "execution_count": 8,
   "metadata": {},
   "outputs": [],
   "source": [
    "from tqdm import tqdm\n",
    "tqdm.pandas()"
   ]
  },
  {
   "cell_type": "code",
   "execution_count": 9,
   "metadata": {},
   "outputs": [
    {
     "name": "stderr",
     "output_type": "stream",
     "text": [
      "100%|██████████| 4513735/4513735 [00:10<00:00, 450028.66it/s]\n"
     ]
    }
   ],
   "source": [
    "\n",
    "answer_info['topic']=answer_info['qtopic'].progress_apply(lambda x:' '.join(x.split(',')))\n"
   ]
  },
  {
   "cell_type": "code",
   "execution_count": 10,
   "metadata": {},
   "outputs": [],
   "source": [
    "word=' '.join(answer_info['topic']).split(' ')\n",
    "import collections\n",
    "count = collections.Counter(word)\n"
   ]
  },
  {
   "cell_type": "code",
   "execution_count": 11,
   "metadata": {},
   "outputs": [],
   "source": [
    "def topic_answer_count(x):\n",
    "    result=0\n",
    "    for i in x.split(','):\n",
    "        result+=count[i]\n",
    "    return result"
   ]
  },
  {
   "cell_type": "code",
   "execution_count": 12,
   "metadata": {},
   "outputs": [
    {
     "data": {
      "text/html": [
       "<div>\n",
       "<style scoped>\n",
       "    .dataframe tbody tr th:only-of-type {\n",
       "        vertical-align: middle;\n",
       "    }\n",
       "\n",
       "    .dataframe tbody tr th {\n",
       "        vertical-align: top;\n",
       "    }\n",
       "\n",
       "    .dataframe thead th {\n",
       "        text-align: right;\n",
       "    }\n",
       "</style>\n",
       "<table border=\"1\" class=\"dataframe\">\n",
       "  <thead>\n",
       "    <tr style=\"text-align: right;\">\n",
       "      <th></th>\n",
       "      <th>qid</th>\n",
       "      <th>qtopic</th>\n",
       "    </tr>\n",
       "  </thead>\n",
       "  <tbody>\n",
       "    <tr>\n",
       "      <th>0</th>\n",
       "      <td>Q2234111670</td>\n",
       "      <td>T321,T730,T5784,T4389</td>\n",
       "    </tr>\n",
       "    <tr>\n",
       "      <th>1</th>\n",
       "      <td>Q760329790</td>\n",
       "      <td>T278,T12673,T4677</td>\n",
       "    </tr>\n",
       "    <tr>\n",
       "      <th>2</th>\n",
       "      <td>Q741313548</td>\n",
       "      <td>T226</td>\n",
       "    </tr>\n",
       "    <tr>\n",
       "      <th>3</th>\n",
       "      <td>Q3481466230</td>\n",
       "      <td>T51,T4468</td>\n",
       "    </tr>\n",
       "    <tr>\n",
       "      <th>4</th>\n",
       "      <td>Q3966197028</td>\n",
       "      <td>T54700,T81,T57,T17670,T43574</td>\n",
       "    </tr>\n",
       "  </tbody>\n",
       "</table>\n",
       "</div>"
      ],
      "text/plain": [
       "           qid                        qtopic\n",
       "0  Q2234111670         T321,T730,T5784,T4389\n",
       "1   Q760329790             T278,T12673,T4677\n",
       "2   Q741313548                          T226\n",
       "3  Q3481466230                     T51,T4468\n",
       "4  Q3966197028  T54700,T81,T57,T17670,T43574"
      ]
     },
     "execution_count": 12,
     "metadata": {},
     "output_type": "execute_result"
    }
   ],
   "source": [
    "ques_info.head()"
   ]
  },
  {
   "cell_type": "code",
   "execution_count": 13,
   "metadata": {
    "scrolled": true
   },
   "outputs": [
    {
     "name": "stderr",
     "output_type": "stream",
     "text": [
      "100%|██████████| 1829900/1829900 [00:04<00:00, 374544.99it/s]\n"
     ]
    }
   ],
   "source": [
    "ques_info['t_a_count']=ques_info['qtopic'].progress_apply(lambda x:topic_answer_count(x))\n"
   ]
  },
  {
   "cell_type": "code",
   "execution_count": 14,
   "metadata": {},
   "outputs": [
    {
     "data": {
      "text/html": [
       "<div>\n",
       "<style scoped>\n",
       "    .dataframe tbody tr th:only-of-type {\n",
       "        vertical-align: middle;\n",
       "    }\n",
       "\n",
       "    .dataframe tbody tr th {\n",
       "        vertical-align: top;\n",
       "    }\n",
       "\n",
       "    .dataframe thead th {\n",
       "        text-align: right;\n",
       "    }\n",
       "</style>\n",
       "<table border=\"1\" class=\"dataframe\">\n",
       "  <thead>\n",
       "    <tr style=\"text-align: right;\">\n",
       "      <th></th>\n",
       "      <th>qid</th>\n",
       "      <th>qtopic</th>\n",
       "      <th>t_a_count</th>\n",
       "    </tr>\n",
       "  </thead>\n",
       "  <tbody>\n",
       "    <tr>\n",
       "      <th>0</th>\n",
       "      <td>Q2234111670</td>\n",
       "      <td>T321,T730,T5784,T4389</td>\n",
       "      <td>12495</td>\n",
       "    </tr>\n",
       "    <tr>\n",
       "      <th>1</th>\n",
       "      <td>Q760329790</td>\n",
       "      <td>T278,T12673,T4677</td>\n",
       "      <td>2301</td>\n",
       "    </tr>\n",
       "    <tr>\n",
       "      <th>2</th>\n",
       "      <td>Q741313548</td>\n",
       "      <td>T226</td>\n",
       "      <td>7867</td>\n",
       "    </tr>\n",
       "    <tr>\n",
       "      <th>3</th>\n",
       "      <td>Q3481466230</td>\n",
       "      <td>T51,T4468</td>\n",
       "      <td>16665</td>\n",
       "    </tr>\n",
       "    <tr>\n",
       "      <th>4</th>\n",
       "      <td>Q3966197028</td>\n",
       "      <td>T54700,T81,T57,T17670,T43574</td>\n",
       "      <td>33211</td>\n",
       "    </tr>\n",
       "  </tbody>\n",
       "</table>\n",
       "</div>"
      ],
      "text/plain": [
       "           qid                        qtopic  t_a_count\n",
       "0  Q2234111670         T321,T730,T5784,T4389      12495\n",
       "1   Q760329790             T278,T12673,T4677       2301\n",
       "2   Q741313548                          T226       7867\n",
       "3  Q3481466230                     T51,T4468      16665\n",
       "4  Q3966197028  T54700,T81,T57,T17670,T43574      33211"
      ]
     },
     "execution_count": 14,
     "metadata": {},
     "output_type": "execute_result"
    }
   ],
   "source": [
    "ques_info.head()"
   ]
  },
  {
   "cell_type": "code",
   "execution_count": 15,
   "metadata": {},
   "outputs": [
    {
     "data": {
      "text/plain": [
       "1829900"
      ]
     },
     "execution_count": 15,
     "metadata": {},
     "output_type": "execute_result"
    }
   ],
   "source": [
    "len(ques_info)"
   ]
  },
  {
   "cell_type": "code",
   "execution_count": 16,
   "metadata": {},
   "outputs": [],
   "source": [
    "ques_info=ques_info.drop_duplicates(['qid'])"
   ]
  },
  {
   "cell_type": "code",
   "execution_count": 21,
   "metadata": {},
   "outputs": [],
   "source": [
    "ques_info=ques_info.reset_index(drop=True)"
   ]
  },
  {
   "cell_type": "code",
   "execution_count": 22,
   "metadata": {},
   "outputs": [],
   "source": [
    "ques_info[['qid','t_a_count']].to_hdf('feature_topic_answer.h5', key='data')"
   ]
  },
  {
   "cell_type": "code",
   "execution_count": 23,
   "metadata": {},
   "outputs": [
    {
     "name": "stdout",
     "output_type": "stream",
     "text": [
      "totally cost 1241.3220973014832\n"
     ]
    }
   ],
   "source": [
    "time_end=time.time()\n",
    "print('totally cost',time_end-time_start)"
   ]
  },
  {
   "cell_type": "code",
   "execution_count": null,
   "metadata": {},
   "outputs": [],
   "source": []
  }
 ],
 "metadata": {
  "kernelspec": {
   "display_name": "Python 3",
   "language": "python",
   "name": "python3"
  },
  "language_info": {
   "codemirror_mode": {
    "name": "ipython",
    "version": 3
   },
   "file_extension": ".py",
   "mimetype": "text/x-python",
   "name": "python",
   "nbconvert_exporter": "python",
   "pygments_lexer": "ipython3",
   "version": "3.7.3"
  }
 },
 "nbformat": 4,
 "nbformat_minor": 2
}
