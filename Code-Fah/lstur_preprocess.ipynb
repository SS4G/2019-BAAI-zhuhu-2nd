{
 "cells": [
  {
   "cell_type": "code",
   "execution_count": 1,
   "metadata": {},
   "outputs": [
    {
     "name": "stderr",
     "output_type": "stream",
     "text": [
      "Using TensorFlow backend.\n"
     ]
    }
   ],
   "source": [
    "from keras.models import Model, load_model\n",
    "from keras.layers import Input, Dropout, Dense, Embedding, SpatialDropout1D, concatenate, BatchNormalization, Flatten\n",
    "from keras.preprocessing.sequence import pad_sequences\n",
    "from keras.preprocessing import text, sequence\n",
    "from keras.callbacks import Callback\n",
    "from keras import backend as K\n",
    "from keras.models import Model\n",
    "from keras.losses import mean_squared_error as mse_loss\n",
    "\n",
    "from keras import optimizers\n",
    "from keras.optimizers import RMSprop, Adam\n",
    "from keras.callbacks import EarlyStopping, ModelCheckpoint, ReduceLROnPlateau\n",
    "import numpy as np # linear algebra\n",
    "import pandas as pd #"
   ]
  },
  {
   "cell_type": "code",
   "execution_count": 2,
   "metadata": {},
   "outputs": [],
   "source": [
    "ques_info=pd.read_csv('question_info.txt',sep='\\s+',names=['qid','qtime','qtitle','qtitlec','qinfo','qinfoc','qtopic'])\n",
    "ques_info=ques_info[['qid','qtopic','qtitlec','qinfoc']]"
   ]
  },
  {
   "cell_type": "code",
   "execution_count": 3,
   "metadata": {},
   "outputs": [],
   "source": [
    "member_info=pd.read_csv('member_info.txt',sep='\\s+',names=['uid','sex','key_word','num_level','hot_level','regis_type','regis_platform',\n",
    "                                                          'look_freq','a','b','c','d','e','A','B','C','D','E','salt','l_topic','topic_n'])\n",
    "member_info=member_info[['uid','l_topic','topic_n']]"
   ]
  },
  {
   "cell_type": "code",
   "execution_count": 4,
   "metadata": {},
   "outputs": [],
   "source": [
    "def split_topic(x):\n",
    "    x=x.split(',')\n",
    "    return ','.join([i.split(':')[0] for i in x])\n",
    "member_info['u_topic']=member_info['topic_n'].apply(lambda x:split_topic(x))"
   ]
  },
  {
   "cell_type": "code",
   "execution_count": null,
   "metadata": {},
   "outputs": [],
   "source": [
    "def split_weight(x):\n",
    "    if x!='-1':\n",
    "        x=x.split(',')\n",
    "        return [float(i.split(':')[1]) for i in x]\n",
    "    else:return [0]*10\n",
    "member_info['w_topic']=member_info['topic_n'].apply(lambda x:split_weight(x))\n"
   ]
  },
  {
   "cell_type": "code",
   "execution_count": null,
   "metadata": {},
   "outputs": [],
   "source": [
    "member_info.loc[member_info['l_topic']=='-1','l_topic']=member_info[member_info['l_topic']=='-1']['u_topic']"
   ]
  },
  {
   "cell_type": "code",
   "execution_count": null,
   "metadata": {},
   "outputs": [],
   "source": [
    "last_answer=pd.read_hdf('last_answerlist_6.h5', key='data')"
   ]
  },
  {
   "cell_type": "code",
   "execution_count": null,
   "metadata": {},
   "outputs": [],
   "source": [
    "train=pd.read_csv('invite_info.txt',sep='\\s+',names=['qid','uid','time','target'])\n",
    "t_shape=len(train)\n",
    "import gc\n",
    "gc.collect()"
   ]
  },
  {
   "cell_type": "code",
   "execution_count": null,
   "metadata": {
    "scrolled": true
   },
   "outputs": [],
   "source": [
    "member_info.drop(['topic_n'],axis=1,inplace=True)"
   ]
  },
  {
   "cell_type": "code",
   "execution_count": null,
   "metadata": {},
   "outputs": [],
   "source": [
    "ques_info_temp=ques_info[['qid','qtopic']]"
   ]
  },
  {
   "cell_type": "code",
   "execution_count": null,
   "metadata": {},
   "outputs": [],
   "source": [
    "last_answer=last_answer.merge(ques_info_temp,on='qid',how='left')\n",
    "ques_info_temp.columns=['qid_1','qtopic_1']\n",
    "last_answer=last_answer.merge(ques_info_temp,on='qid_1',how='left')\n",
    "ques_info_temp.columns=['qid_2','qtopic_2']\n",
    "last_answer=last_answer.merge(ques_info_temp,on='qid_2',how='left')\n",
    "ques_info_temp.columns=['qid_3','qtopic_3']\n",
    "last_answer=last_answer.merge(ques_info_temp,on='qid_3',how='left')\n",
    "ques_info_temp.columns=['qid_4','qtopic_4']\n",
    "last_answer=last_answer.merge(ques_info_temp,on='qid_4',how='left')\n",
    "ques_info_temp.columns=['qid_5','qtopic_5']\n",
    "last_answer=last_answer.merge(ques_info_temp,on='qid_5',how='left')\n",
    "ques_info_temp.columns=['qid_6','qtopic_6']\n",
    "last_answer=last_answer.merge(ques_info_temp,on='qid_6',how='left')"
   ]
  },
  {
   "cell_type": "code",
   "execution_count": null,
   "metadata": {},
   "outputs": [],
   "source": [
    "import pickle\n",
    "with open('esim_topic_tokenizer.pickle', 'rb') as f:\n",
    "      tokenizer = pickle.load(f)"
   ]
  },
  {
   "cell_type": "code",
   "execution_count": null,
   "metadata": {},
   "outputs": [],
   "source": [
    "last_answer.drop(['qid_1','qid_2','qid_3','qid_4','qid_5','qid_6'],axis=1,inplace=True)"
   ]
  },
  {
   "cell_type": "code",
   "execution_count": null,
   "metadata": {},
   "outputs": [],
   "source": [
    "last_answer=last_answer.merge(member_info,on='uid',how='left')"
   ]
  },
  {
   "cell_type": "code",
   "execution_count": null,
   "metadata": {},
   "outputs": [],
   "source": [
    "last_answer=last_answer.fillna('-1')"
   ]
  },
  {
   "cell_type": "code",
   "execution_count": null,
   "metadata": {},
   "outputs": [],
   "source": [
    "last_answer.columns"
   ]
  },
  {
   "cell_type": "code",
   "execution_count": null,
   "metadata": {},
   "outputs": [],
   "source": [
    "qtopic  =tokenizer.texts_to_sequences(last_answer['qtopic'])\n",
    "qtopic_1=tokenizer.texts_to_sequences(last_answer['qtopic_1'])\n",
    "qtopic_2=tokenizer.texts_to_sequences(last_answer['qtopic_2'])\n",
    "qtopic_3=tokenizer.texts_to_sequences(last_answer['qtopic_3'])\n",
    "qtopic_4=tokenizer.texts_to_sequences(last_answer['qtopic_4'])\n",
    "qtopic_5=tokenizer.texts_to_sequences(last_answer['qtopic_5'])\n",
    "qtopic_6=tokenizer.texts_to_sequences(last_answer['qtopic_6'])"
   ]
  },
  {
   "cell_type": "code",
   "execution_count": null,
   "metadata": {},
   "outputs": [],
   "source": [
    "l_topic=tokenizer.texts_to_sequences(last_answer['l_topic'])\n",
    "u_topic=tokenizer.texts_to_sequences(last_answer['u_topic'])"
   ]
  },
  {
   "cell_type": "code",
   "execution_count": null,
   "metadata": {},
   "outputs": [],
   "source": [
    "qtopic=pad_sequences(qtopic,maxlen=10,value=0)\n",
    "qtopic_1=pad_sequences(qtopic_1,maxlen=10,value=0)\n",
    "qtopic_2=pad_sequences(qtopic_2,maxlen=10,value=0)\n",
    "qtopic_3=pad_sequences(qtopic_3,maxlen=10,value=0)\n",
    "qtopic_4=pad_sequences(qtopic_4,maxlen=10,value=0)\n",
    "qtopic_5=pad_sequences(qtopic_5,maxlen=10,value=0)\n",
    "qtopic_6=pad_sequences(qtopic_6,maxlen=10,value=0)"
   ]
  },
  {
   "cell_type": "code",
   "execution_count": null,
   "metadata": {},
   "outputs": [],
   "source": [
    "l_topic=pad_sequences(l_topic,maxlen=50,value=0)\n",
    "u_topic=pad_sequences(u_topic,maxlen=10,value=0)"
   ]
  },
  {
   "cell_type": "code",
   "execution_count": null,
   "metadata": {},
   "outputs": [],
   "source": [
    "np.save(\"qtopic.npy\", qtopic)\n",
    "np.save(\"qtopic_1.npy\", qtopic_1)\n",
    "np.save(\"qtopic_2.npy\", qtopic_2)\n",
    "np.save(\"qtopic_3.npy\", qtopic_3)\n",
    "np.save(\"qtopic_4.npy\", qtopic_4)\n",
    "np.save(\"qtopic_5.npy\", qtopic_5)\n",
    "np.save(\"qtopic_6.npy\", qtopic_6)\n",
    "np.save(\"l_topic.npy\", l_topic)\n",
    "np.save(\"u_topic.npy\", u_topic)\n"
   ]
  },
  {
   "cell_type": "code",
   "execution_count": null,
   "metadata": {},
   "outputs": [],
   "source": [
    "##############################################################################################"
   ]
  },
  {
   "cell_type": "code",
   "execution_count": 2,
   "metadata": {},
   "outputs": [],
   "source": [
    "ques_info=pd.read_csv('question_info.txt',sep='\\s+',names=['qid','qtime','qtitle','qtitlec','qinfo','qinfoc','qtopic'])\n",
    "ques_info=ques_info[['qid','qtitlec']]"
   ]
  },
  {
   "cell_type": "code",
   "execution_count": 3,
   "metadata": {},
   "outputs": [],
   "source": [
    "last_answer=pd.read_hdf('last_answerlist_6.h5', key='data')"
   ]
  },
  {
   "cell_type": "code",
   "execution_count": 4,
   "metadata": {},
   "outputs": [],
   "source": [
    "last_answer=last_answer.merge(ques_info,on='qid',how='left')\n",
    "ques_info.columns=['qid_1','qtitlec_1']\n",
    "last_answer=last_answer.merge(ques_info,on='qid_1',how='left')\n",
    "ques_info.columns=['qid_2','qtitlec_2']\n",
    "last_answer=last_answer.merge(ques_info,on='qid_2',how='left')\n",
    "ques_info.columns=['qid_3','qtitlec_3']\n",
    "last_answer=last_answer.merge(ques_info,on='qid_3',how='left')\n",
    "ques_info.columns=['qid_4','qtitlec_4']\n",
    "last_answer=last_answer.merge(ques_info,on='qid_4',how='left')\n",
    "ques_info.columns=['qid_5','qtitlec_5']\n",
    "last_answer=last_answer.merge(ques_info,on='qid_5',how='left')\n",
    "ques_info.columns=['qid_6','qtitlec_6']\n",
    "last_answer=last_answer.merge(ques_info,on='qid_6',how='left')"
   ]
  },
  {
   "cell_type": "code",
   "execution_count": 5,
   "metadata": {},
   "outputs": [],
   "source": [
    "import pickle\n",
    "with open('esim_word_tokenizer.pickle', 'rb') as f:\n",
    "      tokenizer = pickle.load(f)"
   ]
  },
  {
   "cell_type": "code",
   "execution_count": 6,
   "metadata": {},
   "outputs": [],
   "source": [
    "last_answer=last_answer.fillna('-1')"
   ]
  },
  {
   "cell_type": "code",
   "execution_count": 7,
   "metadata": {
    "scrolled": true
   },
   "outputs": [],
   "source": [
    "qtitlec  =tokenizer.texts_to_sequences(last_answer['qtitlec'])\n",
    "qtitlec_1=tokenizer.texts_to_sequences(last_answer['qtitlec_1'])\n",
    "qtitlec_2=tokenizer.texts_to_sequences(last_answer['qtitlec_2'])\n",
    "qtitlec_3=tokenizer.texts_to_sequences(last_answer['qtitlec_3'])\n",
    "qtitlec_4=tokenizer.texts_to_sequences(last_answer['qtitlec_4'])\n",
    "qtitlec_5=tokenizer.texts_to_sequences(last_answer['qtitlec_5'])\n",
    "qtitlec_6=tokenizer.texts_to_sequences(last_answer['qtitlec_6'])"
   ]
  },
  {
   "cell_type": "code",
   "execution_count": 8,
   "metadata": {},
   "outputs": [],
   "source": [
    "qtitlec=pad_sequences(qtitlec,maxlen=10,value=0)\n",
    "qtitlec_1=pad_sequences(qtitlec_1,maxlen=10,value=0)\n",
    "qtitlec_2=pad_sequences(qtitlec_2,maxlen=10,value=0)\n",
    "qtitlec_3=pad_sequences(qtitlec_3,maxlen=10,value=0)\n",
    "qtitlec_4=pad_sequences(qtitlec_4,maxlen=10,value=0)\n",
    "qtitlec_5=pad_sequences(qtitlec_5,maxlen=10,value=0)\n",
    "qtitlec_6=pad_sequences(qtitlec_6,maxlen=10,value=0)"
   ]
  },
  {
   "cell_type": "code",
   "execution_count": 9,
   "metadata": {},
   "outputs": [],
   "source": [
    "np.save(\"qtitlec.npy\", qtitlec)\n",
    "np.save(\"qtitlec_1.npy\", qtitlec_1)\n",
    "np.save(\"qtitlec_2.npy\", qtitlec_2)\n",
    "np.save(\"qtitlec_3.npy\", qtitlec_3)\n",
    "np.save(\"qtitlec_4.npy\", qtitlec_4)\n",
    "np.save(\"qtitlec_5.npy\", qtitlec_5)\n",
    "np.save(\"qtitlec_6.npy\", qtitlec_6)"
   ]
  },
  {
   "cell_type": "code",
   "execution_count": null,
   "metadata": {},
   "outputs": [],
   "source": []
  }
 ],
 "metadata": {
  "kernelspec": {
   "display_name": "Python 3",
   "language": "python",
   "name": "python3"
  },
  "language_info": {
   "codemirror_mode": {
    "name": "ipython",
    "version": 3
   },
   "file_extension": ".py",
   "mimetype": "text/x-python",
   "name": "python",
   "nbconvert_exporter": "python",
   "pygments_lexer": "ipython3",
   "version": "3.6.7"
  }
 },
 "nbformat": 4,
 "nbformat_minor": 2
}
