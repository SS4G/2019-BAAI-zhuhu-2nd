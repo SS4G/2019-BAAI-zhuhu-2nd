{
 "cells": [
  {
   "cell_type": "code",
   "execution_count": null,
   "metadata": {},
   "outputs": [],
   "source": [
    "这个是lgb代码，用于生成merge.ipynb所需要的结果文件finallgb.txt\n",
    "其中feature_answer_base2.h5文件缺失，需要运行一次feature_final_answer_base.ipynb的文件生成"
   ]
  },
  {
   "cell_type": "code",
   "execution_count": 1,
   "metadata": {},
   "outputs": [],
   "source": [
    "import numpy as np\n",
    "import pandas as pd\n",
    "import matplotlib.pyplot as plt\n",
    "#import seaborn as sns\n",
    "import lightgbm as lgb\n",
    "from sklearn.metrics import accuracy_score\n",
    "from sklearn.model_selection import KFold\n",
    "import warnings\n",
    "import gc"
   ]
  },
  {
   "cell_type": "code",
   "execution_count": 2,
   "metadata": {},
   "outputs": [],
   "source": [
    "train=pd.read_csv('invite_info.txt',sep='\\s+',names=['qid','uid','time','target'])\n",
    "test=pd.read_csv('invite_info_evaluate_2_0926.txt',sep='\\s+',names=['qid','uid','time'])\n",
    "target=train['target']"
   ]
  },
  {
   "cell_type": "code",
   "execution_count": 3,
   "metadata": {},
   "outputs": [],
   "source": [
    "u7days_invite_count=pd.read_hdf('q7days_invite_count2.h5', key='data')#######################\n",
    "u7days_invite_count.columns=['qid','day','q7days_invite_pcount','q7days_invite_daynunique']\n",
    "u7days_invite_count['day']=u7days_invite_count['day'].astype(str)\n",
    "train['day']=train['time'].apply(lambda x:x[1:].split('-H')[0])\n",
    "test['day']=test['time'].apply(lambda x:x[1:].split('-H')[0])\n",
    "\n",
    "train=pd.merge(train,u7days_invite_count,how='left',on=['qid','day'])\n",
    "test=pd.merge(test,u7days_invite_count,how='left',on=['qid','day'])\n",
    "\n",
    "train.drop(['time','day'],axis=1,inplace=True)\n",
    "test.drop(['time','day'],axis=1,inplace=True)"
   ]
  },
  {
   "cell_type": "code",
   "execution_count": 4,
   "metadata": {},
   "outputs": [],
   "source": [
    "feature_topic_count=pd.read_hdf('feature_topic_count.h5', key='data')\n",
    "train=pd.concat([train,feature_topic_count.iloc[0:train.shape[0],:]],axis=1)\n",
    "test=pd.concat([test,feature_topic_count.iloc[train.shape[0]:,:].reset_index(drop=True)],axis=1)"
   ]
  },
  {
   "cell_type": "code",
   "execution_count": 5,
   "metadata": {
    "scrolled": true
   },
   "outputs": [],
   "source": [
    "feature_topic_tfidf=pd.read_hdf('feature_topic_tfidf.h5', key='data')\n",
    "feature_topic_w2vdis=pd.read_hdf('feature_topic_w2vdis.h5', key='data').reset_index(drop=True)\n",
    "feature_uid_ctr=pd.read_hdf('feature_uid_ctr_new.h5', key='data').reset_index(drop=True)\n",
    "feature_member_info=pd.read_hdf('feature_member_info_new.h5', key='data').reset_index(drop=True)\n",
    "feature_invite_time_new=pd.read_hdf('feature_invite_time_new2.h5', key='data').reset_index(drop=True)#######################\n",
    "feature_qidtop_tfidf=pd.read_hdf('feature_qidtop_tfidf.h5', key='data')\n",
    "feature_uq_pagerank=pd.read_hdf('feature_uq_pagerank2.h5', key='data')#######################\n",
    "feature_today_invite=pd.read_hdf('feature_today_invite_new2.h5', key='data').reset_index(drop=True)#######################\n",
    "\n",
    "model3=pd.read_hdf('stackingesim_wnf.h5', key='data').reset_index(drop=True)\n",
    "model4=pd.read_hdf('stackingesim_wnfchar.h5', key='data').reset_index(drop=True)\n",
    "model5=pd.read_hdf('stackinglstur_wnf.h5', key='data').reset_index(drop=True)\n",
    "\n",
    "train=pd.concat([train,\n",
    "                 feature_topic_tfidf.iloc[0:train.shape[0],:],\n",
    "                 feature_topic_w2vdis.iloc[0:train.shape[0],:],\n",
    "                 feature_uid_ctr.iloc[0:train.shape[0],:],\n",
    "                 feature_member_info.iloc[0:train.shape[0],:],\n",
    "                 feature_invite_time_new.iloc[0:train.shape[0],3:],\n",
    "                 feature_qidtop_tfidf.iloc[0:train.shape[0],:],\n",
    "                 feature_uq_pagerank.iloc[0:train.shape[0],:],\n",
    "                 feature_today_invite.iloc[0:train.shape[0],:],\n",
    "                 model3.iloc[0:train.shape[0],:],\n",
    "                 model4.iloc[0:train.shape[0],:],\n",
    "                 model5.iloc[0:train.shape[0],:],\n",
    "\n",
    "                 \n",
    "                ],axis=1)\n",
    "test=pd.concat([test,\n",
    "                feature_topic_tfidf.iloc[train.shape[0]:,:].reset_index(drop=True),\n",
    "                feature_topic_w2vdis.iloc[train.shape[0]:,:].reset_index(drop=True),\n",
    "                feature_uid_ctr.iloc[train.shape[0]:,:].reset_index(drop=True),\n",
    "                feature_member_info.iloc[train.shape[0]:,:].reset_index(drop=True),\n",
    "                feature_invite_time_new.iloc[train.shape[0]:,3:].reset_index(drop=True),\n",
    "                feature_qidtop_tfidf.iloc[train.shape[0]:,:].reset_index(drop=True),\n",
    "                feature_uq_pagerank.iloc[train.shape[0]:,:].reset_index(drop=True),\n",
    "                feature_today_invite.iloc[train.shape[0]:,:].reset_index(drop=True),\n",
    "                model3.iloc[train.shape[0]:,:].reset_index(drop=True),\n",
    "                model4.iloc[train.shape[0]:,:].reset_index(drop=True),\n",
    "                model5.iloc[train.shape[0]:,:].reset_index(drop=True),\n",
    "               ],axis=1)"
   ]
  },
  {
   "cell_type": "code",
   "execution_count": 6,
   "metadata": {},
   "outputs": [
    {
     "data": {
      "text/plain": [
       "90"
      ]
     },
     "execution_count": 6,
     "metadata": {},
     "output_type": "execute_result"
    }
   ],
   "source": [
    "del feature_topic_tfidf,feature_topic_w2vdis,feature_uid_ctr,feature_member_info,feature_qidtop_tfidf,feature_today_invite,feature_invite_time_new\n",
    "del feature_topic_count,u7days_invite_count,model3,model4,model5,feature_uq_pagerank\n",
    "gc.collect()#feature_invite_timefeature_uq_pagerank\n"
   ]
  },
  {
   "cell_type": "code",
   "execution_count": 7,
   "metadata": {},
   "outputs": [],
   "source": [
    "feature_topic_answer=pd.read_hdf('feature_topic_answer.h5', key='data')\n",
    "train=pd.merge(train,feature_topic_answer,how='left',on='qid')\n",
    "test=pd.merge(test,feature_topic_answer,how='left',on='qid')\n",
    "\n",
    "feature_topicn_tongji=pd.read_hdf('feature_topicn_tongji.h5', key='data')\n",
    "train=pd.merge(train,feature_topicn_tongji,how='left',on='uid')\n",
    "test=pd.merge(test,feature_topicn_tongji,how='left',on='uid')\n",
    "\n",
    "feature_uid_embed=pd.read_hdf('feature_uid_embed.h5', key='data')\n",
    "train=pd.merge(train,feature_uid_embed,how='left',on='uid')\n",
    "test=pd.merge(test,feature_uid_embed,how='left',on='uid')\n",
    "\n",
    "\n",
    "feature_weight_vector=pd.read_hdf('feature_weight_vector.h5', key='data')\n",
    "train=pd.merge(train,feature_weight_vector,how='left',on='uid')\n",
    "test=pd.merge(test,feature_weight_vector,how='left',on='uid')"
   ]
  },
  {
   "cell_type": "code",
   "execution_count": 8,
   "metadata": {},
   "outputs": [
    {
     "data": {
      "text/plain": [
       "272"
      ]
     },
     "execution_count": 8,
     "metadata": {},
     "output_type": "execute_result"
    }
   ],
   "source": [
    "del feature_topic_answer,feature_topicn_tongji,feature_uid_embed,feature_weight_vector\n",
    "gc.collect()"
   ]
  },
  {
   "cell_type": "code",
   "execution_count": 9,
   "metadata": {},
   "outputs": [],
   "source": [
    "feature_qtitle_bm25=pd.read_hdf('feature_qtitle_bm25new.h5', key='data').drop_duplicates(['qid','uid'])\n",
    "train=pd.merge(train,feature_qtitle_bm25,how='left',on=['qid','uid'])\n",
    "test=pd.merge(test,feature_qtitle_bm25,how='left',on=['qid','uid'])\n",
    "\n",
    "\n",
    "feature_topic_meta=pd.read_hdf('feature_topic_meta_new.h5', key='data')\n",
    "train=pd.merge(train,feature_topic_meta,how='left',on=['qid','uid'])\n",
    "test=pd.merge(test,feature_topic_meta,how='left',on=['qid','uid'])\n",
    "\n",
    "feature_topic_n_stacking=pd.read_hdf('feature_topic_n_stacking.h5', key='data')\n",
    "train=pd.merge(train,feature_topic_n_stacking,how='left',on=['qid','uid'])\n",
    "test=pd.merge(test,feature_topic_n_stacking,how='left',on=['qid','uid'])\n",
    "\n",
    "feature_answer_base=pd.read_hdf('feature_answer_base2.h5', key='data')\n",
    "train=pd.merge(train,feature_answer_base,how='left',on=['qid','uid'])\n",
    "test=pd.merge(test,feature_answer_base,how='left',on=['qid','uid'])\n",
    "\n",
    "feature_qid_freq=pd.read_hdf('feature_qid_freq2.h5', key='data').drop_duplicates(['qid','uid'])#已校验\n",
    "train=pd.merge(train,feature_qid_freq,how='left',on=['qid','uid'])\n",
    "test=pd.merge(test,feature_qid_freq,how='left',on=['qid','uid'])\n",
    "\n",
    "feature_uid_freq=pd.read_hdf('feature_uid_freq2.h5', key='data').drop_duplicates(['qid','uid'])#已校验\n",
    "train=pd.merge(train,feature_uid_freq,how='left',on=['qid','uid'])\n",
    "test=pd.merge(test,feature_uid_freq,how='left',on=['qid','uid'])"
   ]
  },
  {
   "cell_type": "code",
   "execution_count": 10,
   "metadata": {},
   "outputs": [],
   "source": [
    "feature_qa_count=pd.read_hdf('feature_qa_count.h5', key='data').drop_duplicates(['qid','uid'])\n",
    "train=pd.merge(train,feature_qa_count,how='left',on=['qid','uid'])\n",
    "test=pd.merge(test,feature_qa_count,how='left',on=['qid','uid'])\n",
    "\n",
    "\n",
    "feature_ua_count=pd.read_hdf('feature_ua_count.h5', key='data').drop_duplicates(['qid','uid'])\n",
    "train=pd.merge(train,feature_ua_count,how='left',on=['qid','uid'])\n",
    "test=pd.merge(test,feature_ua_count,how='left',on=['qid','uid'])\n",
    "\n",
    "##########################################################80\n",
    "del feature_qtitle_bm25,feature_topic_meta,feature_topic_n_stacking,feature_answer_base#,feature_qa_count,feature_ua_count\n",
    "gc.collect()\n",
    "\n",
    "feature_Stime_history=pd.read_hdf('feature_Stime_history.h5', key='data').drop_duplicates(['qid','uid'])\n",
    "train=pd.merge(train,feature_Stime_history,how='left',on=['qid','uid'])\n",
    "test=pd.merge(test,feature_Stime_history,how='left',on=['qid','uid'])\n",
    "\n",
    "feature_yesterday_invite=pd.read_hdf('feature_yesterday_invite2.h5', key='data').drop_duplicates(['qid','uid'])########\n",
    "train=pd.merge(train,feature_yesterday_invite,how='left',on=['qid','uid'])\n",
    "test=pd.merge(test,feature_yesterday_invite,how='left',on=['qid','uid'])\n",
    "\n",
    "feature_qid_topic_uid_count=pd.read_hdf('feature_qid_topic_uid_count.h5', key='data')\n",
    "train=pd.merge(train,feature_qid_topic_uid_count,how='left',on='qid')\n",
    "test=pd.merge(test,feature_qid_topic_uid_count,how='left',on='qid')\n",
    "\n"
   ]
  },
  {
   "cell_type": "code",
   "execution_count": 11,
   "metadata": {},
   "outputs": [
    {
     "data": {
      "text/plain": [
       "126"
      ]
     },
     "execution_count": 11,
     "metadata": {},
     "output_type": "execute_result"
    }
   ],
   "source": [
    "feature_uid_topic_qid_count=pd.read_hdf('feature_uid_topic_qid_count.h5', key='data')\n",
    "train=pd.merge(train,feature_uid_topic_qid_count,how='left',on='uid')\n",
    "test=pd.merge(test,feature_uid_topic_qid_count,how='left',on='uid')\n",
    "\n",
    "feature_atime_new=pd.read_hdf('feature_atime_new.h5', key='data')\n",
    "train=pd.merge(train,feature_atime_new,how='left',on=['qid','uid'])\n",
    "test=pd.merge(test,feature_atime_new,how='left',on=['qid','uid'])\n",
    "\n",
    "u7days_invite_count=pd.read_hdf('u7days_invite_count2.h5', key='data')\n",
    "train=pd.merge(train,u7days_invite_count,how='left',on=['qid','uid'])\n",
    "test=pd.merge(test,u7days_invite_count,how='left',on=['qid','uid'])\n",
    "\n",
    "del feature_Stime_history,feature_yesterday_invite,feature_qid_topic_uid_count,feature_uid_topic_qid_count,feature_atime_new\n",
    "del u7days_invite_count\n",
    "gc.collect()"
   ]
  },
  {
   "cell_type": "code",
   "execution_count": 12,
   "metadata": {},
   "outputs": [],
   "source": [
    "feature_intime_gap=pd.read_hdf('feature_intime_gap2.h5', key='data')###################\n",
    "train=pd.merge(train,feature_intime_gap,how='left',on='uid')\n",
    "test=pd.merge(test,feature_intime_gap,how='left',on='uid')\n",
    "\n",
    "feature_qintime_gap=pd.read_hdf('feature_qintime_gap2.h5', key='data')#################\n",
    "train=pd.merge(train,feature_qintime_gap,how='left',on='qid')\n",
    "test=pd.merge(test,feature_qintime_gap,how='left',on='qid')"
   ]
  },
  {
   "cell_type": "code",
   "execution_count": 13,
   "metadata": {},
   "outputs": [
    {
     "data": {
      "text/plain": [
       "62"
      ]
     },
     "execution_count": 13,
     "metadata": {},
     "output_type": "execute_result"
    }
   ],
   "source": [
    "del feature_intime_gap,feature_qintime_gap\n",
    "gc.collect()"
   ]
  },
  {
   "cell_type": "code",
   "execution_count": 14,
   "metadata": {},
   "outputs": [
    {
     "data": {
      "text/plain": [
       "10630880"
      ]
     },
     "execution_count": 14,
     "metadata": {},
     "output_type": "execute_result"
    }
   ],
   "source": [
    "len(train)+len(test)"
   ]
  },
  {
   "cell_type": "code",
   "execution_count": 15,
   "metadata": {},
   "outputs": [
    {
     "data": {
      "text/plain": [
       "(9489162, 331)"
      ]
     },
     "execution_count": 15,
     "metadata": {},
     "output_type": "execute_result"
    }
   ],
   "source": [
    "train.shape"
   ]
  },
  {
   "cell_type": "code",
   "execution_count": 16,
   "metadata": {},
   "outputs": [
    {
     "data": {
      "text/plain": [
       "(1141718, 330)"
      ]
     },
     "execution_count": 16,
     "metadata": {},
     "output_type": "execute_result"
    }
   ],
   "source": [
    "test.shape"
   ]
  },
  {
   "cell_type": "code",
   "execution_count": 17,
   "metadata": {},
   "outputs": [],
   "source": [
    "test = test.drop(['uid','qid'], axis=1)\n",
    "train = train.drop(['target', 'uid','qid'], axis=1)"
   ]
  },
  {
   "cell_type": "code",
   "execution_count": 18,
   "metadata": {},
   "outputs": [
    {
     "data": {
      "text/plain": [
       "(1141718, 328)"
      ]
     },
     "execution_count": 18,
     "metadata": {},
     "output_type": "execute_result"
    }
   ],
   "source": [
    "test.shape"
   ]
  },
  {
   "cell_type": "code",
   "execution_count": 19,
   "metadata": {},
   "outputs": [
    {
     "data": {
      "text/plain": [
       "(9489162, 328)"
      ]
     },
     "execution_count": 19,
     "metadata": {},
     "output_type": "execute_result"
    }
   ],
   "source": [
    "train.shape"
   ]
  },
  {
   "cell_type": "code",
   "execution_count": 20,
   "metadata": {},
   "outputs": [],
   "source": [
    "param = {'num_leaves': 100,\n",
    "         'objective':'binary',\n",
    "         'learning_rate': 0.05,        \n",
    "         \"boosting\": \"gbdt\",\n",
    "         \"feature_fraction\": 0.8,\n",
    "         \"bagging_freq\": 1,\n",
    "         \"bagging_fraction\": 0.8 ,\n",
    "         \"bagging_seed\": 11,\n",
    "         \"metric\": 'auc',\n",
    "         \"lambda_l1\": 0.1,\n",
    "         \"random_state\": 133,\n",
    "         \"verbosity\": -1,\n",
    "         \"num_threads\" : -1,\n",
    "#          'device': 'gpu',\n",
    "#          'gpu_platform_id': 0,\n",
    "#          'gpu_device_id': 0\n",
    "         }"
   ]
  },
  {
   "cell_type": "code",
   "execution_count": 21,
   "metadata": {},
   "outputs": [],
   "source": [
    "cat_col=['sex','look_freq','a','b','c','d','e','A','B','C','D','E']"
   ]
  },
  {
   "cell_type": "code",
   "execution_count": 22,
   "metadata": {},
   "outputs": [],
   "source": [
    "from sklearn.model_selection import KFold,StratifiedKFold,GroupKFold,RepeatedKFold\n",
    "#folds = GroupKFold(n_splits=5)\n",
    "folds = KFold(n_splits=5, shuffle=True, random_state=15)\n",
    "feature_importance_df = pd.DataFrame()\n",
    "predictions=np.zeros([len(test),1])\n",
    "stack_train = np.zeros((len(train),1))\n",
    "stack_test = np.zeros((len(test),1))"
   ]
  },
  {
   "cell_type": "code",
   "execution_count": 23,
   "metadata": {
    "scrolled": true
   },
   "outputs": [
    {
     "name": "stdout",
     "output_type": "stream",
     "text": [
      "fold n°0\n"
     ]
    },
    {
     "name": "stderr",
     "output_type": "stream",
     "text": [
      "/root/anaconda3/lib/python3.7/site-packages/lightgbm/basic.py:1291: UserWarning: Using categorical_feature in Dataset.\n",
      "  warnings.warn('Using categorical_feature in Dataset.')\n"
     ]
    },
    {
     "name": "stdout",
     "output_type": "stream",
     "text": [
      "Training until validation scores don't improve for 100 rounds\n",
      "[100]\ttraining's auc: 0.872295\tvalid_1's auc: 0.87151\n",
      "[200]\ttraining's auc: 0.881837\tvalid_1's auc: 0.879526\n",
      "[300]\ttraining's auc: 0.887201\tvalid_1's auc: 0.882727\n",
      "[400]\ttraining's auc: 0.891128\tvalid_1's auc: 0.884522\n",
      "[500]\ttraining's auc: 0.894225\tvalid_1's auc: 0.88561\n",
      "[600]\ttraining's auc: 0.896841\tvalid_1's auc: 0.886417\n",
      "[700]\ttraining's auc: 0.899061\tvalid_1's auc: 0.886997\n",
      "[800]\ttraining's auc: 0.901049\tvalid_1's auc: 0.887506\n",
      "[900]\ttraining's auc: 0.902874\tvalid_1's auc: 0.88791\n",
      "[1000]\ttraining's auc: 0.904449\tvalid_1's auc: 0.888166\n",
      "[1100]\ttraining's auc: 0.905847\tvalid_1's auc: 0.888367\n",
      "[1200]\ttraining's auc: 0.907206\tvalid_1's auc: 0.88858\n",
      "[1300]\ttraining's auc: 0.908469\tvalid_1's auc: 0.888729\n",
      "[1400]\ttraining's auc: 0.909593\tvalid_1's auc: 0.88886\n",
      "[1500]\ttraining's auc: 0.910773\tvalid_1's auc: 0.888989\n",
      "[1600]\ttraining's auc: 0.911841\tvalid_1's auc: 0.889129\n",
      "[1700]\ttraining's auc: 0.912949\tvalid_1's auc: 0.889232\n",
      "[1800]\ttraining's auc: 0.913994\tvalid_1's auc: 0.88934\n",
      "[1900]\ttraining's auc: 0.914975\tvalid_1's auc: 0.889449\n",
      "[2000]\ttraining's auc: 0.915891\tvalid_1's auc: 0.889528\n",
      "[2100]\ttraining's auc: 0.916777\tvalid_1's auc: 0.889586\n",
      "[2200]\ttraining's auc: 0.917626\tvalid_1's auc: 0.889657\n",
      "[2300]\ttraining's auc: 0.918509\tvalid_1's auc: 0.889751\n",
      "[2400]\ttraining's auc: 0.919331\tvalid_1's auc: 0.889794\n",
      "[2500]\ttraining's auc: 0.920145\tvalid_1's auc: 0.889836\n",
      "[2600]\ttraining's auc: 0.920888\tvalid_1's auc: 0.889875\n",
      "[2700]\ttraining's auc: 0.92167\tvalid_1's auc: 0.889947\n",
      "[2800]\ttraining's auc: 0.922426\tvalid_1's auc: 0.889998\n",
      "[2900]\ttraining's auc: 0.923124\tvalid_1's auc: 0.890043\n",
      "[3000]\ttraining's auc: 0.923861\tvalid_1's auc: 0.89008\n",
      "[3100]\ttraining's auc: 0.924565\tvalid_1's auc: 0.890113\n",
      "[3200]\ttraining's auc: 0.925244\tvalid_1's auc: 0.890153\n",
      "[3300]\ttraining's auc: 0.925931\tvalid_1's auc: 0.890192\n",
      "[3400]\ttraining's auc: 0.926632\tvalid_1's auc: 0.890253\n",
      "[3500]\ttraining's auc: 0.927298\tvalid_1's auc: 0.890268\n",
      "Early stopping, best iteration is:\n",
      "[3438]\ttraining's auc: 0.926903\tvalid_1's auc: 0.890272\n",
      "fold n°1\n",
      "Training until validation scores don't improve for 100 rounds\n",
      "[100]\ttraining's auc: 0.87224\tvalid_1's auc: 0.871768\n",
      "[200]\ttraining's auc: 0.881808\tvalid_1's auc: 0.87988\n",
      "[300]\ttraining's auc: 0.887184\tvalid_1's auc: 0.88314\n",
      "[400]\ttraining's auc: 0.890978\tvalid_1's auc: 0.884783\n",
      "[500]\ttraining's auc: 0.894113\tvalid_1's auc: 0.885918\n",
      "[600]\ttraining's auc: 0.896736\tvalid_1's auc: 0.886778\n",
      "[700]\ttraining's auc: 0.898959\tvalid_1's auc: 0.887367\n",
      "[800]\ttraining's auc: 0.900945\tvalid_1's auc: 0.887868\n",
      "[900]\ttraining's auc: 0.902716\tvalid_1's auc: 0.888204\n",
      "[1000]\ttraining's auc: 0.904377\tvalid_1's auc: 0.888517\n",
      "[1100]\ttraining's auc: 0.905868\tvalid_1's auc: 0.88875\n",
      "[1200]\ttraining's auc: 0.907215\tvalid_1's auc: 0.888968\n",
      "[1300]\ttraining's auc: 0.90849\tvalid_1's auc: 0.88913\n",
      "[1400]\ttraining's auc: 0.909702\tvalid_1's auc: 0.889265\n",
      "[1500]\ttraining's auc: 0.910867\tvalid_1's auc: 0.88942\n",
      "[1600]\ttraining's auc: 0.911963\tvalid_1's auc: 0.889544\n",
      "[1700]\ttraining's auc: 0.912989\tvalid_1's auc: 0.889618\n",
      "[1800]\ttraining's auc: 0.914003\tvalid_1's auc: 0.88971\n",
      "[1900]\ttraining's auc: 0.914985\tvalid_1's auc: 0.889797\n",
      "[2000]\ttraining's auc: 0.915943\tvalid_1's auc: 0.889884\n",
      "[2100]\ttraining's auc: 0.916835\tvalid_1's auc: 0.889958\n",
      "[2200]\ttraining's auc: 0.917691\tvalid_1's auc: 0.89001\n",
      "[2300]\ttraining's auc: 0.918547\tvalid_1's auc: 0.890061\n",
      "[2400]\ttraining's auc: 0.919384\tvalid_1's auc: 0.890125\n",
      "[2500]\ttraining's auc: 0.920225\tvalid_1's auc: 0.890198\n",
      "[2600]\ttraining's auc: 0.92103\tvalid_1's auc: 0.890228\n",
      "[2700]\ttraining's auc: 0.921772\tvalid_1's auc: 0.89026\n",
      "[2800]\ttraining's auc: 0.922508\tvalid_1's auc: 0.890292\n",
      "[2900]\ttraining's auc: 0.92327\tvalid_1's auc: 0.890339\n",
      "[3000]\ttraining's auc: 0.924033\tvalid_1's auc: 0.890376\n",
      "[3100]\ttraining's auc: 0.924713\tvalid_1's auc: 0.890398\n",
      "[3200]\ttraining's auc: 0.925396\tvalid_1's auc: 0.890427\n",
      "[3300]\ttraining's auc: 0.926068\tvalid_1's auc: 0.890453\n",
      "[3400]\ttraining's auc: 0.926754\tvalid_1's auc: 0.890491\n",
      "[3500]\ttraining's auc: 0.927452\tvalid_1's auc: 0.890521\n",
      "[3600]\ttraining's auc: 0.928083\tvalid_1's auc: 0.890561\n",
      "[3700]\ttraining's auc: 0.928703\tvalid_1's auc: 0.890582\n",
      "[3800]\ttraining's auc: 0.929352\tvalid_1's auc: 0.890614\n",
      "[3900]\ttraining's auc: 0.929978\tvalid_1's auc: 0.890624\n",
      "[4000]\ttraining's auc: 0.930585\tvalid_1's auc: 0.89065\n",
      "[4100]\ttraining's auc: 0.931176\tvalid_1's auc: 0.890661\n",
      "[4200]\ttraining's auc: 0.931768\tvalid_1's auc: 0.8907\n",
      "[4300]\ttraining's auc: 0.932376\tvalid_1's auc: 0.890722\n",
      "[4400]\ttraining's auc: 0.932969\tvalid_1's auc: 0.890743\n",
      "[4500]\ttraining's auc: 0.933514\tvalid_1's auc: 0.890763\n",
      "[4600]\ttraining's auc: 0.934068\tvalid_1's auc: 0.890774\n",
      "[4700]\ttraining's auc: 0.934636\tvalid_1's auc: 0.890811\n",
      "[4800]\ttraining's auc: 0.935195\tvalid_1's auc: 0.890827\n",
      "[4900]\ttraining's auc: 0.935699\tvalid_1's auc: 0.890842\n",
      "[5000]\ttraining's auc: 0.936255\tvalid_1's auc: 0.890854\n",
      "[5100]\ttraining's auc: 0.936755\tvalid_1's auc: 0.890856\n",
      "[5200]\ttraining's auc: 0.937255\tvalid_1's auc: 0.89087\n",
      "[5300]\ttraining's auc: 0.937775\tvalid_1's auc: 0.890905\n",
      "[5400]\ttraining's auc: 0.938277\tvalid_1's auc: 0.890934\n",
      "[5500]\ttraining's auc: 0.938764\tvalid_1's auc: 0.890956\n",
      "[5600]\ttraining's auc: 0.939238\tvalid_1's auc: 0.890953\n",
      "Early stopping, best iteration is:\n",
      "[5514]\ttraining's auc: 0.938834\tvalid_1's auc: 0.890969\n",
      "fold n°2\n",
      "Training until validation scores don't improve for 100 rounds\n",
      "[100]\ttraining's auc: 0.872192\tvalid_1's auc: 0.871486\n",
      "[200]\ttraining's auc: 0.881784\tvalid_1's auc: 0.87958\n",
      "[300]\ttraining's auc: 0.887155\tvalid_1's auc: 0.882805\n",
      "[400]\ttraining's auc: 0.89103\tvalid_1's auc: 0.884517\n",
      "[500]\ttraining's auc: 0.894057\tvalid_1's auc: 0.885545\n",
      "[600]\ttraining's auc: 0.89676\tvalid_1's auc: 0.886413\n",
      "[700]\ttraining's auc: 0.899048\tvalid_1's auc: 0.88704\n",
      "[800]\ttraining's auc: 0.901054\tvalid_1's auc: 0.887553\n",
      "[900]\ttraining's auc: 0.902891\tvalid_1's auc: 0.887937\n"
     ]
    },
    {
     "ename": "KeyboardInterrupt",
     "evalue": "",
     "output_type": "error",
     "traceback": [
      "\u001b[0;31m---------------------------------------------------------------------------\u001b[0m",
      "\u001b[0;31mKeyboardInterrupt\u001b[0m                         Traceback (most recent call last)",
      "\u001b[0;32m<ipython-input-23-3dd812ba0cb2>\u001b[0m in \u001b[0;36m<module>\u001b[0;34m\u001b[0m\n\u001b[1;32m     17\u001b[0m                     \u001b[0mvalid_sets\u001b[0m\u001b[0;34m=\u001b[0m\u001b[0;34m[\u001b[0m\u001b[0mtrn_data\u001b[0m\u001b[0;34m,\u001b[0m \u001b[0mval_data\u001b[0m\u001b[0;34m]\u001b[0m\u001b[0;34m,\u001b[0m\u001b[0;34m\u001b[0m\u001b[0;34m\u001b[0m\u001b[0m\n\u001b[1;32m     18\u001b[0m                     \u001b[0mverbose_eval\u001b[0m\u001b[0;34m=\u001b[0m\u001b[0;36m100\u001b[0m\u001b[0;34m,\u001b[0m\u001b[0;34m\u001b[0m\u001b[0;34m\u001b[0m\u001b[0m\n\u001b[0;32m---> 19\u001b[0;31m                     early_stopping_rounds=100)\n\u001b[0m\u001b[1;32m     20\u001b[0m     \u001b[0mstack_train\u001b[0m\u001b[0;34m[\u001b[0m\u001b[0mval_idx\u001b[0m\u001b[0;34m,\u001b[0m \u001b[0;34m:\u001b[0m\u001b[0;34m]\u001b[0m \u001b[0;34m=\u001b[0m\u001b[0mclf\u001b[0m\u001b[0;34m.\u001b[0m\u001b[0mpredict\u001b[0m\u001b[0;34m(\u001b[0m\u001b[0mtrain\u001b[0m\u001b[0;34m.\u001b[0m\u001b[0miloc\u001b[0m\u001b[0;34m[\u001b[0m\u001b[0mval_idx\u001b[0m\u001b[0;34m]\u001b[0m\u001b[0;34m,\u001b[0m \u001b[0mnum_iteration\u001b[0m\u001b[0;34m=\u001b[0m\u001b[0mclf\u001b[0m\u001b[0;34m.\u001b[0m\u001b[0mbest_iteration\u001b[0m\u001b[0;34m)\u001b[0m\u001b[0;34m.\u001b[0m\u001b[0mreshape\u001b[0m\u001b[0;34m(\u001b[0m\u001b[0;34m-\u001b[0m\u001b[0;36m1\u001b[0m\u001b[0;34m,\u001b[0m\u001b[0;36m1\u001b[0m\u001b[0;34m)\u001b[0m\u001b[0;34m\u001b[0m\u001b[0;34m\u001b[0m\u001b[0m\n\u001b[1;32m     21\u001b[0m     \u001b[0mstack_test\u001b[0m \u001b[0;34m+=\u001b[0m \u001b[0mclf\u001b[0m\u001b[0;34m.\u001b[0m\u001b[0mpredict\u001b[0m\u001b[0;34m(\u001b[0m\u001b[0mtest\u001b[0m\u001b[0;34m,\u001b[0m \u001b[0mnum_iteration\u001b[0m\u001b[0;34m=\u001b[0m\u001b[0mclf\u001b[0m\u001b[0;34m.\u001b[0m\u001b[0mbest_iteration\u001b[0m\u001b[0;34m)\u001b[0m\u001b[0;34m.\u001b[0m\u001b[0mreshape\u001b[0m\u001b[0;34m(\u001b[0m\u001b[0;34m-\u001b[0m\u001b[0;36m1\u001b[0m\u001b[0;34m,\u001b[0m\u001b[0;36m1\u001b[0m\u001b[0;34m)\u001b[0m\u001b[0;34m\u001b[0m\u001b[0;34m\u001b[0m\u001b[0m\n",
      "\u001b[0;32m~/anaconda3/lib/python3.7/site-packages/lightgbm/engine.py\u001b[0m in \u001b[0;36mtrain\u001b[0;34m(params, train_set, num_boost_round, valid_sets, valid_names, fobj, feval, init_model, feature_name, categorical_feature, early_stopping_rounds, evals_result, verbose_eval, learning_rates, keep_training_booster, callbacks)\u001b[0m\n\u001b[1;32m    247\u001b[0m                                     evaluation_result_list=None))\n\u001b[1;32m    248\u001b[0m \u001b[0;34m\u001b[0m\u001b[0m\n\u001b[0;32m--> 249\u001b[0;31m         \u001b[0mbooster\u001b[0m\u001b[0;34m.\u001b[0m\u001b[0mupdate\u001b[0m\u001b[0;34m(\u001b[0m\u001b[0mfobj\u001b[0m\u001b[0;34m=\u001b[0m\u001b[0mfobj\u001b[0m\u001b[0;34m)\u001b[0m\u001b[0;34m\u001b[0m\u001b[0;34m\u001b[0m\u001b[0m\n\u001b[0m\u001b[1;32m    250\u001b[0m \u001b[0;34m\u001b[0m\u001b[0m\n\u001b[1;32m    251\u001b[0m         \u001b[0mevaluation_result_list\u001b[0m \u001b[0;34m=\u001b[0m \u001b[0;34m[\u001b[0m\u001b[0;34m]\u001b[0m\u001b[0;34m\u001b[0m\u001b[0;34m\u001b[0m\u001b[0m\n",
      "\u001b[0;32m~/anaconda3/lib/python3.7/site-packages/lightgbm/basic.py\u001b[0m in \u001b[0;36mupdate\u001b[0;34m(self, train_set, fobj)\u001b[0m\n\u001b[1;32m   1974\u001b[0m             _safe_call(_LIB.LGBM_BoosterUpdateOneIter(\n\u001b[1;32m   1975\u001b[0m                 \u001b[0mself\u001b[0m\u001b[0;34m.\u001b[0m\u001b[0mhandle\u001b[0m\u001b[0;34m,\u001b[0m\u001b[0;34m\u001b[0m\u001b[0;34m\u001b[0m\u001b[0m\n\u001b[0;32m-> 1976\u001b[0;31m                 ctypes.byref(is_finished)))\n\u001b[0m\u001b[1;32m   1977\u001b[0m             \u001b[0mself\u001b[0m\u001b[0;34m.\u001b[0m\u001b[0m__is_predicted_cur_iter\u001b[0m \u001b[0;34m=\u001b[0m \u001b[0;34m[\u001b[0m\u001b[0;32mFalse\u001b[0m \u001b[0;32mfor\u001b[0m \u001b[0m_\u001b[0m \u001b[0;32min\u001b[0m \u001b[0mrange_\u001b[0m\u001b[0;34m(\u001b[0m\u001b[0mself\u001b[0m\u001b[0;34m.\u001b[0m\u001b[0m__num_dataset\u001b[0m\u001b[0;34m)\u001b[0m\u001b[0;34m]\u001b[0m\u001b[0;34m\u001b[0m\u001b[0;34m\u001b[0m\u001b[0m\n\u001b[1;32m   1978\u001b[0m             \u001b[0;32mreturn\u001b[0m \u001b[0mis_finished\u001b[0m\u001b[0;34m.\u001b[0m\u001b[0mvalue\u001b[0m \u001b[0;34m==\u001b[0m \u001b[0;36m1\u001b[0m\u001b[0;34m\u001b[0m\u001b[0;34m\u001b[0m\u001b[0m\n",
      "\u001b[0;31mKeyboardInterrupt\u001b[0m: "
     ]
    }
   ],
   "source": [
    "for fold_, (trn_idx, val_idx) in enumerate(folds.split( target.values)):\n",
    "#for fold_, (trn_idx, val_idx) in enumerate(folds.split(stack_train, target,groups=uid['uid'])):\n",
    "    print(\"fold n°{}\".format(fold_))\n",
    "    trn_data = lgb.Dataset(train.iloc[trn_idx],\n",
    "                           label=target.iloc[trn_idx],\n",
    "                           categorical_feature=cat_col\n",
    "                           )\n",
    "    val_data = lgb.Dataset(train.iloc[val_idx],\n",
    "                           label=target.iloc[val_idx],\n",
    "                           categorical_feature=cat_col\n",
    "                           )\n",
    "\n",
    "    num_round = 10000\n",
    "    clf = lgb.train(param,\n",
    "                    trn_data,\n",
    "                    num_round,\n",
    "                    valid_sets=[trn_data, val_data],\n",
    "                    verbose_eval=100,\n",
    "                    early_stopping_rounds=100)\n",
    "    stack_train[val_idx, :] =clf.predict(train.iloc[val_idx], num_iteration=clf.best_iteration).reshape(-1,1)\n",
    "    stack_test += clf.predict(test, num_iteration=clf.best_iteration).reshape(-1,1)\n",
    "    if fold_==1:\n",
    "        break"
   ]
  },
  {
   "cell_type": "code",
   "execution_count": 25,
   "metadata": {},
   "outputs": [],
   "source": [
    "stack_test/=2"
   ]
  },
  {
   "cell_type": "code",
   "execution_count": 27,
   "metadata": {},
   "outputs": [
    {
     "data": {
      "text/plain": [
       "0.16565486133338583"
      ]
     },
     "execution_count": 27,
     "metadata": {},
     "output_type": "execute_result"
    }
   ],
   "source": [
    "stack_test.mean()"
   ]
  },
  {
   "cell_type": "code",
   "execution_count": 28,
   "metadata": {},
   "outputs": [],
   "source": [
    "test_id=pd.read_csv('invite_info_evaluate_2_0926.txt',sep='\\s+',names=['qid','uid','time'])\n",
    "test_id['target']=stack_test\n",
    "test_id.to_csv('finallgb.txt',index=False, sep='\\t',header=None)"
   ]
  },
  {
   "cell_type": "code",
   "execution_count": null,
   "metadata": {},
   "outputs": [],
   "source": []
  }
 ],
 "metadata": {
  "kernelspec": {
   "display_name": "Python 3",
   "language": "python",
   "name": "python3"
  },
  "language_info": {
   "codemirror_mode": {
    "name": "ipython",
    "version": 3
   },
   "file_extension": ".py",
   "mimetype": "text/x-python",
   "name": "python",
   "nbconvert_exporter": "python",
   "pygments_lexer": "ipython3",
   "version": "3.6.7"
  }
 },
 "nbformat": 4,
 "nbformat_minor": 2
}
