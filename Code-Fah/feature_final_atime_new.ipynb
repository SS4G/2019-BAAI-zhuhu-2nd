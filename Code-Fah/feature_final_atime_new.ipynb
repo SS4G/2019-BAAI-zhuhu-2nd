{
 "cells": [
  {
   "cell_type": "code",
   "execution_count": 2,
   "metadata": {},
   "outputs": [],
   "source": [
    "import pandas as pd\n",
    "\n",
    "answer_info=pd.read_csv('answer_info.txt',sep='\\s+',names=['aid','qid','uid','atime','ainfo','ainfoc','fine',\n",
    "                                                                 'recommend','table','picture','video','numword',\n",
    "                                                                 'thumbsup','thumbsdown','comment','collect','thank',\n",
    "                                                                 'report','nohelp','oppose'])\n",
    "ques_info=pd.read_csv('question_info.txt',sep='\\s+',names=['qid','qtime','qtitle','qtitlec','qinfo','qinfoc','qtopic'])"
   ]
  },
  {
   "cell_type": "code",
   "execution_count": 3,
   "metadata": {},
   "outputs": [],
   "source": [
    "train=pd.read_csv('invite_info.txt',sep='\\s+',names=['qid','uid','time','target'])\n",
    "test=pd.read_csv('invite_info_evaluate_2_0926.txt',sep='\\s+',names=['qid','uid','time'])"
   ]
  },
  {
   "cell_type": "code",
   "execution_count": 4,
   "metadata": {},
   "outputs": [],
   "source": [
    "a2=train[train['target']==1]"
   ]
  },
  {
   "cell_type": "code",
   "execution_count": 5,
   "metadata": {
    "scrolled": true
   },
   "outputs": [],
   "source": [
    "a2=a2[['qid','uid','time']]\n",
    "a2.columns=['qid','uid','atime']"
   ]
  },
  {
   "cell_type": "code",
   "execution_count": 6,
   "metadata": {},
   "outputs": [],
   "source": [
    "answer_info=answer_info[['aid','qid','uid','atime']]"
   ]
  },
  {
   "cell_type": "code",
   "execution_count": 7,
   "metadata": {},
   "outputs": [
    {
     "name": "stderr",
     "output_type": "stream",
     "text": [
      "/root/anaconda3/lib/python3.7/site-packages/ipykernel_launcher.py:1: FutureWarning: Sorting because non-concatenation axis is not aligned. A future version\n",
      "of pandas will change to not sort by default.\n",
      "\n",
      "To accept the future behavior, pass 'sort=False'.\n",
      "\n",
      "To retain the current behavior and silence the warning, pass 'sort=True'.\n",
      "\n",
      "  \"\"\"Entry point for launching an IPython kernel.\n"
     ]
    }
   ],
   "source": [
    "answer_info=pd.concat([answer_info,a2])"
   ]
  },
  {
   "cell_type": "code",
   "execution_count": 8,
   "metadata": {
    "scrolled": true
   },
   "outputs": [],
   "source": [
    "answer_info.drop(['aid'],axis=1,inplace=True)"
   ]
  },
  {
   "cell_type": "code",
   "execution_count": 9,
   "metadata": {
    "scrolled": true
   },
   "outputs": [],
   "source": [
    "answer_info=answer_info.drop_duplicates(subset=['uid','qid'])"
   ]
  },
  {
   "cell_type": "code",
   "execution_count": 10,
   "metadata": {},
   "outputs": [],
   "source": [
    "from tqdm import tqdm \n",
    "tqdm.pandas()"
   ]
  },
  {
   "cell_type": "code",
   "execution_count": 11,
   "metadata": {},
   "outputs": [],
   "source": [
    "ques_info=ques_info[['qid','qtime']]"
   ]
  },
  {
   "cell_type": "code",
   "execution_count": 12,
   "metadata": {
    "scrolled": true
   },
   "outputs": [],
   "source": [
    "answer_info=pd.merge(answer_info,ques_info,how='left',on='qid')"
   ]
  },
  {
   "cell_type": "code",
   "execution_count": 13,
   "metadata": {},
   "outputs": [],
   "source": [
    "def time_(x):\n",
    "    temp=x[1:].split('-H')\n",
    "    return int(temp[0])*24+int(temp[1])"
   ]
  },
  {
   "cell_type": "code",
   "execution_count": 14,
   "metadata": {
    "scrolled": true
   },
   "outputs": [
    {
     "name": "stderr",
     "output_type": "stream",
     "text": [
      "100%|██████████| 4694586/4694586 [00:09<00:00, 471301.99it/s]\n",
      "100%|██████████| 4694586/4694586 [00:10<00:00, 449593.22it/s]\n",
      "100%|██████████| 4694586/4694586 [00:11<00:00, 425489.38it/s]\n",
      "100%|██████████| 4694586/4694586 [00:06<00:00, 676573.45it/s]\n",
      "100%|██████████| 4694586/4694586 [00:10<00:00, 447550.81it/s]\n",
      "100%|██████████| 4694586/4694586 [00:10<00:00, 437865.22it/s]\n",
      "100%|██████████| 4694586/4694586 [00:11<00:00, 399523.34it/s]\n",
      "100%|██████████| 4694586/4694586 [00:07<00:00, 639143.30it/s]\n"
     ]
    }
   ],
   "source": [
    "answer_info['aday']=answer_info['atime'].progress_apply(lambda x:int(x[1:].split('-H')[0]))\n",
    "answer_info['ahour']=answer_info['atime'].progress_apply(lambda x:int(x[1:].split('-H')[1]))\n",
    "answer_info['atime']=answer_info['atime'].progress_apply(lambda x:time_(x))\n",
    "answer_info['aweek']=answer_info['aday'].progress_apply(lambda x:x%7)\n",
    "\n",
    "answer_info['qday']=answer_info['qtime'].progress_apply(lambda x:int(x[1:].split('-H')[0]))\n",
    "answer_info['qhour']=answer_info['qtime'].progress_apply(lambda x:int(x[1:].split('-H')[1]))\n",
    "answer_info['qtime']=answer_info['qtime'].progress_apply(lambda x:time_(x))\n",
    "answer_info['qweek']=answer_info['qday'].progress_apply(lambda x:x%7)\n"
   ]
  },
  {
   "cell_type": "code",
   "execution_count": 15,
   "metadata": {},
   "outputs": [
    {
     "data": {
      "text/html": [
       "<div>\n",
       "<style scoped>\n",
       "    .dataframe tbody tr th:only-of-type {\n",
       "        vertical-align: middle;\n",
       "    }\n",
       "\n",
       "    .dataframe tbody tr th {\n",
       "        vertical-align: top;\n",
       "    }\n",
       "\n",
       "    .dataframe thead th {\n",
       "        text-align: right;\n",
       "    }\n",
       "</style>\n",
       "<table border=\"1\" class=\"dataframe\">\n",
       "  <thead>\n",
       "    <tr style=\"text-align: right;\">\n",
       "      <th></th>\n",
       "      <th>atime</th>\n",
       "      <th>qid</th>\n",
       "      <th>uid</th>\n",
       "      <th>qtime</th>\n",
       "      <th>aday</th>\n",
       "      <th>ahour</th>\n",
       "      <th>aweek</th>\n",
       "      <th>qday</th>\n",
       "      <th>qhour</th>\n",
       "      <th>qweek</th>\n",
       "    </tr>\n",
       "  </thead>\n",
       "  <tbody>\n",
       "    <tr>\n",
       "      <th>0</th>\n",
       "      <td>91399</td>\n",
       "      <td>Q1867533817</td>\n",
       "      <td>M625498202</td>\n",
       "      <td>91365</td>\n",
       "      <td>3808</td>\n",
       "      <td>7</td>\n",
       "      <td>0</td>\n",
       "      <td>3806</td>\n",
       "      <td>21</td>\n",
       "      <td>5</td>\n",
       "    </tr>\n",
       "    <tr>\n",
       "      <th>1</th>\n",
       "      <td>91457</td>\n",
       "      <td>Q3366788616</td>\n",
       "      <td>M142330444</td>\n",
       "      <td>91401</td>\n",
       "      <td>3810</td>\n",
       "      <td>17</td>\n",
       "      <td>2</td>\n",
       "      <td>3808</td>\n",
       "      <td>9</td>\n",
       "      <td>0</td>\n",
       "    </tr>\n",
       "    <tr>\n",
       "      <th>2</th>\n",
       "      <td>92485</td>\n",
       "      <td>Q4264694221</td>\n",
       "      <td>M771499642</td>\n",
       "      <td>92060</td>\n",
       "      <td>3853</td>\n",
       "      <td>13</td>\n",
       "      <td>3</td>\n",
       "      <td>3835</td>\n",
       "      <td>20</td>\n",
       "      <td>6</td>\n",
       "    </tr>\n",
       "    <tr>\n",
       "      <th>3</th>\n",
       "      <td>92634</td>\n",
       "      <td>Q1088851650</td>\n",
       "      <td>M2282072267</td>\n",
       "      <td>78499</td>\n",
       "      <td>3859</td>\n",
       "      <td>18</td>\n",
       "      <td>2</td>\n",
       "      <td>3270</td>\n",
       "      <td>19</td>\n",
       "      <td>1</td>\n",
       "    </tr>\n",
       "    <tr>\n",
       "      <th>4</th>\n",
       "      <td>92542</td>\n",
       "      <td>Q1023877868</td>\n",
       "      <td>M2282072267</td>\n",
       "      <td>92227</td>\n",
       "      <td>3855</td>\n",
       "      <td>22</td>\n",
       "      <td>5</td>\n",
       "      <td>3842</td>\n",
       "      <td>19</td>\n",
       "      <td>6</td>\n",
       "    </tr>\n",
       "  </tbody>\n",
       "</table>\n",
       "</div>"
      ],
      "text/plain": [
       "   atime          qid          uid  qtime  aday  ahour  aweek  qday  qhour  \\\n",
       "0  91399  Q1867533817   M625498202  91365  3808      7      0  3806     21   \n",
       "1  91457  Q3366788616   M142330444  91401  3810     17      2  3808      9   \n",
       "2  92485  Q4264694221   M771499642  92060  3853     13      3  3835     20   \n",
       "3  92634  Q1088851650  M2282072267  78499  3859     18      2  3270     19   \n",
       "4  92542  Q1023877868  M2282072267  92227  3855     22      5  3842     19   \n",
       "\n",
       "   qweek  \n",
       "0      5  \n",
       "1      0  \n",
       "2      6  \n",
       "3      1  \n",
       "4      6  "
      ]
     },
     "execution_count": 15,
     "metadata": {},
     "output_type": "execute_result"
    }
   ],
   "source": [
    "answer_info.head()"
   ]
  },
  {
   "cell_type": "code",
   "execution_count": 16,
   "metadata": {},
   "outputs": [
    {
     "name": "stderr",
     "output_type": "stream",
     "text": [
      "100%|██████████| 10630880/10630880 [00:23<00:00, 458946.41it/s]\n",
      "100%|██████████| 10630880/10630880 [00:23<00:00, 450667.54it/s]\n",
      "100%|██████████| 10630880/10630880 [00:28<00:00, 378099.22it/s]\n",
      "100%|██████████| 10630880/10630880 [00:16<00:00, 645205.73it/s]\n"
     ]
    }
   ],
   "source": [
    "train=pd.read_csv('invite_info.txt',sep='\\s+',names=['qid','uid','time','target'])\n",
    "test=pd.read_csv('invite_info_evaluate_2_0926.txt',sep='\\s+',names=['qid','uid','time'])\n",
    "all_data=pd.concat([train[['qid','uid','time']],test])\n",
    "\n",
    "all_data['iday']=all_data['time'].progress_apply(lambda x:int(x[1:].split('-H')[0]))\n",
    "all_data['ihour']=all_data['time'].progress_apply(lambda x:int(x[1:].split('-H')[1]))\n",
    "all_data['itime']=all_data['time'].progress_apply(lambda x:time_(x))\n",
    "all_data['iweek']=all_data['iday'].progress_apply(lambda x:x%7)"
   ]
  },
  {
   "cell_type": "code",
   "execution_count": 17,
   "metadata": {},
   "outputs": [],
   "source": [
    "all_data.drop(['time'],axis=1,inplace=True)"
   ]
  },
  {
   "cell_type": "code",
   "execution_count": 18,
   "metadata": {
    "scrolled": true
   },
   "outputs": [
    {
     "data": {
      "text/html": [
       "<div>\n",
       "<style scoped>\n",
       "    .dataframe tbody tr th:only-of-type {\n",
       "        vertical-align: middle;\n",
       "    }\n",
       "\n",
       "    .dataframe tbody tr th {\n",
       "        vertical-align: top;\n",
       "    }\n",
       "\n",
       "    .dataframe thead th {\n",
       "        text-align: right;\n",
       "    }\n",
       "</style>\n",
       "<table border=\"1\" class=\"dataframe\">\n",
       "  <thead>\n",
       "    <tr style=\"text-align: right;\">\n",
       "      <th></th>\n",
       "      <th>qid</th>\n",
       "      <th>uid</th>\n",
       "      <th>iday</th>\n",
       "      <th>ihour</th>\n",
       "      <th>itime</th>\n",
       "      <th>iweek</th>\n",
       "    </tr>\n",
       "  </thead>\n",
       "  <tbody>\n",
       "    <tr>\n",
       "      <th>0</th>\n",
       "      <td>Q2166419046</td>\n",
       "      <td>M401693808</td>\n",
       "      <td>3865</td>\n",
       "      <td>22</td>\n",
       "      <td>92782</td>\n",
       "      <td>1</td>\n",
       "    </tr>\n",
       "    <tr>\n",
       "      <th>1</th>\n",
       "      <td>Q1550017551</td>\n",
       "      <td>M3392373099</td>\n",
       "      <td>3844</td>\n",
       "      <td>11</td>\n",
       "      <td>92267</td>\n",
       "      <td>1</td>\n",
       "    </tr>\n",
       "    <tr>\n",
       "      <th>2</th>\n",
       "      <td>Q604029601</td>\n",
       "      <td>M2317670257</td>\n",
       "      <td>3862</td>\n",
       "      <td>15</td>\n",
       "      <td>92703</td>\n",
       "      <td>5</td>\n",
       "    </tr>\n",
       "    <tr>\n",
       "      <th>3</th>\n",
       "      <td>Q2350061229</td>\n",
       "      <td>M1618461867</td>\n",
       "      <td>3849</td>\n",
       "      <td>11</td>\n",
       "      <td>92387</td>\n",
       "      <td>6</td>\n",
       "    </tr>\n",
       "    <tr>\n",
       "      <th>4</th>\n",
       "      <td>Q2443223942</td>\n",
       "      <td>M3544409350</td>\n",
       "      <td>3867</td>\n",
       "      <td>4</td>\n",
       "      <td>92812</td>\n",
       "      <td>3</td>\n",
       "    </tr>\n",
       "  </tbody>\n",
       "</table>\n",
       "</div>"
      ],
      "text/plain": [
       "           qid          uid  iday  ihour  itime  iweek\n",
       "0  Q2166419046   M401693808  3865     22  92782      1\n",
       "1  Q1550017551  M3392373099  3844     11  92267      1\n",
       "2   Q604029601  M2317670257  3862     15  92703      5\n",
       "3  Q2350061229  M1618461867  3849     11  92387      6\n",
       "4  Q2443223942  M3544409350  3867      4  92812      3"
      ]
     },
     "execution_count": 18,
     "metadata": {},
     "output_type": "execute_result"
    }
   ],
   "source": [
    "all_data.head()"
   ]
  },
  {
   "cell_type": "code",
   "execution_count": 19,
   "metadata": {},
   "outputs": [],
   "source": [
    "all_data_uid=pd.merge(all_data,answer_info,on='uid',how='inner')\n",
    "all_data_uid['sub_time']=all_data_uid['itime']-all_data_uid['atime']#邀请时间与之前回答的时间的差值\n",
    "all_data_uid=all_data_uid[all_data_uid['sub_time']>0]"
   ]
  },
  {
   "cell_type": "code",
   "execution_count": 20,
   "metadata": {},
   "outputs": [
    {
     "data": {
      "text/html": [
       "<div>\n",
       "<style scoped>\n",
       "    .dataframe tbody tr th:only-of-type {\n",
       "        vertical-align: middle;\n",
       "    }\n",
       "\n",
       "    .dataframe tbody tr th {\n",
       "        vertical-align: top;\n",
       "    }\n",
       "\n",
       "    .dataframe thead th {\n",
       "        text-align: right;\n",
       "    }\n",
       "</style>\n",
       "<table border=\"1\" class=\"dataframe\">\n",
       "  <thead>\n",
       "    <tr style=\"text-align: right;\">\n",
       "      <th></th>\n",
       "      <th>qid_x</th>\n",
       "      <th>uid</th>\n",
       "      <th>iday</th>\n",
       "      <th>ihour</th>\n",
       "      <th>itime</th>\n",
       "      <th>iweek</th>\n",
       "      <th>atime</th>\n",
       "      <th>qid_y</th>\n",
       "      <th>qtime</th>\n",
       "      <th>aday</th>\n",
       "      <th>ahour</th>\n",
       "      <th>aweek</th>\n",
       "      <th>qday</th>\n",
       "      <th>qhour</th>\n",
       "      <th>qweek</th>\n",
       "      <th>sub_time</th>\n",
       "    </tr>\n",
       "  </thead>\n",
       "  <tbody>\n",
       "    <tr>\n",
       "      <th>0</th>\n",
       "      <td>Q604029601</td>\n",
       "      <td>M2317670257</td>\n",
       "      <td>3862</td>\n",
       "      <td>15</td>\n",
       "      <td>92703</td>\n",
       "      <td>5</td>\n",
       "      <td>92364</td>\n",
       "      <td>Q3034061280</td>\n",
       "      <td>92364</td>\n",
       "      <td>3848</td>\n",
       "      <td>12</td>\n",
       "      <td>5</td>\n",
       "      <td>3848</td>\n",
       "      <td>12</td>\n",
       "      <td>5</td>\n",
       "      <td>339</td>\n",
       "    </tr>\n",
       "    <tr>\n",
       "      <th>2</th>\n",
       "      <td>Q604029601</td>\n",
       "      <td>M2317670257</td>\n",
       "      <td>3862</td>\n",
       "      <td>15</td>\n",
       "      <td>92703</td>\n",
       "      <td>5</td>\n",
       "      <td>92539</td>\n",
       "      <td>Q1309562090</td>\n",
       "      <td>92472</td>\n",
       "      <td>3855</td>\n",
       "      <td>19</td>\n",
       "      <td>5</td>\n",
       "      <td>3853</td>\n",
       "      <td>0</td>\n",
       "      <td>3</td>\n",
       "      <td>164</td>\n",
       "    </tr>\n",
       "    <tr>\n",
       "      <th>6</th>\n",
       "      <td>Q426016802</td>\n",
       "      <td>M2317670257</td>\n",
       "      <td>3860</td>\n",
       "      <td>13</td>\n",
       "      <td>92653</td>\n",
       "      <td>3</td>\n",
       "      <td>92364</td>\n",
       "      <td>Q3034061280</td>\n",
       "      <td>92364</td>\n",
       "      <td>3848</td>\n",
       "      <td>12</td>\n",
       "      <td>5</td>\n",
       "      <td>3848</td>\n",
       "      <td>12</td>\n",
       "      <td>5</td>\n",
       "      <td>289</td>\n",
       "    </tr>\n",
       "    <tr>\n",
       "      <th>8</th>\n",
       "      <td>Q426016802</td>\n",
       "      <td>M2317670257</td>\n",
       "      <td>3860</td>\n",
       "      <td>13</td>\n",
       "      <td>92653</td>\n",
       "      <td>3</td>\n",
       "      <td>92539</td>\n",
       "      <td>Q1309562090</td>\n",
       "      <td>92472</td>\n",
       "      <td>3855</td>\n",
       "      <td>19</td>\n",
       "      <td>5</td>\n",
       "      <td>3853</td>\n",
       "      <td>0</td>\n",
       "      <td>3</td>\n",
       "      <td>114</td>\n",
       "    </tr>\n",
       "    <tr>\n",
       "      <th>12</th>\n",
       "      <td>Q4274079416</td>\n",
       "      <td>M2317670257</td>\n",
       "      <td>3855</td>\n",
       "      <td>12</td>\n",
       "      <td>92532</td>\n",
       "      <td>5</td>\n",
       "      <td>92364</td>\n",
       "      <td>Q3034061280</td>\n",
       "      <td>92364</td>\n",
       "      <td>3848</td>\n",
       "      <td>12</td>\n",
       "      <td>5</td>\n",
       "      <td>3848</td>\n",
       "      <td>12</td>\n",
       "      <td>5</td>\n",
       "      <td>168</td>\n",
       "    </tr>\n",
       "  </tbody>\n",
       "</table>\n",
       "</div>"
      ],
      "text/plain": [
       "          qid_x          uid  iday  ihour  itime  iweek  atime        qid_y  \\\n",
       "0    Q604029601  M2317670257  3862     15  92703      5  92364  Q3034061280   \n",
       "2    Q604029601  M2317670257  3862     15  92703      5  92539  Q1309562090   \n",
       "6    Q426016802  M2317670257  3860     13  92653      3  92364  Q3034061280   \n",
       "8    Q426016802  M2317670257  3860     13  92653      3  92539  Q1309562090   \n",
       "12  Q4274079416  M2317670257  3855     12  92532      5  92364  Q3034061280   \n",
       "\n",
       "    qtime  aday  ahour  aweek  qday  qhour  qweek  sub_time  \n",
       "0   92364  3848     12      5  3848     12      5       339  \n",
       "2   92472  3855     19      5  3853      0      3       164  \n",
       "6   92364  3848     12      5  3848     12      5       289  \n",
       "8   92472  3855     19      5  3853      0      3       114  \n",
       "12  92364  3848     12      5  3848     12      5       168  "
      ]
     },
     "execution_count": 20,
     "metadata": {},
     "output_type": "execute_result"
    }
   ],
   "source": [
    "all_data_uid.head()"
   ]
  },
  {
   "cell_type": "code",
   "execution_count": 21,
   "metadata": {},
   "outputs": [],
   "source": [
    "all_data_uid.drop(['qid_y'],axis=1,inplace=True)"
   ]
  },
  {
   "cell_type": "code",
   "execution_count": 22,
   "metadata": {},
   "outputs": [],
   "source": [
    "all_data_uid['qaStime']=all_data_uid['atime']-all_data_uid['qtime']#过去回答时间与问题时1间差值"
   ]
  },
  {
   "cell_type": "code",
   "execution_count": 23,
   "metadata": {
    "scrolled": true
   },
   "outputs": [],
   "source": [
    "all_data_uid['qaShour']=all_data_uid['ahour']-all_data_uid['qhour']#过去回答时间与问题时间差值"
   ]
  },
  {
   "cell_type": "code",
   "execution_count": 24,
   "metadata": {},
   "outputs": [],
   "source": [
    "all_data_uid['qaSday']=all_data_uid['aday']-all_data_uid['qday']#过去回答时间与问题时间差值"
   ]
  },
  {
   "cell_type": "code",
   "execution_count": 25,
   "metadata": {},
   "outputs": [],
   "source": [
    "all_data_uid['sub_day']=all_data_uid['iday']-all_data_uid['aday']"
   ]
  },
  {
   "cell_type": "code",
   "execution_count": 26,
   "metadata": {},
   "outputs": [],
   "source": [
    "feature=all_data_uid.groupby(['qid_x','uid']).agg({'sub_time':'min',#距离上次回答的小时\n",
    "                                                    'sub_day':'min',#距离上次回答的天数\n",
    "                                                    'ahour':['mean','median'],#过去喜欢几点回答\n",
    "                                                    'aweek':['mean','median'],#过去喜欢哪周回答\n",
    "                                                    'qaStime':['mean','max','min'],\n",
    "                                                    'qaSday':['mean','max','min'],\n",
    "                                                    'qaShour':['mean','max','min'],#提问与回答时间差值\n",
    "                                                    'qtime':['mean','max','min'],#喜欢新问题or老问题\n",
    "                                                    'qhour':['mean','max','min'],\n",
    "                                                    'qweek':['mean','max','min','median'],\n",
    "                                                   })"
   ]
  },
  {
   "cell_type": "code",
   "execution_count": 27,
   "metadata": {},
   "outputs": [
    {
     "data": {
      "text/plain": [
       "10630880"
      ]
     },
     "execution_count": 27,
     "metadata": {},
     "output_type": "execute_result"
    }
   ],
   "source": [
    "len(all_data)"
   ]
  },
  {
   "cell_type": "code",
   "execution_count": 28,
   "metadata": {},
   "outputs": [],
   "source": [
    "def reduce_mem_usage(df, verbose=True):\n",
    "    numerics = ['int16', 'int32', 'int64', 'float16', 'float32', 'float64']\n",
    "    start_mem = df.memory_usage().sum() / 1024**2    \n",
    "    for col in df.columns:\n",
    "        col_type = df[col].dtypes\n",
    "        if col_type in numerics:\n",
    "            c_min = df[col].min()\n",
    "            c_max = df[col].max()\n",
    "            if str(col_type)[:3] == 'int':\n",
    "                if c_min > np.iinfo(np.int8).min and c_max < np.iinfo(np.int8).max:\n",
    "                    df[col] = df[col].astype(np.int8)\n",
    "                elif c_min > np.iinfo(np.int16).min and c_max < np.iinfo(np.int16).max:\n",
    "                    df[col] = df[col].astype(np.int16)\n",
    "                elif c_min > np.iinfo(np.int32).min and c_max < np.iinfo(np.int32).max:\n",
    "                    df[col] = df[col].astype(np.int32)\n",
    "                elif c_min > np.iinfo(np.int64).min and c_max < np.iinfo(np.int64).max:\n",
    "                    df[col] = df[col].astype(np.int64)  \n",
    "            else:\n",
    "                if c_min > np.finfo(np.float16).min and c_max < np.finfo(np.float16).max:\n",
    "                    df[col] = df[col].astype(np.float16)\n",
    "                elif c_min > np.finfo(np.float32).min and c_max < np.finfo(np.float32).max:\n",
    "                    df[col] = df[col].astype(np.float32)\n",
    "                else:\n",
    "                    df[col] = df[col].astype(np.float64)    \n",
    "    end_mem = df.memory_usage().sum() / 1024**2\n",
    "    if verbose: print('Mem. usage decreased to {:5.2f} Mb ({:.1f}% reduction)'.format(end_mem, 100 * (start_mem - end_mem) / start_mem))\n",
    "    return df"
   ]
  },
  {
   "cell_type": "code",
   "execution_count": 29,
   "metadata": {},
   "outputs": [],
   "source": [
    "import numpy as np"
   ]
  },
  {
   "cell_type": "code",
   "execution_count": 30,
   "metadata": {},
   "outputs": [
    {
     "name": "stdout",
     "output_type": "stream",
     "text": [
      "Mem. usage decreased to 468.26 Mb (69.1% reduction)\n"
     ]
    }
   ],
   "source": [
    "feature=reduce_mem_usage(feature)"
   ]
  },
  {
   "cell_type": "code",
   "execution_count": 31,
   "metadata": {},
   "outputs": [
    {
     "data": {
      "text/html": [
       "<div>\n",
       "<style scoped>\n",
       "    .dataframe tbody tr th:only-of-type {\n",
       "        vertical-align: middle;\n",
       "    }\n",
       "\n",
       "    .dataframe tbody tr th {\n",
       "        vertical-align: top;\n",
       "    }\n",
       "\n",
       "    .dataframe thead tr th {\n",
       "        text-align: left;\n",
       "    }\n",
       "</style>\n",
       "<table border=\"1\" class=\"dataframe\">\n",
       "  <thead>\n",
       "    <tr>\n",
       "      <th></th>\n",
       "      <th>qid_x</th>\n",
       "      <th>uid</th>\n",
       "      <th>sub_time</th>\n",
       "      <th>sub_day</th>\n",
       "      <th colspan=\"2\" halign=\"left\">ahour</th>\n",
       "      <th colspan=\"2\" halign=\"left\">aweek</th>\n",
       "      <th colspan=\"2\" halign=\"left\">qaStime</th>\n",
       "      <th>...</th>\n",
       "      <th colspan=\"3\" halign=\"left\">qtime</th>\n",
       "      <th colspan=\"3\" halign=\"left\">qhour</th>\n",
       "      <th colspan=\"4\" halign=\"left\">qweek</th>\n",
       "    </tr>\n",
       "    <tr>\n",
       "      <th></th>\n",
       "      <th></th>\n",
       "      <th></th>\n",
       "      <th>min</th>\n",
       "      <th>min</th>\n",
       "      <th>mean</th>\n",
       "      <th>median</th>\n",
       "      <th>mean</th>\n",
       "      <th>median</th>\n",
       "      <th>mean</th>\n",
       "      <th>max</th>\n",
       "      <th>...</th>\n",
       "      <th>mean</th>\n",
       "      <th>max</th>\n",
       "      <th>min</th>\n",
       "      <th>mean</th>\n",
       "      <th>max</th>\n",
       "      <th>min</th>\n",
       "      <th>mean</th>\n",
       "      <th>max</th>\n",
       "      <th>min</th>\n",
       "      <th>median</th>\n",
       "    </tr>\n",
       "  </thead>\n",
       "  <tbody>\n",
       "    <tr>\n",
       "      <th>0</th>\n",
       "      <td>Q1000002524</td>\n",
       "      <td>M2358184554</td>\n",
       "      <td>41</td>\n",
       "      <td>2</td>\n",
       "      <td>17.000000</td>\n",
       "      <td>17.0</td>\n",
       "      <td>2.000000</td>\n",
       "      <td>2.0</td>\n",
       "      <td>4037.000000</td>\n",
       "      <td>4037</td>\n",
       "      <td>...</td>\n",
       "      <td>88596.000000</td>\n",
       "      <td>88596</td>\n",
       "      <td>88596</td>\n",
       "      <td>12.000000</td>\n",
       "      <td>12</td>\n",
       "      <td>12</td>\n",
       "      <td>2.000000</td>\n",
       "      <td>2</td>\n",
       "      <td>2</td>\n",
       "      <td>2.0</td>\n",
       "    </tr>\n",
       "    <tr>\n",
       "      <th>1</th>\n",
       "      <td>Q1000002524</td>\n",
       "      <td>M562088453</td>\n",
       "      <td>736</td>\n",
       "      <td>31</td>\n",
       "      <td>15.601562</td>\n",
       "      <td>16.0</td>\n",
       "      <td>2.400391</td>\n",
       "      <td>2.0</td>\n",
       "      <td>65.400002</td>\n",
       "      <td>169</td>\n",
       "      <td>...</td>\n",
       "      <td>91601.398438</td>\n",
       "      <td>91891</td>\n",
       "      <td>91451</td>\n",
       "      <td>17.406250</td>\n",
       "      <td>21</td>\n",
       "      <td>11</td>\n",
       "      <td>2.400391</td>\n",
       "      <td>6</td>\n",
       "      <td>0</td>\n",
       "      <td>2.0</td>\n",
       "    </tr>\n",
       "    <tr>\n",
       "      <th>2</th>\n",
       "      <td>Q1000006560</td>\n",
       "      <td>M1628216851</td>\n",
       "      <td>43</td>\n",
       "      <td>2</td>\n",
       "      <td>12.351562</td>\n",
       "      <td>11.0</td>\n",
       "      <td>2.980469</td>\n",
       "      <td>4.0</td>\n",
       "      <td>16211.745117</td>\n",
       "      <td>57494</td>\n",
       "      <td>...</td>\n",
       "      <td>75577.078125</td>\n",
       "      <td>92068</td>\n",
       "      <td>34101</td>\n",
       "      <td>13.312500</td>\n",
       "      <td>23</td>\n",
       "      <td>1</td>\n",
       "      <td>3.568359</td>\n",
       "      <td>6</td>\n",
       "      <td>0</td>\n",
       "      <td>4.0</td>\n",
       "    </tr>\n",
       "    <tr>\n",
       "      <th>3</th>\n",
       "      <td>Q1000007604</td>\n",
       "      <td>M2627631122</td>\n",
       "      <td>338</td>\n",
       "      <td>14</td>\n",
       "      <td>14.000000</td>\n",
       "      <td>14.0</td>\n",
       "      <td>6.000000</td>\n",
       "      <td>6.0</td>\n",
       "      <td>47.000000</td>\n",
       "      <td>47</td>\n",
       "      <td>...</td>\n",
       "      <td>91839.000000</td>\n",
       "      <td>91839</td>\n",
       "      <td>91839</td>\n",
       "      <td>15.000000</td>\n",
       "      <td>15</td>\n",
       "      <td>15</td>\n",
       "      <td>4.000000</td>\n",
       "      <td>4</td>\n",
       "      <td>4</td>\n",
       "      <td>4.0</td>\n",
       "    </tr>\n",
       "    <tr>\n",
       "      <th>4</th>\n",
       "      <td>Q1000007604</td>\n",
       "      <td>M274784249</td>\n",
       "      <td>16</td>\n",
       "      <td>1</td>\n",
       "      <td>17.671875</td>\n",
       "      <td>20.5</td>\n",
       "      <td>1.666992</td>\n",
       "      <td>1.5</td>\n",
       "      <td>4078.000000</td>\n",
       "      <td>18587</td>\n",
       "      <td>...</td>\n",
       "      <td>87735.664062</td>\n",
       "      <td>91959</td>\n",
       "      <td>72922</td>\n",
       "      <td>15.664062</td>\n",
       "      <td>21</td>\n",
       "      <td>10</td>\n",
       "      <td>3.333984</td>\n",
       "      <td>6</td>\n",
       "      <td>0</td>\n",
       "      <td>3.0</td>\n",
       "    </tr>\n",
       "  </tbody>\n",
       "</table>\n",
       "<p>5 rows × 27 columns</p>\n",
       "</div>"
      ],
      "text/plain": [
       "         qid_x          uid sub_time sub_day      ahour            aweek  \\\n",
       "                                 min     min       mean median      mean   \n",
       "0  Q1000002524  M2358184554       41       2  17.000000   17.0  2.000000   \n",
       "1  Q1000002524   M562088453      736      31  15.601562   16.0  2.400391   \n",
       "2  Q1000006560  M1628216851       43       2  12.351562   11.0  2.980469   \n",
       "3  Q1000007604  M2627631122      338      14  14.000000   14.0  6.000000   \n",
       "4  Q1000007604   M274784249       16       1  17.671875   20.5  1.666992   \n",
       "\n",
       "               qaStime         ...         qtime                    qhour      \\\n",
       "  median          mean    max  ...          mean    max    min       mean max   \n",
       "0    2.0   4037.000000   4037  ...  88596.000000  88596  88596  12.000000  12   \n",
       "1    2.0     65.400002    169  ...  91601.398438  91891  91451  17.406250  21   \n",
       "2    4.0  16211.745117  57494  ...  75577.078125  92068  34101  13.312500  23   \n",
       "3    6.0     47.000000     47  ...  91839.000000  91839  91839  15.000000  15   \n",
       "4    1.5   4078.000000  18587  ...  87735.664062  91959  72922  15.664062  21   \n",
       "\n",
       "          qweek                 \n",
       "  min      mean max min median  \n",
       "0  12  2.000000   2   2    2.0  \n",
       "1  11  2.400391   6   0    2.0  \n",
       "2   1  3.568359   6   0    4.0  \n",
       "3  15  4.000000   4   4    4.0  \n",
       "4  10  3.333984   6   0    3.0  \n",
       "\n",
       "[5 rows x 27 columns]"
      ]
     },
     "execution_count": 31,
     "metadata": {},
     "output_type": "execute_result"
    }
   ],
   "source": [
    "feature=feature.reset_index()\n",
    "feature.head()"
   ]
  },
  {
   "cell_type": "code",
   "execution_count": 32,
   "metadata": {},
   "outputs": [],
   "source": [
    "feature.columns=['qid','uid','last_atime','last_aday','ahour_mean','ahour_median','aweek_mean','aweek_median',\n",
    "                'qaStime_mean','qaStime_max','qaStime_min','qaSday_mean','qaSday_max','qaSday_min',\n",
    "                'qaShour_mean','qaShour_max','qaShour_min','qtime_mean','qtime_max','qtime_min',\n",
    "                'qhour_mean','qhour_max','qhour_min','qweek_mean','qweek_max','qweek_min','qweek_median']"
   ]
  },
  {
   "cell_type": "code",
   "execution_count": 34,
   "metadata": {},
   "outputs": [],
   "source": [
    "feature.to_hdf('feature_atime_new.h5', key='data')"
   ]
  },
  {
   "cell_type": "code",
   "execution_count": null,
   "metadata": {},
   "outputs": [],
   "source": []
  }
 ],
 "metadata": {
  "kernelspec": {
   "display_name": "Python 3",
   "language": "python",
   "name": "python3"
  },
  "language_info": {
   "codemirror_mode": {
    "name": "ipython",
    "version": 3
   },
   "file_extension": ".py",
   "mimetype": "text/x-python",
   "name": "python",
   "nbconvert_exporter": "python",
   "pygments_lexer": "ipython3",
   "version": "3.6.7"
  }
 },
 "nbformat": 4,
 "nbformat_minor": 2
}
