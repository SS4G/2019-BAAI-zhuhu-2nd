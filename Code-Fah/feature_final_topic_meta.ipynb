{
 "cells": [
  {
   "cell_type": "code",
   "execution_count": 1,
   "metadata": {},
   "outputs": [],
   "source": [
    "import pandas as pd\n",
    "import time\n",
    "\n",
    "time_start=time.time()\n",
    "answer_info=pd.read_csv('answer_info.txt',sep='\\s+',names=['aid','qid','uid','atime','ainfo','ainfoc','fine',\n",
    "                                                                 'recommend','table','picture','video','numword',\n",
    "                                                                 'thumbsup','thumbsdown','comment','collect','thank',\n",
    "                                                                 'report','nohelp','oppose'])\n",
    "ques_info=pd.read_csv('question_info.txt',sep='\\s+',names=['qid','qtime','qtitle','qtitlec','qinfo','qinfoc','qtopic'])"
   ]
  },
  {
   "cell_type": "code",
   "execution_count": 2,
   "metadata": {},
   "outputs": [],
   "source": [
    "ques_info=ques_info[['qid','qtopic']]"
   ]
  },
  {
   "cell_type": "code",
   "execution_count": 3,
   "metadata": {},
   "outputs": [],
   "source": [
    "member_info=pd.read_csv('member_info.txt',sep='\\s+',names=['uid','sex','key_word','num_level','hot_level','regis_type','regis_platform',\n",
    "                                                          'look_freq','a','b','c','d','e','A','B','C','D','E','salt','l_topic','topic_n'])\n",
    "member_info=member_info[['uid','sex','look_freq','a','b','c','d','e','A','B','C','D','E','salt']]"
   ]
  },
  {
   "cell_type": "code",
   "execution_count": null,
   "metadata": {},
   "outputs": [],
   "source": [
    "##########################预处理"
   ]
  },
  {
   "cell_type": "code",
   "execution_count": null,
   "metadata": {},
   "outputs": [],
   "source": [
    "from tqdm import tqdm\n",
    "def flatten_topic(df):    \n",
    "    a=[]\n",
    "    for i in tqdm(range(len(df['qtopic'].values))):\n",
    "        a += df['qtopic'].values[i].split(',')    \n",
    "    new_df = pd.DataFrame()\n",
    "    new_df['qtopic'] = a\n",
    "    return new_df"
   ]
  },
  {
   "cell_type": "code",
   "execution_count": 5,
   "metadata": {},
   "outputs": [
    {
     "name": "stderr",
     "output_type": "stream",
     "text": [
      "100%|██████████| 1829900/1829900 [00:11<00:00, 158127.79it/s]\n"
     ]
    }
   ],
   "source": [
    "topic_df = flatten_topic(ques_info)"
   ]
  },
  {
   "cell_type": "code",
   "execution_count": 6,
   "metadata": {
    "scrolled": true
   },
   "outputs": [],
   "source": [
    "topic_df=topic_df.drop_duplicates(subset=['qtopic'])"
   ]
  },
  {
   "cell_type": "code",
   "execution_count": 7,
   "metadata": {
    "scrolled": true
   },
   "outputs": [],
   "source": [
    "topic_df=topic_df.reset_index(drop=True)"
   ]
  },
  {
   "cell_type": "code",
   "execution_count": 8,
   "metadata": {},
   "outputs": [],
   "source": [
    "from sklearn.preprocessing import LabelEncoder\n",
    "lbl = LabelEncoder()\n",
    "lbl.fit(topic_df['qtopic'].astype('str'))\n",
    "import pickle\n",
    "with open('meta_qtopic.pickle', 'wb') as f:\n",
    "      pickle.dump(lbl, f)"
   ]
  },
  {
   "cell_type": "code",
   "execution_count": 9,
   "metadata": {},
   "outputs": [],
   "source": [
    "# with open('meta_qtopic.pickle', 'rb') as f:\n",
    "#       lbl = pickle.load(f)"
   ]
  },
  {
   "cell_type": "code",
   "execution_count": 13,
   "metadata": {
    "scrolled": true
   },
   "outputs": [
    {
     "name": "stderr",
     "output_type": "stream",
     "text": [
      "100%|██████████| 7/7 [00:01<00:00,  4.83it/s]\n"
     ]
    }
   ],
   "source": [
    "cat_col=['sex','look_freq','A','B','C','D','E']\n",
    "import pickle\n",
    "from tqdm import tqdm\n",
    "from sklearn.preprocessing import LabelEncoder\n",
    "for feat in tqdm(cat_col):\n",
    "    from sklearn.preprocessing import LabelEncoder\n",
    "    lbl = LabelEncoder()\n",
    "    lbl.fit(member_info[feat].astype('str'))\n",
    "    with open('meta_'+str(feat)+'.pickle', 'wb') as f:\n",
    "        pickle.dump(lbl, f)"
   ]
  },
  {
   "cell_type": "code",
   "execution_count": null,
   "metadata": {},
   "outputs": [],
   "source": [
    "####################################################"
   ]
  },
  {
   "cell_type": "code",
   "execution_count": 4,
   "metadata": {},
   "outputs": [],
   "source": [
    "invite_info=pd.read_csv('invite_info.txt',sep='\\s+',names=['qid','uid','time','target'])\n",
    "invite_info=pd.merge(invite_info,ques_info,on='qid',how='left')"
   ]
  },
  {
   "cell_type": "code",
   "execution_count": 5,
   "metadata": {},
   "outputs": [],
   "source": [
    "invite_info=invite_info.dropna(subset=['qtopic'])\n",
    "invite_info['qtopic'] = invite_info['qtopic'].map(lambda x:x.split(','))\n",
    "invite_info['qtopic_len'] = invite_info['qtopic'].map(lambda x:len(x))"
   ]
  },
  {
   "cell_type": "code",
   "execution_count": 6,
   "metadata": {},
   "outputs": [],
   "source": [
    "from tqdm import tqdm\n",
    "\n",
    "def flatten_topic(df):    \n",
    "    u = []\n",
    "    a = []\n",
    "    q=[]\n",
    "    for i in tqdm(range(len(df['qtopic'].values))):\n",
    "        u += [df['uid'].values[i]]*df['qtopic_len'].values[i]\n",
    "        q += [df['qid'].values[i]]*df['qtopic_len'].values[i]\n",
    "        a += list(df['qtopic'].values[i])\n",
    "        \n",
    "    new_df = pd.DataFrame()\n",
    "    new_df['uid'] = u\n",
    "    new_df['qid'] = q\n",
    "    new_df['qtopic'] = a\n",
    "        \n",
    "    return new_df"
   ]
  },
  {
   "cell_type": "code",
   "execution_count": 7,
   "metadata": {},
   "outputs": [
    {
     "name": "stderr",
     "output_type": "stream",
     "text": [
      "100%|██████████| 9489162/9489162 [03:04<00:00, 51480.35it/s]\n"
     ]
    }
   ],
   "source": [
    "deal_invite_info = flatten_topic(invite_info)"
   ]
  },
  {
   "cell_type": "code",
   "execution_count": 8,
   "metadata": {},
   "outputs": [
    {
     "data": {
      "text/html": [
       "<div>\n",
       "<style scoped>\n",
       "    .dataframe tbody tr th:only-of-type {\n",
       "        vertical-align: middle;\n",
       "    }\n",
       "\n",
       "    .dataframe tbody tr th {\n",
       "        vertical-align: top;\n",
       "    }\n",
       "\n",
       "    .dataframe thead th {\n",
       "        text-align: right;\n",
       "    }\n",
       "</style>\n",
       "<table border=\"1\" class=\"dataframe\">\n",
       "  <thead>\n",
       "    <tr style=\"text-align: right;\">\n",
       "      <th></th>\n",
       "      <th>uid</th>\n",
       "      <th>qid</th>\n",
       "      <th>qtopic</th>\n",
       "    </tr>\n",
       "  </thead>\n",
       "  <tbody>\n",
       "    <tr>\n",
       "      <th>0</th>\n",
       "      <td>M401693808</td>\n",
       "      <td>Q2166419046</td>\n",
       "      <td>T456</td>\n",
       "    </tr>\n",
       "    <tr>\n",
       "      <th>1</th>\n",
       "      <td>M401693808</td>\n",
       "      <td>Q2166419046</td>\n",
       "      <td>T112</td>\n",
       "    </tr>\n",
       "    <tr>\n",
       "      <th>2</th>\n",
       "      <td>M401693808</td>\n",
       "      <td>Q2166419046</td>\n",
       "      <td>T9566</td>\n",
       "    </tr>\n",
       "    <tr>\n",
       "      <th>3</th>\n",
       "      <td>M401693808</td>\n",
       "      <td>Q2166419046</td>\n",
       "      <td>T5310</td>\n",
       "    </tr>\n",
       "    <tr>\n",
       "      <th>4</th>\n",
       "      <td>M3392373099</td>\n",
       "      <td>Q1550017551</td>\n",
       "      <td>T2</td>\n",
       "    </tr>\n",
       "  </tbody>\n",
       "</table>\n",
       "</div>"
      ],
      "text/plain": [
       "           uid          qid qtopic\n",
       "0   M401693808  Q2166419046   T456\n",
       "1   M401693808  Q2166419046   T112\n",
       "2   M401693808  Q2166419046  T9566\n",
       "3   M401693808  Q2166419046  T5310\n",
       "4  M3392373099  Q1550017551     T2"
      ]
     },
     "execution_count": 8,
     "metadata": {},
     "output_type": "execute_result"
    }
   ],
   "source": [
    "deal_invite_info.head()"
   ]
  },
  {
   "cell_type": "code",
   "execution_count": 9,
   "metadata": {},
   "outputs": [
    {
     "data": {
      "text/plain": [
       "(26315557, 3)"
      ]
     },
     "execution_count": 9,
     "metadata": {},
     "output_type": "execute_result"
    }
   ],
   "source": [
    "deal_invite_info.shape"
   ]
  },
  {
   "cell_type": "code",
   "execution_count": 10,
   "metadata": {},
   "outputs": [],
   "source": [
    "deal_invite_info=pd.merge(deal_invite_info,invite_info[['uid','qid','target']],how='left',on=['uid','qid'])\n",
    "deal_invite_info=pd.merge(deal_invite_info,invite_info[['uid','qid','qtopic_len']],how='left',on=['uid','qid'])"
   ]
  },
  {
   "cell_type": "code",
   "execution_count": 11,
   "metadata": {},
   "outputs": [
    {
     "data": {
      "text/html": [
       "<div>\n",
       "<style scoped>\n",
       "    .dataframe tbody tr th:only-of-type {\n",
       "        vertical-align: middle;\n",
       "    }\n",
       "\n",
       "    .dataframe tbody tr th {\n",
       "        vertical-align: top;\n",
       "    }\n",
       "\n",
       "    .dataframe thead th {\n",
       "        text-align: right;\n",
       "    }\n",
       "</style>\n",
       "<table border=\"1\" class=\"dataframe\">\n",
       "  <thead>\n",
       "    <tr style=\"text-align: right;\">\n",
       "      <th></th>\n",
       "      <th>uid</th>\n",
       "      <th>sex</th>\n",
       "      <th>look_freq</th>\n",
       "      <th>a</th>\n",
       "      <th>b</th>\n",
       "      <th>c</th>\n",
       "      <th>d</th>\n",
       "      <th>e</th>\n",
       "      <th>A</th>\n",
       "      <th>B</th>\n",
       "      <th>C</th>\n",
       "      <th>D</th>\n",
       "      <th>E</th>\n",
       "      <th>salt</th>\n",
       "    </tr>\n",
       "  </thead>\n",
       "  <tbody>\n",
       "    <tr>\n",
       "      <th>0</th>\n",
       "      <td>M1934753188</td>\n",
       "      <td>male</td>\n",
       "      <td>monthly</td>\n",
       "      <td>0</td>\n",
       "      <td>1</td>\n",
       "      <td>0</td>\n",
       "      <td>1</td>\n",
       "      <td>0</td>\n",
       "      <td>MD470265</td>\n",
       "      <td>BR470265</td>\n",
       "      <td>PV929066</td>\n",
       "      <td>CT929066</td>\n",
       "      <td>PF470265</td>\n",
       "      <td>764</td>\n",
       "    </tr>\n",
       "    <tr>\n",
       "      <th>1</th>\n",
       "      <td>M595924114</td>\n",
       "      <td>male</td>\n",
       "      <td>daily</td>\n",
       "      <td>0</td>\n",
       "      <td>0</td>\n",
       "      <td>0</td>\n",
       "      <td>1</td>\n",
       "      <td>1</td>\n",
       "      <td>MD195122</td>\n",
       "      <td>BR596936</td>\n",
       "      <td>PV002320</td>\n",
       "      <td>CT840234</td>\n",
       "      <td>PF470265</td>\n",
       "      <td>671</td>\n",
       "    </tr>\n",
       "    <tr>\n",
       "      <th>2</th>\n",
       "      <td>M1473482940</td>\n",
       "      <td>female</td>\n",
       "      <td>weekly</td>\n",
       "      <td>0</td>\n",
       "      <td>1</td>\n",
       "      <td>0</td>\n",
       "      <td>1</td>\n",
       "      <td>0</td>\n",
       "      <td>MD116493</td>\n",
       "      <td>BR641329</td>\n",
       "      <td>PV170953</td>\n",
       "      <td>CT470265</td>\n",
       "      <td>PF470265</td>\n",
       "      <td>454</td>\n",
       "    </tr>\n",
       "    <tr>\n",
       "      <th>3</th>\n",
       "      <td>M578477092</td>\n",
       "      <td>male</td>\n",
       "      <td>daily</td>\n",
       "      <td>1</td>\n",
       "      <td>1</td>\n",
       "      <td>0</td>\n",
       "      <td>1</td>\n",
       "      <td>0</td>\n",
       "      <td>MD889589</td>\n",
       "      <td>BR803759</td>\n",
       "      <td>PV545833</td>\n",
       "      <td>CT545833</td>\n",
       "      <td>PF470265</td>\n",
       "      <td>588</td>\n",
       "    </tr>\n",
       "    <tr>\n",
       "      <th>4</th>\n",
       "      <td>M1088794709</td>\n",
       "      <td>male</td>\n",
       "      <td>weekly</td>\n",
       "      <td>0</td>\n",
       "      <td>1</td>\n",
       "      <td>0</td>\n",
       "      <td>0</td>\n",
       "      <td>0</td>\n",
       "      <td>MD825760</td>\n",
       "      <td>BR641329</td>\n",
       "      <td>PV071037</td>\n",
       "      <td>CT470265</td>\n",
       "      <td>PF470265</td>\n",
       "      <td>361</td>\n",
       "    </tr>\n",
       "  </tbody>\n",
       "</table>\n",
       "</div>"
      ],
      "text/plain": [
       "           uid     sex look_freq  a  b  c  d  e         A         B         C  \\\n",
       "0  M1934753188    male   monthly  0  1  0  1  0  MD470265  BR470265  PV929066   \n",
       "1   M595924114    male     daily  0  0  0  1  1  MD195122  BR596936  PV002320   \n",
       "2  M1473482940  female    weekly  0  1  0  1  0  MD116493  BR641329  PV170953   \n",
       "3   M578477092    male     daily  1  1  0  1  0  MD889589  BR803759  PV545833   \n",
       "4  M1088794709    male    weekly  0  1  0  0  0  MD825760  BR641329  PV071037   \n",
       "\n",
       "          D         E  salt  \n",
       "0  CT929066  PF470265   764  \n",
       "1  CT840234  PF470265   671  \n",
       "2  CT470265  PF470265   454  \n",
       "3  CT545833  PF470265   588  \n",
       "4  CT470265  PF470265   361  "
      ]
     },
     "execution_count": 11,
     "metadata": {},
     "output_type": "execute_result"
    }
   ],
   "source": [
    "member_info.head()"
   ]
  },
  {
   "cell_type": "code",
   "execution_count": 12,
   "metadata": {},
   "outputs": [
    {
     "name": "stderr",
     "output_type": "stream",
     "text": [
      "100%|██████████| 7/7 [00:05<00:00,  1.58it/s]\n"
     ]
    }
   ],
   "source": [
    "cat_col=['sex','look_freq','A','B','C','D','E']\n",
    "import pickle\n",
    "from tqdm import tqdm\n",
    "from sklearn.preprocessing import LabelEncoder\n",
    "for feat in tqdm(cat_col):\n",
    "    with open('meta_'+str(feat)+'.pickle', 'rb') as f:\n",
    "        lbl = pickle.load(f)\n",
    "    member_info[feat]=lbl.transform(member_info[feat].astype('str'))"
   ]
  },
  {
   "cell_type": "code",
   "execution_count": 13,
   "metadata": {},
   "outputs": [],
   "source": [
    "deal_invite_info=pd.merge(deal_invite_info,member_info,how='left',on='uid')"
   ]
  },
  {
   "cell_type": "code",
   "execution_count": 14,
   "metadata": {},
   "outputs": [],
   "source": [
    "with open('meta_qtopic.pickle', 'rb') as f:\n",
    "        lbl = pickle.load(f)\n",
    "deal_invite_info['qtopic']=lbl.transform(deal_invite_info['qtopic'].astype('str'))"
   ]
  },
  {
   "cell_type": "code",
   "execution_count": 15,
   "metadata": {},
   "outputs": [],
   "source": [
    "##########################################################################################"
   ]
  },
  {
   "cell_type": "code",
   "execution_count": 16,
   "metadata": {},
   "outputs": [],
   "source": [
    "cat_col=['qtopic','sex','look_freq','a','b','c','d','e','A','B','C','D','E']"
   ]
  },
  {
   "cell_type": "code",
   "execution_count": 17,
   "metadata": {},
   "outputs": [],
   "source": [
    "import pandas as pd\n",
    "import matplotlib.pyplot as plt\n",
    "import seaborn as sns\n",
    "import lightgbm as lgb\n",
    "from sklearn.metrics import accuracy_score\n",
    "from sklearn.model_selection import KFold,StratifiedKFold,GroupKFold,RepeatedKFold\n",
    "import warnings\n",
    "import gc"
   ]
  },
  {
   "cell_type": "code",
   "execution_count": 18,
   "metadata": {},
   "outputs": [],
   "source": [
    "drop_features = ['qid', 'uid','target']\n",
    "feats = [f for f in deal_invite_info.columns if f not in drop_features]\n",
    "\n",
    "n_splits= 3\n",
    "folds = GroupKFold(n_splits=n_splits)"
   ]
  },
  {
   "cell_type": "code",
   "execution_count": 19,
   "metadata": {},
   "outputs": [],
   "source": [
    "deal_invite_info['id']=deal_invite_info['qid']+deal_invite_info['uid']"
   ]
  },
  {
   "cell_type": "code",
   "execution_count": 20,
   "metadata": {},
   "outputs": [
    {
     "data": {
      "text/plain": [
       "26398729"
      ]
     },
     "execution_count": 20,
     "metadata": {},
     "output_type": "execute_result"
    }
   ],
   "source": [
    "len(deal_invite_info)"
   ]
  },
  {
   "cell_type": "code",
   "execution_count": 21,
   "metadata": {},
   "outputs": [],
   "source": [
    "import numpy as np\n",
    "feature_importance_df = pd.DataFrame()\n",
    "stack_train = np.zeros((len(deal_invite_info), 1))\n",
    "#stack_test = np.zeros((len(test), 1))"
   ]
  },
  {
   "cell_type": "code",
   "execution_count": 22,
   "metadata": {},
   "outputs": [],
   "source": [
    "params = {\n",
    "        \"objective\" : \"binary\", \n",
    "        \"boosting\" : \"gbdt\", \n",
    "        \"metric\" : \"auc\",  \n",
    "        \"max_depth\": 7, \n",
    "        \"num_leaves\" : 31, \n",
    "        \"max_bin\" : 255, \n",
    "        \"learning_rate\" : 0.1, \n",
    "        \"subsample\" : 0.8,\n",
    "        \"colsample_bytree\" : 0.8, \n",
    "        \"verbosity\": -1,\n",
    "        # \"num_threads\" : 15,\n",
    "}"
   ]
  },
  {
   "cell_type": "code",
   "execution_count": 50,
   "metadata": {},
   "outputs": [],
   "source": [
    "target=deal_invite_info['target']"
   ]
  },
  {
   "cell_type": "code",
   "execution_count": 23,
   "metadata": {},
   "outputs": [
    {
     "data": {
      "text/html": [
       "<div>\n",
       "<style scoped>\n",
       "    .dataframe tbody tr th:only-of-type {\n",
       "        vertical-align: middle;\n",
       "    }\n",
       "\n",
       "    .dataframe tbody tr th {\n",
       "        vertical-align: top;\n",
       "    }\n",
       "\n",
       "    .dataframe thead th {\n",
       "        text-align: right;\n",
       "    }\n",
       "</style>\n",
       "<table border=\"1\" class=\"dataframe\">\n",
       "  <thead>\n",
       "    <tr style=\"text-align: right;\">\n",
       "      <th></th>\n",
       "      <th>uid</th>\n",
       "      <th>qid</th>\n",
       "      <th>qtopic</th>\n",
       "      <th>target</th>\n",
       "      <th>qtopic_len</th>\n",
       "      <th>sex</th>\n",
       "      <th>look_freq</th>\n",
       "      <th>a</th>\n",
       "      <th>b</th>\n",
       "      <th>c</th>\n",
       "      <th>d</th>\n",
       "      <th>e</th>\n",
       "      <th>A</th>\n",
       "      <th>B</th>\n",
       "      <th>C</th>\n",
       "      <th>D</th>\n",
       "      <th>E</th>\n",
       "      <th>salt</th>\n",
       "      <th>id</th>\n",
       "    </tr>\n",
       "  </thead>\n",
       "  <tbody>\n",
       "    <tr>\n",
       "      <th>0</th>\n",
       "      <td>M401693808</td>\n",
       "      <td>Q2166419046</td>\n",
       "      <td>37444</td>\n",
       "      <td>0</td>\n",
       "      <td>4</td>\n",
       "      <td>2</td>\n",
       "      <td>4</td>\n",
       "      <td>0</td>\n",
       "      <td>1</td>\n",
       "      <td>0</td>\n",
       "      <td>0</td>\n",
       "      <td>0</td>\n",
       "      <td>2113</td>\n",
       "      <td>190</td>\n",
       "      <td>261</td>\n",
       "      <td>927</td>\n",
       "      <td>1</td>\n",
       "      <td>297</td>\n",
       "      <td>Q2166419046M401693808</td>\n",
       "    </tr>\n",
       "    <tr>\n",
       "      <th>1</th>\n",
       "      <td>M401693808</td>\n",
       "      <td>Q2166419046</td>\n",
       "      <td>1331</td>\n",
       "      <td>0</td>\n",
       "      <td>4</td>\n",
       "      <td>2</td>\n",
       "      <td>4</td>\n",
       "      <td>0</td>\n",
       "      <td>1</td>\n",
       "      <td>0</td>\n",
       "      <td>0</td>\n",
       "      <td>0</td>\n",
       "      <td>2113</td>\n",
       "      <td>190</td>\n",
       "      <td>261</td>\n",
       "      <td>927</td>\n",
       "      <td>1</td>\n",
       "      <td>297</td>\n",
       "      <td>Q2166419046M401693808</td>\n",
       "    </tr>\n",
       "    <tr>\n",
       "      <th>2</th>\n",
       "      <td>M401693808</td>\n",
       "      <td>Q2166419046</td>\n",
       "      <td>65863</td>\n",
       "      <td>0</td>\n",
       "      <td>4</td>\n",
       "      <td>2</td>\n",
       "      <td>4</td>\n",
       "      <td>0</td>\n",
       "      <td>1</td>\n",
       "      <td>0</td>\n",
       "      <td>0</td>\n",
       "      <td>0</td>\n",
       "      <td>2113</td>\n",
       "      <td>190</td>\n",
       "      <td>261</td>\n",
       "      <td>927</td>\n",
       "      <td>1</td>\n",
       "      <td>297</td>\n",
       "      <td>Q2166419046M401693808</td>\n",
       "    </tr>\n",
       "    <tr>\n",
       "      <th>3</th>\n",
       "      <td>M401693808</td>\n",
       "      <td>Q2166419046</td>\n",
       "      <td>43860</td>\n",
       "      <td>0</td>\n",
       "      <td>4</td>\n",
       "      <td>2</td>\n",
       "      <td>4</td>\n",
       "      <td>0</td>\n",
       "      <td>1</td>\n",
       "      <td>0</td>\n",
       "      <td>0</td>\n",
       "      <td>0</td>\n",
       "      <td>2113</td>\n",
       "      <td>190</td>\n",
       "      <td>261</td>\n",
       "      <td>927</td>\n",
       "      <td>1</td>\n",
       "      <td>297</td>\n",
       "      <td>Q2166419046M401693808</td>\n",
       "    </tr>\n",
       "    <tr>\n",
       "      <th>4</th>\n",
       "      <td>M3392373099</td>\n",
       "      <td>Q1550017551</td>\n",
       "      <td>11023</td>\n",
       "      <td>0</td>\n",
       "      <td>2</td>\n",
       "      <td>2</td>\n",
       "      <td>1</td>\n",
       "      <td>1</td>\n",
       "      <td>0</td>\n",
       "      <td>0</td>\n",
       "      <td>0</td>\n",
       "      <td>0</td>\n",
       "      <td>1190</td>\n",
       "      <td>130</td>\n",
       "      <td>266</td>\n",
       "      <td>758</td>\n",
       "      <td>0</td>\n",
       "      <td>308</td>\n",
       "      <td>Q1550017551M3392373099</td>\n",
       "    </tr>\n",
       "  </tbody>\n",
       "</table>\n",
       "</div>"
      ],
      "text/plain": [
       "           uid          qid  qtopic  target  qtopic_len  sex  look_freq  a  b  \\\n",
       "0   M401693808  Q2166419046   37444       0           4    2          4  0  1   \n",
       "1   M401693808  Q2166419046    1331       0           4    2          4  0  1   \n",
       "2   M401693808  Q2166419046   65863       0           4    2          4  0  1   \n",
       "3   M401693808  Q2166419046   43860       0           4    2          4  0  1   \n",
       "4  M3392373099  Q1550017551   11023       0           2    2          1  1  0   \n",
       "\n",
       "   c  d  e     A    B    C    D  E  salt                      id  \n",
       "0  0  0  0  2113  190  261  927  1   297   Q2166419046M401693808  \n",
       "1  0  0  0  2113  190  261  927  1   297   Q2166419046M401693808  \n",
       "2  0  0  0  2113  190  261  927  1   297   Q2166419046M401693808  \n",
       "3  0  0  0  2113  190  261  927  1   297   Q2166419046M401693808  \n",
       "4  0  0  0  1190  130  266  758  0   308  Q1550017551M3392373099  "
      ]
     },
     "execution_count": 23,
     "metadata": {},
     "output_type": "execute_result"
    }
   ],
   "source": [
    "deal_invite_info.head()"
   ]
  },
  {
   "cell_type": "code",
   "execution_count": 55,
   "metadata": {
    "scrolled": true
   },
   "outputs": [
    {
     "name": "stdout",
     "output_type": "stream",
     "text": [
      "fold n°0\n"
     ]
    },
    {
     "name": "stderr",
     "output_type": "stream",
     "text": [
      "/root/anaconda3/lib/python3.7/site-packages/lightgbm/basic.py:1291: UserWarning: Using categorical_feature in Dataset.\n",
      "  warnings.warn('Using categorical_feature in Dataset.')\n"
     ]
    },
    {
     "name": "stdout",
     "output_type": "stream",
     "text": [
      "Training until validation scores don't improve for 30 rounds\n",
      "[100]\ttraining's auc: 0.677794\tvalid_1's auc: 0.670684\n",
      "[200]\ttraining's auc: 0.688088\tvalid_1's auc: 0.678705\n",
      "[300]\ttraining's auc: 0.693959\tvalid_1's auc: 0.682141\n",
      "[400]\ttraining's auc: 0.697869\tvalid_1's auc: 0.684283\n",
      "[500]\ttraining's auc: 0.702059\tvalid_1's auc: 0.686402\n",
      "[600]\ttraining's auc: 0.705203\tvalid_1's auc: 0.687755\n",
      "[700]\ttraining's auc: 0.708185\tvalid_1's auc: 0.688903\n",
      "[800]\ttraining's auc: 0.710725\tvalid_1's auc: 0.689716\n",
      "[900]\ttraining's auc: 0.712759\tvalid_1's auc: 0.690192\n",
      "[1000]\ttraining's auc: 0.714594\tvalid_1's auc: 0.690606\n",
      "[1100]\ttraining's auc: 0.716084\tvalid_1's auc: 0.69096\n",
      "[1200]\ttraining's auc: 0.717627\tvalid_1's auc: 0.691317\n",
      "[1300]\ttraining's auc: 0.719141\tvalid_1's auc: 0.691715\n",
      "[1400]\ttraining's auc: 0.720788\tvalid_1's auc: 0.69221\n",
      "[1500]\ttraining's auc: 0.722279\tvalid_1's auc: 0.692587\n",
      "[1600]\ttraining's auc: 0.723813\tvalid_1's auc: 0.693106\n",
      "[1700]\ttraining's auc: 0.725267\tvalid_1's auc: 0.693361\n",
      "[1800]\ttraining's auc: 0.72651\tvalid_1's auc: 0.693581\n",
      "[1900]\ttraining's auc: 0.727622\tvalid_1's auc: 0.693728\n",
      "[2000]\ttraining's auc: 0.728762\tvalid_1's auc: 0.693988\n",
      "[2100]\ttraining's auc: 0.729843\tvalid_1's auc: 0.6942\n",
      "[2200]\ttraining's auc: 0.730761\tvalid_1's auc: 0.694358\n",
      "[2300]\ttraining's auc: 0.731834\tvalid_1's auc: 0.6946\n",
      "[2400]\ttraining's auc: 0.732865\tvalid_1's auc: 0.694804\n",
      "[2500]\ttraining's auc: 0.733848\tvalid_1's auc: 0.694987\n",
      "Did not meet early stopping. Best iteration is:\n",
      "[2500]\ttraining's auc: 0.733848\tvalid_1's auc: 0.694987\n",
      "fold n°1\n"
     ]
    },
    {
     "name": "stderr",
     "output_type": "stream",
     "text": [
      "/root/anaconda3/lib/python3.7/site-packages/lightgbm/basic.py:1291: UserWarning: Using categorical_feature in Dataset.\n",
      "  warnings.warn('Using categorical_feature in Dataset.')\n"
     ]
    },
    {
     "name": "stdout",
     "output_type": "stream",
     "text": [
      "Training until validation scores don't improve for 30 rounds\n",
      "[100]\ttraining's auc: 0.678292\tvalid_1's auc: 0.672283\n",
      "[200]\ttraining's auc: 0.688763\tvalid_1's auc: 0.680098\n",
      "[300]\ttraining's auc: 0.694641\tvalid_1's auc: 0.683555\n",
      "[400]\ttraining's auc: 0.698957\tvalid_1's auc: 0.686012\n",
      "[500]\ttraining's auc: 0.702687\tvalid_1's auc: 0.687783\n",
      "[600]\ttraining's auc: 0.705636\tvalid_1's auc: 0.688888\n",
      "[700]\ttraining's auc: 0.70834\tvalid_1's auc: 0.689753\n",
      "[800]\ttraining's auc: 0.711042\tvalid_1's auc: 0.690597\n",
      "[900]\ttraining's auc: 0.713092\tvalid_1's auc: 0.691207\n",
      "[1000]\ttraining's auc: 0.714872\tvalid_1's auc: 0.691652\n",
      "[1100]\ttraining's auc: 0.716523\tvalid_1's auc: 0.692091\n",
      "[1200]\ttraining's auc: 0.71813\tvalid_1's auc: 0.692449\n",
      "[1300]\ttraining's auc: 0.719891\tvalid_1's auc: 0.692932\n",
      "[1400]\ttraining's auc: 0.721327\tvalid_1's auc: 0.693199\n",
      "[1500]\ttraining's auc: 0.722842\tvalid_1's auc: 0.693623\n",
      "[1600]\ttraining's auc: 0.724372\tvalid_1's auc: 0.693894\n",
      "Early stopping, best iteration is:\n",
      "[1642]\ttraining's auc: 0.725009\tvalid_1's auc: 0.69404\n",
      "fold n°2\n"
     ]
    },
    {
     "name": "stderr",
     "output_type": "stream",
     "text": [
      "/root/anaconda3/lib/python3.7/site-packages/lightgbm/basic.py:1291: UserWarning: Using categorical_feature in Dataset.\n",
      "  warnings.warn('Using categorical_feature in Dataset.')\n"
     ]
    },
    {
     "name": "stdout",
     "output_type": "stream",
     "text": [
      "Training until validation scores don't improve for 30 rounds\n",
      "[100]\ttraining's auc: 0.678894\tvalid_1's auc: 0.670488\n",
      "[200]\ttraining's auc: 0.68918\tvalid_1's auc: 0.678479\n",
      "[300]\ttraining's auc: 0.694944\tvalid_1's auc: 0.681892\n",
      "[400]\ttraining's auc: 0.699016\tvalid_1's auc: 0.684259\n",
      "[500]\ttraining's auc: 0.702967\tvalid_1's auc: 0.686232\n",
      "[600]\ttraining's auc: 0.706152\tvalid_1's auc: 0.6876\n",
      "[700]\ttraining's auc: 0.709046\tvalid_1's auc: 0.688728\n",
      "[800]\ttraining's auc: 0.711432\tvalid_1's auc: 0.68936\n",
      "[900]\ttraining's auc: 0.713552\tvalid_1's auc: 0.689995\n",
      "[1000]\ttraining's auc: 0.715368\tvalid_1's auc: 0.690545\n",
      "[1100]\ttraining's auc: 0.71708\tvalid_1's auc: 0.690952\n",
      "[1200]\ttraining's auc: 0.71853\tvalid_1's auc: 0.691261\n",
      "[1300]\ttraining's auc: 0.71998\tvalid_1's auc: 0.691613\n",
      "[1400]\ttraining's auc: 0.72138\tvalid_1's auc: 0.691912\n",
      "[1500]\ttraining's auc: 0.722691\tvalid_1's auc: 0.692223\n",
      "[1600]\ttraining's auc: 0.72408\tvalid_1's auc: 0.692518\n",
      "[1700]\ttraining's auc: 0.725585\tvalid_1's auc: 0.692981\n",
      "[1800]\ttraining's auc: 0.726906\tvalid_1's auc: 0.693251\n",
      "[1900]\ttraining's auc: 0.727921\tvalid_1's auc: 0.693479\n",
      "[2000]\ttraining's auc: 0.728945\tvalid_1's auc: 0.693641\n",
      "[2100]\ttraining's auc: 0.729908\tvalid_1's auc: 0.693814\n",
      "[2200]\ttraining's auc: 0.730882\tvalid_1's auc: 0.693986\n",
      "[2300]\ttraining's auc: 0.731971\tvalid_1's auc: 0.694201\n",
      "[2400]\ttraining's auc: 0.73308\tvalid_1's auc: 0.694451\n",
      "[2500]\ttraining's auc: 0.73394\tvalid_1's auc: 0.694623\n",
      "Did not meet early stopping. Best iteration is:\n",
      "[2500]\ttraining's auc: 0.73394\tvalid_1's auc: 0.694623\n"
     ]
    }
   ],
   "source": [
    "for n_fold, (trn_idx, val_idx) in enumerate(folds.split(stack_train, deal_invite_info['target'],groups=deal_invite_info['id'])):\n",
    "    print(\"fold n°{}\".format(n_fold))\n",
    "    trn_data = lgb.Dataset(deal_invite_info[feats].iloc[trn_idx],\n",
    "                           label=target[trn_idx],\n",
    "                           categorical_feature=cat_col)\n",
    "    val_data = lgb.Dataset(deal_invite_info[feats].iloc[val_idx],\n",
    "                           label=target.iloc[val_idx],\n",
    "                           categorical_feature=cat_col)\n",
    "    num_round = 2500\n",
    "    clf = lgb.train(params,\n",
    "                    trn_data,\n",
    "                    num_round,\n",
    "                    valid_sets=[trn_data, val_data],\n",
    "                    verbose_eval=100,\n",
    "                    early_stopping_rounds=30)\n",
    "    save_name = \"topic_meta_lgb_%d\" % n_fold\n",
    "    clf.save_model(save_name + '_booster.txt')\n",
    "    stack_train[val_idx]=clf.predict(deal_invite_info[feats].iloc[val_idx], num_iteration=clf.best_iteration).reshape(-1,1)\n",
    "    #stack_test+= clf.predict(test[feats], num_iteration=clf.best_iteration).reshape(-1,1)#"
   ]
  },
  {
   "cell_type": "code",
   "execution_count": null,
   "metadata": {},
   "outputs": [],
   "source": []
  },
  {
   "cell_type": "code",
   "execution_count": 24,
   "metadata": {},
   "outputs": [
    {
     "name": "stderr",
     "output_type": "stream",
     "text": [
      "100%|██████████| 1141718/1141718 [00:20<00:00, 57060.00it/s]\n"
     ]
    }
   ],
   "source": [
    "invite_info_evaluate=pd.read_csv('invite_info_evaluate_2_0926.txt',sep='\\s+',names=['qid','uid','time'])\n",
    "invite_info_evaluate=pd.merge(invite_info_evaluate,ques_info,on='qid',how='left')\n",
    "invite_info_evaluate=invite_info_evaluate.dropna(subset=['qtopic'])\n",
    "invite_info_evaluate['qtopic'] = invite_info_evaluate['qtopic'].map(lambda x:x.split(','))\n",
    "invite_info_evaluate['qtopic_len'] = invite_info_evaluate['qtopic'].map(lambda x:len(x))\n",
    "deal_invite_info_evaluate = flatten_topic(invite_info_evaluate)\n",
    "deal_invite_info_evaluate=pd.merge(deal_invite_info_evaluate,invite_info_evaluate[['uid','qid','qtopic_len']],how='left',on=['uid','qid'])\n",
    "deal_invite_info_evaluate=pd.merge(deal_invite_info_evaluate,member_info,how='left',on='uid')"
   ]
  },
  {
   "cell_type": "code",
   "execution_count": 25,
   "metadata": {},
   "outputs": [],
   "source": [
    "with open('meta_qtopic.pickle', 'rb') as f:\n",
    "    lbl = pickle.load(f)\n",
    "deal_invite_info_evaluate['qtopic']=lbl.transform(deal_invite_info_evaluate['qtopic'].astype('str'))"
   ]
  },
  {
   "cell_type": "code",
   "execution_count": 26,
   "metadata": {},
   "outputs": [
    {
     "name": "stdout",
     "output_type": "stream",
     "text": [
      "fold n°0\n",
      "fold n°1\n",
      "fold n°2\n"
     ]
    }
   ],
   "source": [
    "stack_train2 = np.zeros((len(deal_invite_info), 1))\n",
    "stack_test = np.zeros((len(deal_invite_info_evaluate), 1))\n",
    "for n_fold, (trn_idx, val_idx) in enumerate(folds.split(stack_train2, deal_invite_info['target'],groups=deal_invite_info['id'])):\n",
    "    print(\"fold n°{}\".format(n_fold))\n",
    "    import lightgbm as lgb\n",
    "    lgb = lgb.Booster(model_file = 'topic_meta_lgb_%d_booster.txt' % n_fold)\n",
    "    stack_train2[val_idx]=lgb.predict(deal_invite_info[feats].iloc[val_idx]).reshape(-1,1)\n",
    "    stack_test+= lgb.predict(deal_invite_info_evaluate[feats]).reshape(-1,1)"
   ]
  },
  {
   "cell_type": "code",
   "execution_count": 27,
   "metadata": {},
   "outputs": [],
   "source": [
    "stack_test=stack_test/3\n",
    "stack_train2=pd.DataFrame(stack_train2)\n",
    "stack_test=pd.DataFrame(stack_test)\n",
    "stack_train2['uid']=deal_invite_info['uid']\n",
    "stack_train2['qid']=deal_invite_info['qid']\n",
    "stack_test['uid']=deal_invite_info_evaluate['uid']\n",
    "stack_test['qid']=deal_invite_info_evaluate['qid']"
   ]
  },
  {
   "cell_type": "code",
   "execution_count": 28,
   "metadata": {},
   "outputs": [],
   "source": [
    "train_fea=stack_train2.groupby(['uid','qid']).agg(['mean','std','min','max','median']).reset_index()\n",
    "test_fea=stack_test.groupby(['uid','qid']).agg(['mean','std','min','max','median']).reset_index()"
   ]
  },
  {
   "cell_type": "code",
   "execution_count": 29,
   "metadata": {},
   "outputs": [],
   "source": [
    "train_fea.columns=['uid','qid','topic_meta_mean','topic_meta_std','topic_meta_min','topic_meta_max','topic_meta_median']\n",
    "test_fea.columns=['uid','qid','topic_meta_mean','topic_meta_std','topic_meta_min','topic_meta_max','topic_meta_median']"
   ]
  },
  {
   "cell_type": "code",
   "execution_count": 30,
   "metadata": {
    "scrolled": true
   },
   "outputs": [],
   "source": [
    "x=pd.concat([train_fea,test_fea])"
   ]
  },
  {
   "cell_type": "code",
   "execution_count": 31,
   "metadata": {
    "scrolled": true
   },
   "outputs": [],
   "source": [
    "x=x.drop_duplicates(subset=['uid','qid'])"
   ]
  },
  {
   "cell_type": "code",
   "execution_count": 46,
   "metadata": {},
   "outputs": [],
   "source": [
    "x.to_hdf('feature_topic_meta_new.h5', key='data')"
   ]
  },
  {
   "cell_type": "code",
   "execution_count": 76,
   "metadata": {},
   "outputs": [
    {
     "name": "stdout",
     "output_type": "stream",
     "text": [
      "totally cost 30450.72513628006\n"
     ]
    }
   ],
   "source": [
    "time_end=time.time()\n",
    "print('totally cost',time_end-time_start)"
   ]
  },
  {
   "cell_type": "code",
   "execution_count": 42,
   "metadata": {},
   "outputs": [],
   "source": [
    "x.to_csv('feature_topic_meta.csv',index=False)"
   ]
  },
  {
   "cell_type": "code",
   "execution_count": 43,
   "metadata": {},
   "outputs": [
    {
     "name": "stdout",
     "output_type": "stream",
     "text": [
      "totally cost 54874.5562312603\n"
     ]
    }
   ],
   "source": [
    "time_end=time.time()\n",
    "print('totally cost',time_end-time_start)"
   ]
  },
  {
   "cell_type": "code",
   "execution_count": null,
   "metadata": {},
   "outputs": [],
   "source": []
  }
 ],
 "metadata": {
  "kernelspec": {
   "display_name": "Python 3",
   "language": "python",
   "name": "python3"
  },
  "language_info": {
   "codemirror_mode": {
    "name": "ipython",
    "version": 3
   },
   "file_extension": ".py",
   "mimetype": "text/x-python",
   "name": "python",
   "nbconvert_exporter": "python",
   "pygments_lexer": "ipython3",
   "version": "3.6.7"
  }
 },
 "nbformat": 4,
 "nbformat_minor": 2
}
