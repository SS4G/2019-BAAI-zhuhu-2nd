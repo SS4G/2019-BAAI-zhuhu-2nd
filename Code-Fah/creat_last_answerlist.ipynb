{
 "cells": [
  {
   "cell_type": "code",
   "execution_count": 1,
   "metadata": {},
   "outputs": [],
   "source": [
    "import pandas as pd\n",
    "train=pd.read_csv('invite_info.txt',sep='\\s+',names=['qid','uid','time','target'])\n",
    "test=pd.read_csv('invite_info_evaluate_2_0926.txt',sep='\\s+',names=['qid','uid','time'])\n",
    "ques_info=pd.read_csv('question_info.txt',sep='\\s+',names=['qid','qtime','qtitle','qtitlec','qinfo','qinfoc','qtopic'])\n",
    "ques_info=ques_info.drop_duplicates('qid')\n",
    "answer_info=pd.read_csv('answer_info.txt',sep='\\s+',names=['aid','qid','uid','atime','ainfo','ainfoc','fine',\n",
    "                                                                 'recommend','table','picture','video','numword',\n",
    "                                                                 'thumbsup','thumbsdown','comment','collect','thank',\n",
    "                                                                 'report','nohelp','oppose'])"
   ]
  },
  {
   "cell_type": "code",
   "execution_count": 2,
   "metadata": {},
   "outputs": [],
   "source": [
    "atrain=train[train['target']==1]\n",
    "atrain.columns=['qid','uid','atime','target']\n",
    "answer_info=answer_info[['qid','uid','atime']]\n",
    "answer_info=pd.concat([answer_info,atrain[['qid','uid','atime']]])\n"
   ]
  },
  {
   "cell_type": "code",
   "execution_count": 3,
   "metadata": {},
   "outputs": [],
   "source": [
    "answer_info=answer_info.drop_duplicates(subset=['qid','uid'])"
   ]
  },
  {
   "cell_type": "code",
   "execution_count": 4,
   "metadata": {},
   "outputs": [
    {
     "name": "stderr",
     "output_type": "stream",
     "text": [
      "100%|██████████| 4694586/4694586 [00:11<00:00, 404852.29it/s]\n",
      "100%|██████████| 10630880/10630880 [00:25<00:00, 417891.01it/s]\n"
     ]
    }
   ],
   "source": [
    "all_data=pd.concat([train[['qid','uid','time']],test])\n",
    "def caul_time(x):\n",
    "    time=x[1:].split('-H')\n",
    "    return int(time[0])*24+int(time[1])\n",
    "from tqdm import tqdm \n",
    "tqdm.pandas()\n",
    "import numpy as np\n",
    "answer_info['atime']=answer_info['atime'].progress_apply(lambda x:caul_time(x))\n",
    "all_data['time']=all_data['time'].progress_apply(lambda x:caul_time(x))\n",
    "all_data=pd.merge(all_data,answer_info,on='uid',how='inner')"
   ]
  },
  {
   "cell_type": "code",
   "execution_count": 5,
   "metadata": {},
   "outputs": [],
   "source": [
    "all_data['sub_time']=all_data['time']-all_data['atime']\n",
    "all_data=all_data[all_data['sub_time']>0]\n",
    "all_data=all_data[all_data['qid_x']!=all_data['qid_y']]"
   ]
  },
  {
   "cell_type": "code",
   "execution_count": 6,
   "metadata": {
    "scrolled": true
   },
   "outputs": [],
   "source": [
    "all_data['sort_num']=all_data.groupby(['qid_x','uid'])['sub_time'].rank(ascending=1,method='first')"
   ]
  },
  {
   "cell_type": "code",
   "execution_count": 7,
   "metadata": {
    "scrolled": true
   },
   "outputs": [],
   "source": [
    "all_data_1=all_data[all_data['sort_num']==1]"
   ]
  },
  {
   "cell_type": "code",
   "execution_count": 8,
   "metadata": {},
   "outputs": [],
   "source": [
    "train=pd.read_csv('invite_info.txt',sep='\\s+',names=['qid','uid','time','target'])\n",
    "test=pd.read_csv('invite_info_evaluate_2_0926.txt',sep='\\s+',names=['qid','uid','time'])\n",
    "ALL=pd.concat([train[['qid','uid']],test[['qid','uid']]])"
   ]
  },
  {
   "cell_type": "code",
   "execution_count": 9,
   "metadata": {},
   "outputs": [],
   "source": [
    "all_data_1=all_data_1[['qid_x','uid','qid_y']]\n",
    "all_data_1.columns=['qid','uid','qid_1']"
   ]
  },
  {
   "cell_type": "code",
   "execution_count": 10,
   "metadata": {
    "scrolled": true
   },
   "outputs": [],
   "source": [
    "ALL=ALL.merge(all_data_1,on=['qid','uid'],how='left')"
   ]
  },
  {
   "cell_type": "code",
   "execution_count": 11,
   "metadata": {
    "scrolled": true
   },
   "outputs": [],
   "source": [
    "all_data_1=all_data[all_data['sort_num']==2]\n",
    "all_data_1=all_data_1[['qid_x','uid','qid_y']]\n",
    "all_data_1.columns=['qid','uid','qid_2']\n",
    "ALL=ALL.merge(all_data_1,on=['qid','uid'],how='left')"
   ]
  },
  {
   "cell_type": "code",
   "execution_count": 12,
   "metadata": {
    "scrolled": true
   },
   "outputs": [],
   "source": [
    "all_data_1=all_data[all_data['sort_num']==3]\n",
    "all_data_1=all_data_1[['qid_x','uid','qid_y']]\n",
    "all_data_1.columns=['qid','uid','qid_3']\n",
    "ALL=ALL.merge(all_data_1,on=['qid','uid'],how='left')"
   ]
  },
  {
   "cell_type": "code",
   "execution_count": 13,
   "metadata": {},
   "outputs": [],
   "source": [
    "all_data_1=all_data[all_data['sort_num']==4]\n",
    "all_data_1=all_data_1[['qid_x','uid','qid_y']]\n",
    "all_data_1.columns=['qid','uid','qid_4']\n",
    "ALL=ALL.merge(all_data_1,on=['qid','uid'],how='left')"
   ]
  },
  {
   "cell_type": "code",
   "execution_count": 14,
   "metadata": {},
   "outputs": [],
   "source": [
    "all_data_1=all_data[all_data['sort_num']==5]\n",
    "all_data_1=all_data_1[['qid_x','uid','qid_y']]\n",
    "all_data_1.columns=['qid','uid','qid_5']\n",
    "ALL=ALL.merge(all_data_1,on=['qid','uid'],how='left')"
   ]
  },
  {
   "cell_type": "code",
   "execution_count": 15,
   "metadata": {
    "scrolled": true
   },
   "outputs": [],
   "source": [
    "all_data_1=all_data[all_data['sort_num']==6]\n",
    "all_data_1=all_data_1[['qid_x','uid','qid_y']]\n",
    "all_data_1.columns=['qid','uid','qid_6']\n",
    "ALL=ALL.merge(all_data_1,on=['qid','uid'],how='left')"
   ]
  },
  {
   "cell_type": "code",
   "execution_count": 16,
   "metadata": {},
   "outputs": [
    {
     "name": "stderr",
     "output_type": "stream",
     "text": [
      "/root/anaconda3/lib/python3.7/site-packages/pandas/core/generic.py:2377: PerformanceWarning: \n",
      "your performance may suffer as PyTables will pickle object types that it cannot\n",
      "map directly to c-types [inferred_type->mixed,key->block0_values] [items->['qid', 'uid', 'qid_1', 'qid_2', 'qid_3', 'qid_4', 'qid_5', 'qid_6']]\n",
      "\n",
      "  return pytables.to_hdf(path_or_buf, key, self, **kwargs)\n"
     ]
    }
   ],
   "source": [
    "ALL.to_hdf('last_answerlist_6.h5', key='data',index=False)"
   ]
  },
  {
   "cell_type": "code",
   "execution_count": 17,
   "metadata": {},
   "outputs": [],
   "source": [
    "all_data_1=all_data[all_data['sort_num']<=6]"
   ]
  },
  {
   "cell_type": "code",
   "execution_count": 18,
   "metadata": {
    "scrolled": true
   },
   "outputs": [],
   "source": [
    "all_data_1=all_data_1[['qid_x','uid','qid_y']]\n",
    "all_data_1.columns=['qid_x','uid','qid']"
   ]
  },
  {
   "cell_type": "code",
   "execution_count": 19,
   "metadata": {
    "scrolled": true
   },
   "outputs": [],
   "source": [
    "ques_info=ques_info[['qid','qtopic']]\n",
    "ques_info['qtopic']=ques_info['qtopic'].apply(lambda x:x.split(','))\n",
    "all_data_1=all_data_1.merge(ques_info,on='qid',how='left')"
   ]
  },
  {
   "cell_type": "code",
   "execution_count": 20,
   "metadata": {
    "scrolled": true
   },
   "outputs": [
    {
     "name": "stderr",
     "output_type": "stream",
     "text": [
      "/root/anaconda3/lib/python3.7/site-packages/ipykernel_launcher.py:1: FutureWarning: using a dict on a Series for aggregation\n",
      "is deprecated and will be removed in a future version\n",
      "  \"\"\"Entry point for launching an IPython kernel.\n"
     ]
    }
   ],
   "source": [
    "all_data_1=all_data_1.groupby(['qid_x','uid'])['qtopic'].agg({'last_6_tpoic':'sum'})"
   ]
  },
  {
   "cell_type": "code",
   "execution_count": 21,
   "metadata": {},
   "outputs": [],
   "source": [
    "all_data_1=all_data_1.reset_index()"
   ]
  },
  {
   "cell_type": "code",
   "execution_count": 22,
   "metadata": {},
   "outputs": [],
   "source": [
    "all_data_1.columns=['qid', 'uid', 'last_6_tpoic']"
   ]
  },
  {
   "cell_type": "code",
   "execution_count": 23,
   "metadata": {
    "scrolled": true
   },
   "outputs": [
    {
     "name": "stderr",
     "output_type": "stream",
     "text": [
      "/root/anaconda3/lib/python3.7/site-packages/pandas/core/generic.py:2377: PerformanceWarning: \n",
      "your performance may suffer as PyTables will pickle object types that it cannot\n",
      "map directly to c-types [inferred_type->mixed,key->block0_values] [items->['qid', 'uid', 'last_6_tpoic']]\n",
      "\n",
      "  return pytables.to_hdf(path_or_buf, key, self, **kwargs)\n"
     ]
    }
   ],
   "source": [
    "all_data_1.to_hdf('last_answerlist_6_topic.h5', key='data',index=False)"
   ]
  },
  {
   "cell_type": "code",
   "execution_count": null,
   "metadata": {},
   "outputs": [],
   "source": []
  }
 ],
 "metadata": {
  "kernelspec": {
   "display_name": "Python 3",
   "language": "python",
   "name": "python3"
  },
  "language_info": {
   "codemirror_mode": {
    "name": "ipython",
    "version": 3
   },
   "file_extension": ".py",
   "mimetype": "text/x-python",
   "name": "python",
   "nbconvert_exporter": "python",
   "pygments_lexer": "ipython3",
   "version": "3.6.7"
  }
 },
 "nbformat": 4,
 "nbformat_minor": 2
}
