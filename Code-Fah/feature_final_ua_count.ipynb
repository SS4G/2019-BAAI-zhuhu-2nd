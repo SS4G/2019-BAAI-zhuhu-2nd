{
 "cells": [
  {
   "cell_type": "code",
   "execution_count": 1,
   "metadata": {
    "scrolled": true
   },
   "outputs": [],
   "source": [
    "import pandas as pd\n",
    "\n",
    "answer_info=pd.read_csv('answer_info.txt',sep='\\s+',names=['aid','qid','uid','atime','ainfo','ainfoc','fine',\n",
    "                                                                 'recommend','table','picture','video','numword',\n",
    "                                                                 'thumbsup','thumbsdown','comment','collect','thank',\n",
    "                                                                 'report','nohelp','oppose'])\n",
    "ques_info=pd.read_csv('question_info.txt',sep='\\s+',names=['qid','qtime','qtitle','qtitlec','qinfo','qinfoc','qtopic'])"
   ]
  },
  {
   "cell_type": "code",
   "execution_count": 2,
   "metadata": {},
   "outputs": [],
   "source": [
    "from tqdm import tqdm \n",
    "tqdm.pandas()"
   ]
  },
  {
   "cell_type": "code",
   "execution_count": 3,
   "metadata": {},
   "outputs": [],
   "source": [
    "def time_(x):\n",
    "    temp=x[1:].split('-H')\n",
    "    return int(temp[0])*24+int(temp[1])"
   ]
  },
  {
   "cell_type": "code",
   "execution_count": 4,
   "metadata": {},
   "outputs": [
    {
     "name": "stderr",
     "output_type": "stream",
     "text": [
      "100%|██████████| 1829900/1829900 [00:07<00:00, 242264.96it/s]\n"
     ]
    }
   ],
   "source": [
    "ques_info['qtime']=ques_info['qtime'].progress_apply(lambda x:time_(x))"
   ]
  },
  {
   "cell_type": "code",
   "execution_count": 5,
   "metadata": {},
   "outputs": [
    {
     "name": "stderr",
     "output_type": "stream",
     "text": [
      "100%|██████████| 4513735/4513735 [00:16<00:00, 271777.07it/s]\n",
      "100%|██████████| 4513735/4513735 [00:16<00:00, 280400.39it/s]\n",
      "100%|██████████| 4513735/4513735 [00:19<00:00, 233077.39it/s]\n"
     ]
    }
   ],
   "source": [
    "answer_info['day']=answer_info['atime'].progress_apply(lambda x:int(x[1:].split('-H')[0]))\n",
    "answer_info['hour']=answer_info['atime'].progress_apply(lambda x:int(x[1:].split('-H')[1]))\n",
    "answer_info['atime']=answer_info['atime'].progress_apply(lambda x:time_(x))\n"
   ]
  },
  {
   "cell_type": "code",
   "execution_count": 6,
   "metadata": {},
   "outputs": [],
   "source": [
    "answer_info=answer_info[['qid','uid','atime','day','hour']]"
   ]
  },
  {
   "cell_type": "code",
   "execution_count": 7,
   "metadata": {},
   "outputs": [],
   "source": [
    "train=pd.read_csv('invite_info.txt',sep='\\s+',names=['qid','uid','time','target'])\n",
    "test=pd.read_csv('invite_info_evaluate_1.txt',sep='\\s+',names=['qid','uid','time'])"
   ]
  },
  {
   "cell_type": "code",
   "execution_count": 8,
   "metadata": {},
   "outputs": [],
   "source": [
    "all_data=pd.concat([train[['qid','uid','time']],test[['qid','uid','time']]])"
   ]
  },
  {
   "cell_type": "code",
   "execution_count": 9,
   "metadata": {},
   "outputs": [
    {
     "name": "stderr",
     "output_type": "stream",
     "text": [
      "100%|██████████| 10630845/10630845 [00:45<00:00, 232113.51it/s]\n"
     ]
    }
   ],
   "source": [
    "# all_data['day']=all_data['time'].progress_apply(lambda x:int(x[1:].split('-H')[0]))\n",
    "# all_data['hour']=all_data['time'].progress_apply(lambda x:int(x[1:].split('-H')[0]))\n",
    "\n",
    "all_data['time']=all_data['time'].progress_apply(lambda x:time_(x))"
   ]
  },
  {
   "cell_type": "code",
   "execution_count": 10,
   "metadata": {},
   "outputs": [],
   "source": [
    "answer_info.columns=['aqid','uid','atime','day','hour']"
   ]
  },
  {
   "cell_type": "code",
   "execution_count": 11,
   "metadata": {},
   "outputs": [
    {
     "data": {
      "text/plain": [
       "92655969"
      ]
     },
     "execution_count": 11,
     "metadata": {},
     "output_type": "execute_result"
    }
   ],
   "source": [
    "all_data=pd.merge(all_data,answer_info,on='uid',how='inner')\n",
    "all_data['sub_time']=all_data['time']-all_data['atime']\n",
    "all_data=all_data[all_data['sub_time']>=0]\n",
    "len(all_data)"
   ]
  },
  {
   "cell_type": "code",
   "execution_count": 12,
   "metadata": {
    "scrolled": true
   },
   "outputs": [],
   "source": [
    "all_data=all_data[all_data['qid']!=all_data['aqid']]"
   ]
  },
  {
   "cell_type": "code",
   "execution_count": 13,
   "metadata": {},
   "outputs": [
    {
     "data": {
      "text/html": [
       "<div>\n",
       "<style scoped>\n",
       "    .dataframe tbody tr th:only-of-type {\n",
       "        vertical-align: middle;\n",
       "    }\n",
       "\n",
       "    .dataframe tbody tr th {\n",
       "        vertical-align: top;\n",
       "    }\n",
       "\n",
       "    .dataframe thead th {\n",
       "        text-align: right;\n",
       "    }\n",
       "</style>\n",
       "<table border=\"1\" class=\"dataframe\">\n",
       "  <thead>\n",
       "    <tr style=\"text-align: right;\">\n",
       "      <th></th>\n",
       "      <th>qid</th>\n",
       "      <th>uid</th>\n",
       "      <th>time</th>\n",
       "      <th>aqid</th>\n",
       "      <th>atime</th>\n",
       "      <th>day</th>\n",
       "      <th>hour</th>\n",
       "      <th>sub_time</th>\n",
       "    </tr>\n",
       "  </thead>\n",
       "  <tbody>\n",
       "    <tr>\n",
       "      <th>0</th>\n",
       "      <td>Q604029601</td>\n",
       "      <td>M2317670257</td>\n",
       "      <td>92703</td>\n",
       "      <td>Q3034061280</td>\n",
       "      <td>92364</td>\n",
       "      <td>3848</td>\n",
       "      <td>12</td>\n",
       "      <td>339</td>\n",
       "    </tr>\n",
       "    <tr>\n",
       "      <th>2</th>\n",
       "      <td>Q604029601</td>\n",
       "      <td>M2317670257</td>\n",
       "      <td>92703</td>\n",
       "      <td>Q1309562090</td>\n",
       "      <td>92539</td>\n",
       "      <td>3855</td>\n",
       "      <td>19</td>\n",
       "      <td>164</td>\n",
       "    </tr>\n",
       "    <tr>\n",
       "      <th>6</th>\n",
       "      <td>Q426016802</td>\n",
       "      <td>M2317670257</td>\n",
       "      <td>92653</td>\n",
       "      <td>Q3034061280</td>\n",
       "      <td>92364</td>\n",
       "      <td>3848</td>\n",
       "      <td>12</td>\n",
       "      <td>289</td>\n",
       "    </tr>\n",
       "    <tr>\n",
       "      <th>8</th>\n",
       "      <td>Q426016802</td>\n",
       "      <td>M2317670257</td>\n",
       "      <td>92653</td>\n",
       "      <td>Q1309562090</td>\n",
       "      <td>92539</td>\n",
       "      <td>3855</td>\n",
       "      <td>19</td>\n",
       "      <td>114</td>\n",
       "    </tr>\n",
       "    <tr>\n",
       "      <th>12</th>\n",
       "      <td>Q4274079416</td>\n",
       "      <td>M2317670257</td>\n",
       "      <td>92532</td>\n",
       "      <td>Q3034061280</td>\n",
       "      <td>92364</td>\n",
       "      <td>3848</td>\n",
       "      <td>12</td>\n",
       "      <td>168</td>\n",
       "    </tr>\n",
       "  </tbody>\n",
       "</table>\n",
       "</div>"
      ],
      "text/plain": [
       "            qid          uid   time         aqid  atime   day  hour  sub_time\n",
       "0    Q604029601  M2317670257  92703  Q3034061280  92364  3848    12       339\n",
       "2    Q604029601  M2317670257  92703  Q1309562090  92539  3855    19       164\n",
       "6    Q426016802  M2317670257  92653  Q3034061280  92364  3848    12       289\n",
       "8    Q426016802  M2317670257  92653  Q1309562090  92539  3855    19       114\n",
       "12  Q4274079416  M2317670257  92532  Q3034061280  92364  3848    12       168"
      ]
     },
     "execution_count": 13,
     "metadata": {},
     "output_type": "execute_result"
    }
   ],
   "source": [
    "all_data.head()"
   ]
  },
  {
   "cell_type": "code",
   "execution_count": 15,
   "metadata": {},
   "outputs": [],
   "source": [
    "all_data=all_data.groupby(['uid','qid'])['aqid'].agg(['count'])"
   ]
  },
  {
   "cell_type": "code",
   "execution_count": 16,
   "metadata": {
    "scrolled": true
   },
   "outputs": [],
   "source": [
    "all_data=all_data.reset_index()"
   ]
  },
  {
   "cell_type": "code",
   "execution_count": 19,
   "metadata": {
    "scrolled": true
   },
   "outputs": [],
   "source": [
    "all_data.to_csv('feature_ua_count.csv',index=False)"
   ]
  },
  {
   "cell_type": "code",
   "execution_count": null,
   "metadata": {},
   "outputs": [],
   "source": []
  },
  {
   "cell_type": "code",
   "execution_count": null,
   "metadata": {},
   "outputs": [],
   "source": []
  }
 ],
 "metadata": {
  "kernelspec": {
   "display_name": "Python 3",
   "language": "python",
   "name": "python3"
  },
  "language_info": {
   "codemirror_mode": {
    "name": "ipython",
    "version": 3
   },
   "file_extension": ".py",
   "mimetype": "text/x-python",
   "name": "python",
   "nbconvert_exporter": "python",
   "pygments_lexer": "ipython3",
   "version": "3.7.3"
  }
 },
 "nbformat": 4,
 "nbformat_minor": 2
}
