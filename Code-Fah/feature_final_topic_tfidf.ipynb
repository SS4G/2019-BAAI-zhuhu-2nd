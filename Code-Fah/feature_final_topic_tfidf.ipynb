{
 "cells": [
  {
   "cell_type": "code",
   "execution_count": 1,
   "metadata": {},
   "outputs": [],
   "source": [
    "import pandas as pd\n",
    "import time\n",
    "\n",
    "time_start=time.time()"
   ]
  },
  {
   "cell_type": "code",
   "execution_count": 2,
   "metadata": {},
   "outputs": [
    {
     "name": "stdout",
     "output_type": "stream",
     "text": [
      "1931654 1829900\n",
      "1931654 1829900\n"
     ]
    }
   ],
   "source": [
    "train=pd.read_csv('invite_info.txt',sep='\\s+',names=['qid','uid','time','target'])\n",
    "test=pd.read_csv('invite_info_evaluate_1.txt',sep='\\s+',names=['qid','uid','time'])\n",
    "member_info=pd.read_csv('member_info.txt',sep='\\s+',names=['uid','sex','key_word','num_level','hot_level','regis_type','regis_platform',\n",
    "                                                          'look_freq','a','b','c','d','e','A','B','C','D','E','salt','l_topic','topic_n'])\n",
    "ques_info=pd.read_csv('question_info.txt',sep='\\s+',names=['qid','qtime','qtitle','qtitlec','qinfo','qinfoc','qtopic'])\n",
    "\n",
    "train=train[['qid','uid','target']]\n",
    "test=test[['qid','uid']]\n",
    "member_info=member_info[['uid','l_topic']]\n",
    "ques_info=ques_info[['qid','qtopic']]\n",
    "print(len(member_info),len(ques_info))\n",
    "member_info.drop_duplicates(['uid'],inplace=True)\n",
    "ques_info.drop_duplicates(['qid'],inplace=True)\n",
    "print(len(member_info),len(ques_info))"
   ]
  },
  {
   "cell_type": "code",
   "execution_count": 3,
   "metadata": {},
   "outputs": [],
   "source": [
    "train=pd.merge(train,member_info,on='uid',how='left')\n",
    "test=pd.merge(test,member_info,on='uid',how='left')\n",
    "\n",
    "train=pd.merge(train,ques_info,on='qid',how='left')\n",
    "test=pd.merge(test,ques_info,on='qid',how='left')"
   ]
  },
  {
   "cell_type": "code",
   "execution_count": 4,
   "metadata": {},
   "outputs": [
    {
     "name": "stdout",
     "output_type": "stream",
     "text": [
      "10630845\n"
     ]
    }
   ],
   "source": [
    "print(len(train)+len(test))"
   ]
  },
  {
   "cell_type": "code",
   "execution_count": 5,
   "metadata": {},
   "outputs": [
    {
     "data": {
      "text/plain": [
       "(10630845, 4)"
      ]
     },
     "execution_count": 5,
     "metadata": {},
     "output_type": "execute_result"
    }
   ],
   "source": [
    "target=train['target']\n",
    "train.drop(['target'],axis=1,inplace=True)\n",
    "all_data=pd.concat([train,test],axis=0)\n",
    "all_data.shape"
   ]
  },
  {
   "cell_type": "code",
   "execution_count": 6,
   "metadata": {},
   "outputs": [],
   "source": [
    "all_data['l_topic']=all_data['l_topic'].astype(str)\n",
    "all_data['qtopic']=all_data['qtopic'].astype(str)\n",
    "all_data['l_topic']=all_data['l_topic'].apply(lambda x:x.split(','))\n",
    "all_data['qtopic']=all_data['qtopic'].apply(lambda x:x.split(','))\n",
    "all_data['num_ltopic']=all_data['l_topic'].apply(lambda x:len(x))\n",
    "all_data['num_qtopic']=all_data['qtopic'].apply(lambda x:len(x))"
   ]
  },
  {
   "cell_type": "code",
   "execution_count": 7,
   "metadata": {},
   "outputs": [
    {
     "data": {
      "text/html": [
       "<div>\n",
       "<style scoped>\n",
       "    .dataframe tbody tr th:only-of-type {\n",
       "        vertical-align: middle;\n",
       "    }\n",
       "\n",
       "    .dataframe tbody tr th {\n",
       "        vertical-align: top;\n",
       "    }\n",
       "\n",
       "    .dataframe thead th {\n",
       "        text-align: right;\n",
       "    }\n",
       "</style>\n",
       "<table border=\"1\" class=\"dataframe\">\n",
       "  <thead>\n",
       "    <tr style=\"text-align: right;\">\n",
       "      <th></th>\n",
       "      <th>qid</th>\n",
       "      <th>uid</th>\n",
       "      <th>l_topic</th>\n",
       "      <th>qtopic</th>\n",
       "      <th>num_ltopic</th>\n",
       "      <th>num_qtopic</th>\n",
       "    </tr>\n",
       "  </thead>\n",
       "  <tbody>\n",
       "    <tr>\n",
       "      <th>0</th>\n",
       "      <td>Q2166419046</td>\n",
       "      <td>M401693808</td>\n",
       "      <td>[T1727, T5310, T3402, T916, T1506, T26329, T72...</td>\n",
       "      <td>[T456, T112, T9566, T5310]</td>\n",
       "      <td>23</td>\n",
       "      <td>4</td>\n",
       "    </tr>\n",
       "    <tr>\n",
       "      <th>1</th>\n",
       "      <td>Q1550017551</td>\n",
       "      <td>M3392373099</td>\n",
       "      <td>[T42595, T3, T8520, T597, T6485, T6212, T25664...</td>\n",
       "      <td>[T2, T3095]</td>\n",
       "      <td>11</td>\n",
       "      <td>2</td>\n",
       "    </tr>\n",
       "    <tr>\n",
       "      <th>2</th>\n",
       "      <td>Q604029601</td>\n",
       "      <td>M2317670257</td>\n",
       "      <td>[T610, T448, T61, T2801, T9019, T65, T233, T19...</td>\n",
       "      <td>[T6090, T2156, T97, T456]</td>\n",
       "      <td>45</td>\n",
       "      <td>4</td>\n",
       "    </tr>\n",
       "    <tr>\n",
       "      <th>3</th>\n",
       "      <td>Q2350061229</td>\n",
       "      <td>M1618461867</td>\n",
       "      <td>[T5, T33331, T2274, T31, T245, T516, T309, T13...</td>\n",
       "      <td>[T856]</td>\n",
       "      <td>32</td>\n",
       "      <td>1</td>\n",
       "    </tr>\n",
       "    <tr>\n",
       "      <th>4</th>\n",
       "      <td>Q2443223942</td>\n",
       "      <td>M3544409350</td>\n",
       "      <td>[-1]</td>\n",
       "      <td>[T26, T76, T17]</td>\n",
       "      <td>1</td>\n",
       "      <td>3</td>\n",
       "    </tr>\n",
       "  </tbody>\n",
       "</table>\n",
       "</div>"
      ],
      "text/plain": [
       "           qid          uid  \\\n",
       "0  Q2166419046   M401693808   \n",
       "1  Q1550017551  M3392373099   \n",
       "2   Q604029601  M2317670257   \n",
       "3  Q2350061229  M1618461867   \n",
       "4  Q2443223942  M3544409350   \n",
       "\n",
       "                                             l_topic  \\\n",
       "0  [T1727, T5310, T3402, T916, T1506, T26329, T72...   \n",
       "1  [T42595, T3, T8520, T597, T6485, T6212, T25664...   \n",
       "2  [T610, T448, T61, T2801, T9019, T65, T233, T19...   \n",
       "3  [T5, T33331, T2274, T31, T245, T516, T309, T13...   \n",
       "4                                               [-1]   \n",
       "\n",
       "                       qtopic  num_ltopic  num_qtopic  \n",
       "0  [T456, T112, T9566, T5310]          23           4  \n",
       "1                 [T2, T3095]          11           2  \n",
       "2   [T6090, T2156, T97, T456]          45           4  \n",
       "3                      [T856]          32           1  \n",
       "4             [T26, T76, T17]           1           3  "
      ]
     },
     "execution_count": 7,
     "metadata": {},
     "output_type": "execute_result"
    }
   ],
   "source": [
    "all_data.head()"
   ]
  },
  {
   "cell_type": "code",
   "execution_count": 8,
   "metadata": {},
   "outputs": [],
   "source": [
    "all_data['l_topic']=all_data['l_topic'].apply(lambda x:' '.join(x))\n",
    "all_data['qtopic']=all_data['qtopic'].apply(lambda x:' '.join(x))"
   ]
  },
  {
   "cell_type": "code",
   "execution_count": 9,
   "metadata": {},
   "outputs": [],
   "source": [
    "from tqdm import tqdm\n",
    "tqdm.pandas()"
   ]
  },
  {
   "cell_type": "code",
   "execution_count": 10,
   "metadata": {},
   "outputs": [],
   "source": [
    "import numpy as np\n",
    "#import pandas as pd\n",
    "from sklearn.feature_extraction.text import CountVectorizer, TfidfVectorizer, TfidfTransformer\n",
    "import gc\n",
    "from sklearn.model_selection import KFold\n",
    "from sklearn.linear_model import LogisticRegression\n",
    "from sklearn.linear_model import SGDClassifier\n",
    "from sklearn.linear_model import PassiveAggressiveClassifier\n",
    "from sklearn.linear_model import RidgeClassifier\n",
    "from sklearn.naive_bayes import BernoulliNB\n",
    "from sklearn.naive_bayes import MultinomialNB\n",
    "from sklearn.svm import LinearSVC"
   ]
  },
  {
   "cell_type": "code",
   "execution_count": 11,
   "metadata": {},
   "outputs": [],
   "source": [
    "tfidf = CountVectorizer(ngram_range=(1,1))\n",
    "tf_ltopic = tfidf.fit_transform(all_data['l_topic'])\n",
    "tfidf = CountVectorizer(ngram_range=(1,1))\n",
    "tf_qtopic = tfidf.fit_transform(all_data['qtopic'])"
   ]
  },
  {
   "cell_type": "code",
   "execution_count": 12,
   "metadata": {},
   "outputs": [
    {
     "name": "stdout",
     "output_type": "stream",
     "text": [
      "(10630845, 79097)\n",
      "(10630845, 55246)\n"
     ]
    }
   ],
   "source": [
    "print(tf_ltopic.shape)\n",
    "print(tf_qtopic.shape)"
   ]
  },
  {
   "cell_type": "code",
   "execution_count": 13,
   "metadata": {},
   "outputs": [
    {
     "data": {
      "text/plain": [
       "(10630845, 134343)"
      ]
     },
     "execution_count": 13,
     "metadata": {},
     "output_type": "execute_result"
    }
   ],
   "source": [
    "from scipy import sparse\n",
    "all_sparse=sparse.csc_matrix(sparse.hstack((tf_ltopic, tf_qtopic)))\n",
    "all_sparse.shape"
   ]
  },
  {
   "cell_type": "code",
   "execution_count": 14,
   "metadata": {},
   "outputs": [],
   "source": [
    "train_feature=all_sparse[0:train.shape[0]]\n",
    "test_feature=all_sparse[train.shape[0]:]"
   ]
  },
  {
   "cell_type": "code",
   "execution_count": 15,
   "metadata": {},
   "outputs": [],
   "source": [
    "def lrstacking():\n",
    "    num_class=2\n",
    "    df_stack=pd.DataFrame()\n",
    "    n_folds=5\n",
    "    gc.collect()\n",
    "    print('LR stacking')\n",
    "    stack_train = np.zeros([train_feature.shape[0], num_class])\n",
    "    stack_test = np.zeros([test_feature.shape[0], num_class])\n",
    "    folds = KFold(n_splits=5, shuffle=True, random_state=15)\n",
    "    for i, (trn_idx, val_idx) in enumerate(folds.split(target)):\n",
    "        print('stack:%d' % ((i + 1) ))\n",
    "        clf = LogisticRegression(random_state=1017, C=8,solver='sag',verbose=1,n_jobs=-1)\n",
    "        clf.fit(train_feature[trn_idx], target[trn_idx])\n",
    "        score_va = clf.predict_proba(train_feature[val_idx])\n",
    "        score_te = clf.predict_proba(test_feature)\n",
    "        stack_train[val_idx, :] = score_va\n",
    "        stack_test[:, :] += score_te\n",
    "    stack_test /= n_folds\n",
    "    stack = np.vstack([stack_train, stack_test])\n",
    "    for i in range(stack.shape[1]):\n",
    "        df_stack['tfc_lr_{}'.format(i)] = stack[:, i]\n",
    "    print('lr done')\n",
    "    return df_stack"
   ]
  },
  {
   "cell_type": "code",
   "execution_count": 16,
   "metadata": {
    "scrolled": true
   },
   "outputs": [
    {
     "name": "stdout",
     "output_type": "stream",
     "text": [
      "LR stacking\n",
      "stack:1\n",
      "max_iter reached after 1269 seconds\n"
     ]
    },
    {
     "name": "stderr",
     "output_type": "stream",
     "text": [
      "/usr/local/lib/python3.5/dist-packages/sklearn/linear_model/sag.py:326: ConvergenceWarning: The max_iter was reached which means the coef_ did not converge\n",
      "  \"the coef_ did not converge\", ConvergenceWarning)\n",
      "[Parallel(n_jobs=-1)]: Done   1 out of   1 | elapsed: 21.2min finished\n"
     ]
    },
    {
     "name": "stdout",
     "output_type": "stream",
     "text": [
      "stack:2\n",
      "max_iter reached after 1348 seconds\n"
     ]
    },
    {
     "name": "stderr",
     "output_type": "stream",
     "text": [
      "[Parallel(n_jobs=-1)]: Done   1 out of   1 | elapsed: 22.5min finished\n"
     ]
    },
    {
     "name": "stdout",
     "output_type": "stream",
     "text": [
      "stack:3\n",
      "max_iter reached after 1242 seconds\n"
     ]
    },
    {
     "name": "stderr",
     "output_type": "stream",
     "text": [
      "[Parallel(n_jobs=-1)]: Done   1 out of   1 | elapsed: 20.7min finished\n"
     ]
    },
    {
     "name": "stdout",
     "output_type": "stream",
     "text": [
      "stack:4\n",
      "max_iter reached after 1212 seconds\n"
     ]
    },
    {
     "name": "stderr",
     "output_type": "stream",
     "text": [
      "[Parallel(n_jobs=-1)]: Done   1 out of   1 | elapsed: 20.2min finished\n"
     ]
    },
    {
     "name": "stdout",
     "output_type": "stream",
     "text": [
      "stack:5\n",
      "max_iter reached after 1183 seconds\n"
     ]
    },
    {
     "name": "stderr",
     "output_type": "stream",
     "text": [
      "[Parallel(n_jobs=-1)]: Done   1 out of   1 | elapsed: 19.7min finished\n"
     ]
    },
    {
     "name": "stdout",
     "output_type": "stream",
     "text": [
      "lr done\n"
     ]
    }
   ],
   "source": [
    "lrstacking=lrstacking()"
   ]
  },
  {
   "cell_type": "code",
   "execution_count": 17,
   "metadata": {},
   "outputs": [],
   "source": [
    "def sgdstacking():\n",
    "    gc.collect()\n",
    "    print('sgd stacking')\n",
    "    df_stack=pd.DataFrame()\n",
    "    n_folds=5\n",
    "    num_class=2\n",
    "    stack_train = np.zeros([train_feature.shape[0], num_class])\n",
    "    stack_test = np.zeros([test_feature.shape[0], num_class])\n",
    "    folds = KFold(n_splits=5, shuffle=True, random_state=15)\n",
    "    for i, (tr, va) in enumerate(folds.split(target)):\n",
    "        print('stack:%d/%d' % ((i + 1), n_folds))\n",
    "        sgd = SGDClassifier(random_state=1017,\n",
    "                            verbose=1,\n",
    "                            loss='log',\n",
    "                            penalty='elasticnet',\n",
    "                            shuffle=True,\n",
    "                            n_jobs=20,\n",
    "                            l1_ratio=0.0001,\n",
    "                            alpha=1e-05,\n",
    "                            class_weight=None)\n",
    "        gc.collect()\n",
    "        sgd.fit(train_feature[tr], target[tr])\n",
    "        score_va = sgd.predict_proba(train_feature[va])\n",
    "        score_te = sgd.predict_proba(test_feature)\n",
    "        stack_train[va] = score_va\n",
    "        stack_test += score_te\n",
    "    stack_test /= n_folds\n",
    "    stack = np.vstack([stack_train, stack_test])\n",
    "    for i in range(stack.shape[1]):\n",
    "        df_stack['tfc_sgd_{}'.format(i)] = stack[:, i]\n",
    "    print('sgd done')\n",
    "    return df_stack"
   ]
  },
  {
   "cell_type": "code",
   "execution_count": 18,
   "metadata": {
    "scrolled": true
   },
   "outputs": [
    {
     "name": "stdout",
     "output_type": "stream",
     "text": [
      "sgd stacking\n",
      "stack:1/5\n"
     ]
    },
    {
     "name": "stderr",
     "output_type": "stream",
     "text": [
      "/usr/local/lib/python3.5/dist-packages/sklearn/linear_model/stochastic_gradient.py:128: FutureWarning: max_iter and tol parameters have been added in <class 'sklearn.linear_model.stochastic_gradient.SGDClassifier'> in 0.19. If both are left unset, they default to max_iter=5 and tol=None. If tol is not None, max_iter defaults to max_iter=1000. From 0.21, default max_iter will be 1000, and default tol will be 1e-3.\n",
      "  \"and default tol will be 1e-3.\" % type(self), FutureWarning)\n"
     ]
    },
    {
     "name": "stdout",
     "output_type": "stream",
     "text": [
      "-- Epoch 1\n",
      "Norm: 27.22, NNZs: 128462, Bias: -1.560385, T: 7591329, Avg. loss: 0.595555\n",
      "Total training time: 7.65 seconds.\n",
      "-- Epoch 2\n",
      "Norm: 25.78, NNZs: 128430, Bias: -1.557176, T: 15182658, Avg. loss: 0.454066\n",
      "Total training time: 14.85 seconds.\n",
      "-- Epoch 3\n",
      "Norm: 25.42, NNZs: 128492, Bias: -1.554335, T: 22773987, Avg. loss: 0.450993\n",
      "Total training time: 22.32 seconds.\n",
      "-- Epoch 4\n",
      "Norm: 25.27, NNZs: 128427, Bias: -1.555018, T: 30365316, Avg. loss: 0.449744\n",
      "Total training time: 29.71 seconds.\n",
      "-- Epoch 5\n",
      "Norm: 25.17, NNZs: 128480, Bias: -1.560710, T: 37956645, Avg. loss: 0.449062\n",
      "Total training time: 36.99 seconds.\n",
      "stack:2/5\n",
      "-- Epoch 1\n",
      "Norm: 27.25, NNZs: 128539, Bias: -1.562312, T: 7591329, Avg. loss: 0.598222\n",
      "Total training time: 7.75 seconds.\n",
      "-- Epoch 2\n",
      "Norm: 25.75, NNZs: 128395, Bias: -1.565994, T: 15182658, Avg. loss: 0.454112\n",
      "Total training time: 14.92 seconds.\n",
      "-- Epoch 3\n",
      "Norm: 25.41, NNZs: 128430, Bias: -1.555355, T: 22773987, Avg. loss: 0.451044\n",
      "Total training time: 21.85 seconds.\n",
      "-- Epoch 4\n",
      "Norm: 25.26, NNZs: 128482, Bias: -1.560454, T: 30365316, Avg. loss: 0.449767\n",
      "Total training time: 29.08 seconds.\n",
      "-- Epoch 5\n",
      "Norm: 25.18, NNZs: 128460, Bias: -1.562122, T: 37956645, Avg. loss: 0.449084\n",
      "Total training time: 36.46 seconds.\n",
      "stack:3/5\n",
      "-- Epoch 1\n",
      "Norm: 27.32, NNZs: 128483, Bias: -1.554178, T: 7591330, Avg. loss: 0.598752\n",
      "Total training time: 7.28 seconds.\n",
      "-- Epoch 2\n",
      "Norm: 25.82, NNZs: 128360, Bias: -1.559442, T: 15182660, Avg. loss: 0.454162\n",
      "Total training time: 14.67 seconds.\n",
      "-- Epoch 3\n",
      "Norm: 25.45, NNZs: 128381, Bias: -1.561876, T: 22773990, Avg. loss: 0.451073\n",
      "Total training time: 21.99 seconds.\n",
      "-- Epoch 4\n",
      "Norm: 25.34, NNZs: 128368, Bias: -1.553773, T: 30365320, Avg. loss: 0.449842\n",
      "Total training time: 29.41 seconds.\n",
      "-- Epoch 5\n",
      "Norm: 25.23, NNZs: 128403, Bias: -1.556126, T: 37956650, Avg. loss: 0.449124\n",
      "Total training time: 36.71 seconds.\n",
      "stack:4/5\n",
      "-- Epoch 1\n",
      "Norm: 27.31, NNZs: 128501, Bias: -1.555953, T: 7591330, Avg. loss: 0.598118\n",
      "Total training time: 8.03 seconds.\n",
      "-- Epoch 2\n",
      "Norm: 25.78, NNZs: 128532, Bias: -1.563612, T: 15182660, Avg. loss: 0.454005\n",
      "Total training time: 15.87 seconds.\n",
      "-- Epoch 3\n",
      "Norm: 25.43, NNZs: 128481, Bias: -1.561303, T: 22773990, Avg. loss: 0.450913\n",
      "Total training time: 23.59 seconds.\n",
      "-- Epoch 4\n",
      "Norm: 25.24, NNZs: 128478, Bias: -1.554006, T: 30365320, Avg. loss: 0.449675\n",
      "Total training time: 30.95 seconds.\n",
      "-- Epoch 5\n",
      "Norm: 25.16, NNZs: 128524, Bias: -1.563633, T: 37956650, Avg. loss: 0.448992\n",
      "Total training time: 38.95 seconds.\n",
      "stack:5/5\n",
      "-- Epoch 1\n",
      "Norm: 27.33, NNZs: 128633, Bias: -1.554077, T: 7591330, Avg. loss: 0.600226\n",
      "Total training time: 8.07 seconds.\n",
      "-- Epoch 2\n",
      "Norm: 25.79, NNZs: 128409, Bias: -1.551205, T: 15182660, Avg. loss: 0.454177\n",
      "Total training time: 16.43 seconds.\n",
      "-- Epoch 3\n",
      "Norm: 25.44, NNZs: 128386, Bias: -1.554605, T: 22773990, Avg. loss: 0.451149\n",
      "Total training time: 24.91 seconds.\n",
      "-- Epoch 4\n",
      "Norm: 25.27, NNZs: 128432, Bias: -1.550433, T: 30365320, Avg. loss: 0.449889\n",
      "Total training time: 33.34 seconds.\n",
      "-- Epoch 5\n",
      "Norm: 25.19, NNZs: 128391, Bias: -1.562751, T: 37956650, Avg. loss: 0.449185\n",
      "Total training time: 41.11 seconds.\n",
      "sgd done\n"
     ]
    }
   ],
   "source": [
    "sgdstacking=sgdstacking()"
   ]
  },
  {
   "cell_type": "code",
   "execution_count": 19,
   "metadata": {},
   "outputs": [],
   "source": [
    "def ridgestacking():\n",
    "    gc.collect()\n",
    "    print('Ridge stacking')\n",
    "    df_stack=pd.DataFrame()\n",
    "    num_class=2\n",
    "    n_folds=5\n",
    "    stack_train = np.zeros([train_feature.shape[0], num_class])\n",
    "    stack_test = np.zeros([test_feature.shape[0], num_class])\n",
    "    folds = KFold(n_splits=5, shuffle=True, random_state=15)\n",
    "    for i, (tr, va) in enumerate(folds.split(target)):\n",
    "        print('stack:%d/%d' % ((i + 1), n_folds))\n",
    "        ridge = RidgeClassifier(random_state=1017,solver='sag',)\n",
    "        ridge.fit(train_feature[tr], target[tr])\n",
    "        score_va = ridge._predict_proba_lr(train_feature[va])\n",
    "        score_te = ridge._predict_proba_lr(test_feature)\n",
    "        stack_train[va] += score_va\n",
    "        stack_test += score_te\n",
    "    stack_test /= n_folds\n",
    "    stack = np.vstack([stack_train, stack_test])\n",
    "    for i in range(stack.shape[1]):\n",
    "        df_stack['tfc_ridge_{}'.format(i)] = stack[:, i]\n",
    "    print('ridge done')\n",
    "    return df_stack"
   ]
  },
  {
   "cell_type": "code",
   "execution_count": 20,
   "metadata": {},
   "outputs": [
    {
     "name": "stdout",
     "output_type": "stream",
     "text": [
      "Ridge stacking\n",
      "stack:1/5\n",
      "stack:2/5\n",
      "stack:3/5\n",
      "stack:4/5\n",
      "stack:5/5\n",
      "ridge done\n"
     ]
    }
   ],
   "source": [
    "ridgestacking=ridgestacking()"
   ]
  },
  {
   "cell_type": "code",
   "execution_count": 21,
   "metadata": {},
   "outputs": [],
   "source": [
    "def pacstacking():\n",
    "    df_stack=pd.DataFrame()\n",
    "\n",
    "    gc.collect()\n",
    "    print('PAC stacking')\n",
    "    stack_train = np.zeros((len(train), 2))\n",
    "    stack_test = np.zeros((len(test), 2))\n",
    "    score_va = 0\n",
    "    folds = KFold(n_splits=5, shuffle=True, random_state=15)\n",
    "    for i, (tr, va) in enumerate(folds.split(train.values, target.values)):\n",
    "        print('stack:%d/%d' % ((i + 1), 5))\n",
    "        pac = PassiveAggressiveClassifier(random_state=1017)\n",
    "        pac.fit(train_feature[tr], target.iloc[tr])\n",
    "        score_va = pac._predict_proba_lr(train_feature[va])\n",
    "        score_te = pac._predict_proba_lr(test_feature)\n",
    "        stack_train[va] += score_va\n",
    "        stack_test += score_te\n",
    "    stack_test /= 5\n",
    "    stack = np.vstack([stack_train, stack_test])\n",
    "    for i in range(stack.shape[1]):\n",
    "        df_stack['tfc_pac{}'.format(i)] = stack[:, i]\n",
    "    return df_stack"
   ]
  },
  {
   "cell_type": "code",
   "execution_count": 22,
   "metadata": {},
   "outputs": [
    {
     "name": "stdout",
     "output_type": "stream",
     "text": [
      "PAC stacking\n",
      "stack:1/5\n"
     ]
    },
    {
     "name": "stderr",
     "output_type": "stream",
     "text": [
      "/usr/local/lib/python3.5/dist-packages/sklearn/linear_model/stochastic_gradient.py:128: FutureWarning: max_iter and tol parameters have been added in <class 'sklearn.linear_model.passive_aggressive.PassiveAggressiveClassifier'> in 0.19. If both are left unset, they default to max_iter=5 and tol=None. If tol is not None, max_iter defaults to max_iter=1000. From 0.21, default max_iter will be 1000, and default tol will be 1e-3.\n",
      "  \"and default tol will be 1e-3.\" % type(self), FutureWarning)\n"
     ]
    },
    {
     "name": "stdout",
     "output_type": "stream",
     "text": [
      "stack:2/5\n",
      "stack:3/5\n",
      "stack:4/5\n",
      "stack:5/5\n"
     ]
    }
   ],
   "source": [
    "pacstacking=pacstacking()"
   ]
  },
  {
   "cell_type": "code",
   "execution_count": 23,
   "metadata": {},
   "outputs": [],
   "source": [
    "def bnbstacking():\n",
    "    df_stack=pd.DataFrame()\n",
    "    gc.collect()\n",
    "    print('nb stacking')\n",
    "    stack_train = np.zeros((len(train), 2))\n",
    "    stack_test = np.zeros((len(test), 2))\n",
    "    folds = KFold(n_splits=5, shuffle=True, random_state=15)\n",
    "    for i, (tr, va) in enumerate(folds.split(train.values, target.values)):\n",
    "        print('stack:%d/%d' % ((i + 1), 5))\n",
    "        bnb = BernoulliNB()\n",
    "        bnb.fit(train_feature[tr], target.iloc[tr])\n",
    "        score_va = bnb.predict_proba(train_feature[va])\n",
    "        score_te = bnb.predict_proba(test_feature)\n",
    "        stack_train[va] += score_va\n",
    "        stack_test += score_te\n",
    "    stack_test /= 5\n",
    "    stack = np.vstack([stack_train, stack_test])\n",
    "    for i in range(stack.shape[1]):\n",
    "        df_stack['tfc_bnb{}'.format(i)] = stack[:, i]\n",
    "    return df_stack"
   ]
  },
  {
   "cell_type": "code",
   "execution_count": 24,
   "metadata": {},
   "outputs": [
    {
     "name": "stdout",
     "output_type": "stream",
     "text": [
      "nb stacking\n",
      "stack:1/5\n",
      "stack:2/5\n",
      "stack:3/5\n",
      "stack:4/5\n",
      "stack:5/5\n"
     ]
    }
   ],
   "source": [
    "bnbstacking=bnbstacking()"
   ]
  },
  {
   "cell_type": "code",
   "execution_count": 25,
   "metadata": {
    "scrolled": true
   },
   "outputs": [
    {
     "data": {
      "text/html": [
       "<div>\n",
       "<style scoped>\n",
       "    .dataframe tbody tr th:only-of-type {\n",
       "        vertical-align: middle;\n",
       "    }\n",
       "\n",
       "    .dataframe tbody tr th {\n",
       "        vertical-align: top;\n",
       "    }\n",
       "\n",
       "    .dataframe thead th {\n",
       "        text-align: right;\n",
       "    }\n",
       "</style>\n",
       "<table border=\"1\" class=\"dataframe\">\n",
       "  <thead>\n",
       "    <tr style=\"text-align: right;\">\n",
       "      <th></th>\n",
       "      <th>tfc_lr_0</th>\n",
       "      <th>tfc_lr_1</th>\n",
       "      <th>tfc_sgd_0</th>\n",
       "      <th>tfc_sgd_1</th>\n",
       "      <th>tfc_ridge_0</th>\n",
       "      <th>tfc_ridge_1</th>\n",
       "      <th>tfc_pac0</th>\n",
       "      <th>tfc_pac1</th>\n",
       "      <th>tfc_bnb0</th>\n",
       "      <th>tfc_bnb1</th>\n",
       "    </tr>\n",
       "  </thead>\n",
       "  <tbody>\n",
       "    <tr>\n",
       "      <th>0</th>\n",
       "      <td>0.934691</td>\n",
       "      <td>0.065309</td>\n",
       "      <td>0.916474</td>\n",
       "      <td>0.083526</td>\n",
       "      <td>0.706637</td>\n",
       "      <td>0.293363</td>\n",
       "      <td>0.755473</td>\n",
       "      <td>0.244527</td>\n",
       "      <td>0.938196</td>\n",
       "      <td>0.061804</td>\n",
       "    </tr>\n",
       "    <tr>\n",
       "      <th>1</th>\n",
       "      <td>0.876887</td>\n",
       "      <td>0.123113</td>\n",
       "      <td>0.833000</td>\n",
       "      <td>0.167000</td>\n",
       "      <td>0.680556</td>\n",
       "      <td>0.319444</td>\n",
       "      <td>0.280617</td>\n",
       "      <td>0.719383</td>\n",
       "      <td>0.771054</td>\n",
       "      <td>0.228946</td>\n",
       "    </tr>\n",
       "    <tr>\n",
       "      <th>2</th>\n",
       "      <td>0.940608</td>\n",
       "      <td>0.059392</td>\n",
       "      <td>0.936382</td>\n",
       "      <td>0.063618</td>\n",
       "      <td>0.713974</td>\n",
       "      <td>0.286026</td>\n",
       "      <td>0.898003</td>\n",
       "      <td>0.101997</td>\n",
       "      <td>0.977369</td>\n",
       "      <td>0.022631</td>\n",
       "    </tr>\n",
       "    <tr>\n",
       "      <th>3</th>\n",
       "      <td>0.894460</td>\n",
       "      <td>0.105540</td>\n",
       "      <td>0.864938</td>\n",
       "      <td>0.135062</td>\n",
       "      <td>0.683882</td>\n",
       "      <td>0.316118</td>\n",
       "      <td>0.982662</td>\n",
       "      <td>0.017338</td>\n",
       "      <td>0.908724</td>\n",
       "      <td>0.091276</td>\n",
       "    </tr>\n",
       "    <tr>\n",
       "      <th>4</th>\n",
       "      <td>0.759196</td>\n",
       "      <td>0.240804</td>\n",
       "      <td>0.770589</td>\n",
       "      <td>0.229411</td>\n",
       "      <td>0.627563</td>\n",
       "      <td>0.372437</td>\n",
       "      <td>0.543113</td>\n",
       "      <td>0.456887</td>\n",
       "      <td>0.235833</td>\n",
       "      <td>0.764167</td>\n",
       "    </tr>\n",
       "  </tbody>\n",
       "</table>\n",
       "</div>"
      ],
      "text/plain": [
       "   tfc_lr_0  tfc_lr_1  tfc_sgd_0  tfc_sgd_1  tfc_ridge_0  tfc_ridge_1  \\\n",
       "0  0.934691  0.065309   0.916474   0.083526     0.706637     0.293363   \n",
       "1  0.876887  0.123113   0.833000   0.167000     0.680556     0.319444   \n",
       "2  0.940608  0.059392   0.936382   0.063618     0.713974     0.286026   \n",
       "3  0.894460  0.105540   0.864938   0.135062     0.683882     0.316118   \n",
       "4  0.759196  0.240804   0.770589   0.229411     0.627563     0.372437   \n",
       "\n",
       "   tfc_pac0  tfc_pac1  tfc_bnb0  tfc_bnb1  \n",
       "0  0.755473  0.244527  0.938196  0.061804  \n",
       "1  0.280617  0.719383  0.771054  0.228946  \n",
       "2  0.898003  0.101997  0.977369  0.022631  \n",
       "3  0.982662  0.017338  0.908724  0.091276  \n",
       "4  0.543113  0.456887  0.235833  0.764167  "
      ]
     },
     "execution_count": 25,
     "metadata": {},
     "output_type": "execute_result"
    }
   ],
   "source": [
    "result=pd.concat([lrstacking,sgdstacking,ridgestacking,pacstacking,bnbstacking],axis=1)\n",
    "result.head()"
   ]
  },
  {
   "cell_type": "code",
   "execution_count": 26,
   "metadata": {},
   "outputs": [],
   "source": [
    "result.drop(['tfc_lr_0','tfc_sgd_0','tfc_ridge_0','tfc_pac0','tfc_bnb0'],axis=1,inplace=True)"
   ]
  },
  {
   "cell_type": "code",
   "execution_count": 27,
   "metadata": {},
   "outputs": [
    {
     "data": {
      "text/html": [
       "<div>\n",
       "<style scoped>\n",
       "    .dataframe tbody tr th:only-of-type {\n",
       "        vertical-align: middle;\n",
       "    }\n",
       "\n",
       "    .dataframe tbody tr th {\n",
       "        vertical-align: top;\n",
       "    }\n",
       "\n",
       "    .dataframe thead th {\n",
       "        text-align: right;\n",
       "    }\n",
       "</style>\n",
       "<table border=\"1\" class=\"dataframe\">\n",
       "  <thead>\n",
       "    <tr style=\"text-align: right;\">\n",
       "      <th></th>\n",
       "      <th>tfc_lr_1</th>\n",
       "      <th>tfc_sgd_1</th>\n",
       "      <th>tfc_ridge_1</th>\n",
       "      <th>tfc_pac1</th>\n",
       "      <th>tfc_bnb1</th>\n",
       "    </tr>\n",
       "  </thead>\n",
       "  <tbody>\n",
       "    <tr>\n",
       "      <th>0</th>\n",
       "      <td>0.065309</td>\n",
       "      <td>0.083526</td>\n",
       "      <td>0.293363</td>\n",
       "      <td>0.244527</td>\n",
       "      <td>0.061804</td>\n",
       "    </tr>\n",
       "    <tr>\n",
       "      <th>1</th>\n",
       "      <td>0.123113</td>\n",
       "      <td>0.167000</td>\n",
       "      <td>0.319444</td>\n",
       "      <td>0.719383</td>\n",
       "      <td>0.228946</td>\n",
       "    </tr>\n",
       "    <tr>\n",
       "      <th>2</th>\n",
       "      <td>0.059392</td>\n",
       "      <td>0.063618</td>\n",
       "      <td>0.286026</td>\n",
       "      <td>0.101997</td>\n",
       "      <td>0.022631</td>\n",
       "    </tr>\n",
       "    <tr>\n",
       "      <th>3</th>\n",
       "      <td>0.105540</td>\n",
       "      <td>0.135062</td>\n",
       "      <td>0.316118</td>\n",
       "      <td>0.017338</td>\n",
       "      <td>0.091276</td>\n",
       "    </tr>\n",
       "    <tr>\n",
       "      <th>4</th>\n",
       "      <td>0.240804</td>\n",
       "      <td>0.229411</td>\n",
       "      <td>0.372437</td>\n",
       "      <td>0.456887</td>\n",
       "      <td>0.764167</td>\n",
       "    </tr>\n",
       "  </tbody>\n",
       "</table>\n",
       "</div>"
      ],
      "text/plain": [
       "   tfc_lr_1  tfc_sgd_1  tfc_ridge_1  tfc_pac1  tfc_bnb1\n",
       "0  0.065309   0.083526     0.293363  0.244527  0.061804\n",
       "1  0.123113   0.167000     0.319444  0.719383  0.228946\n",
       "2  0.059392   0.063618     0.286026  0.101997  0.022631\n",
       "3  0.105540   0.135062     0.316118  0.017338  0.091276\n",
       "4  0.240804   0.229411     0.372437  0.456887  0.764167"
      ]
     },
     "execution_count": 27,
     "metadata": {},
     "output_type": "execute_result"
    }
   ],
   "source": [
    "result.head()"
   ]
  },
  {
   "cell_type": "code",
   "execution_count": 28,
   "metadata": {},
   "outputs": [],
   "source": [
    "result.to_csv('feature_topic_tfidf.csv',index=False)"
   ]
  },
  {
   "cell_type": "code",
   "execution_count": 29,
   "metadata": {},
   "outputs": [
    {
     "data": {
      "text/html": [
       "<div>\n",
       "<style scoped>\n",
       "    .dataframe tbody tr th:only-of-type {\n",
       "        vertical-align: middle;\n",
       "    }\n",
       "\n",
       "    .dataframe tbody tr th {\n",
       "        vertical-align: top;\n",
       "    }\n",
       "\n",
       "    .dataframe thead th {\n",
       "        text-align: right;\n",
       "    }\n",
       "</style>\n",
       "<table border=\"1\" class=\"dataframe\">\n",
       "  <thead>\n",
       "    <tr style=\"text-align: right;\">\n",
       "      <th></th>\n",
       "      <th>qid</th>\n",
       "      <th>uid</th>\n",
       "      <th>l_topic</th>\n",
       "      <th>qtopic</th>\n",
       "      <th>num_ltopic</th>\n",
       "      <th>num_qtopic</th>\n",
       "    </tr>\n",
       "  </thead>\n",
       "  <tbody>\n",
       "    <tr>\n",
       "      <th>0</th>\n",
       "      <td>Q2166419046</td>\n",
       "      <td>M401693808</td>\n",
       "      <td>T1727 T5310 T3402 T916 T1506 T26329 T7293 T180...</td>\n",
       "      <td>T456 T112 T9566 T5310</td>\n",
       "      <td>23</td>\n",
       "      <td>4</td>\n",
       "    </tr>\n",
       "    <tr>\n",
       "      <th>1</th>\n",
       "      <td>Q1550017551</td>\n",
       "      <td>M3392373099</td>\n",
       "      <td>T42595 T3 T8520 T597 T6485 T6212 T25664 T148 T...</td>\n",
       "      <td>T2 T3095</td>\n",
       "      <td>11</td>\n",
       "      <td>2</td>\n",
       "    </tr>\n",
       "    <tr>\n",
       "      <th>2</th>\n",
       "      <td>Q604029601</td>\n",
       "      <td>M2317670257</td>\n",
       "      <td>T610 T448 T61 T2801 T9019 T65 T233 T190 T55 T5...</td>\n",
       "      <td>T6090 T2156 T97 T456</td>\n",
       "      <td>45</td>\n",
       "      <td>4</td>\n",
       "    </tr>\n",
       "    <tr>\n",
       "      <th>3</th>\n",
       "      <td>Q2350061229</td>\n",
       "      <td>M1618461867</td>\n",
       "      <td>T5 T33331 T2274 T31 T245 T516 T309 T1326 T119 ...</td>\n",
       "      <td>T856</td>\n",
       "      <td>32</td>\n",
       "      <td>1</td>\n",
       "    </tr>\n",
       "    <tr>\n",
       "      <th>4</th>\n",
       "      <td>Q2443223942</td>\n",
       "      <td>M3544409350</td>\n",
       "      <td>-1</td>\n",
       "      <td>T26 T76 T17</td>\n",
       "      <td>1</td>\n",
       "      <td>3</td>\n",
       "    </tr>\n",
       "  </tbody>\n",
       "</table>\n",
       "</div>"
      ],
      "text/plain": [
       "           qid          uid  \\\n",
       "0  Q2166419046   M401693808   \n",
       "1  Q1550017551  M3392373099   \n",
       "2   Q604029601  M2317670257   \n",
       "3  Q2350061229  M1618461867   \n",
       "4  Q2443223942  M3544409350   \n",
       "\n",
       "                                             l_topic                 qtopic  \\\n",
       "0  T1727 T5310 T3402 T916 T1506 T26329 T7293 T180...  T456 T112 T9566 T5310   \n",
       "1  T42595 T3 T8520 T597 T6485 T6212 T25664 T148 T...               T2 T3095   \n",
       "2  T610 T448 T61 T2801 T9019 T65 T233 T190 T55 T5...   T6090 T2156 T97 T456   \n",
       "3  T5 T33331 T2274 T31 T245 T516 T309 T1326 T119 ...                   T856   \n",
       "4                                                 -1            T26 T76 T17   \n",
       "\n",
       "   num_ltopic  num_qtopic  \n",
       "0          23           4  \n",
       "1          11           2  \n",
       "2          45           4  \n",
       "3          32           1  \n",
       "4           1           3  "
      ]
     },
     "execution_count": 29,
     "metadata": {},
     "output_type": "execute_result"
    }
   ],
   "source": [
    "all_data.head()"
   ]
  },
  {
   "cell_type": "code",
   "execution_count": 30,
   "metadata": {},
   "outputs": [
    {
     "data": {
      "text/plain": [
       "10630845"
      ]
     },
     "execution_count": 30,
     "metadata": {},
     "output_type": "execute_result"
    }
   ],
   "source": [
    "len(all_data)"
   ]
  },
  {
   "cell_type": "code",
   "execution_count": 31,
   "metadata": {},
   "outputs": [],
   "source": [
    "all_data[['num_ltopic','num_qtopic']].to_csv('feature_topic_count.csv',index=False)"
   ]
  },
  {
   "cell_type": "code",
   "execution_count": 32,
   "metadata": {},
   "outputs": [
    {
     "name": "stdout",
     "output_type": "stream",
     "text": [
      "totally cost 19130.74426674843\n"
     ]
    }
   ],
   "source": [
    "time_end=time.time()\n",
    "print('totally cost',time_end-time_start)"
   ]
  },
  {
   "cell_type": "code",
   "execution_count": null,
   "metadata": {},
   "outputs": [],
   "source": []
  }
 ],
 "metadata": {
  "kernelspec": {
   "display_name": "Python 3",
   "language": "python",
   "name": "python3"
  },
  "language_info": {
   "codemirror_mode": {
    "name": "ipython",
    "version": 3
   },
   "file_extension": ".py",
   "mimetype": "text/x-python",
   "name": "python",
   "nbconvert_exporter": "python",
   "pygments_lexer": "ipython3",
   "version": "3.7.3"
  }
 },
 "nbformat": 4,
 "nbformat_minor": 2
}
