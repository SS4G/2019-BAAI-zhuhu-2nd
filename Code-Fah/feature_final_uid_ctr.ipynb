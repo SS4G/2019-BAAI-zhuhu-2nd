{
 "cells": [
  {
   "cell_type": "code",
   "execution_count": 1,
   "metadata": {},
   "outputs": [],
   "source": [
    "import numpy as np\n",
    "import pandas as pd\n",
    "import matplotlib.pyplot as plt\n",
    "#import seaborn as sns\n",
    "import lightgbm as lgb\n",
    "from sklearn.metrics import accuracy_score\n",
    "from sklearn.model_selection import KFold\n",
    "import warnings\n",
    "import gc\n",
    "import time\n",
    "\n",
    "time_start=time.time()"
   ]
  },
  {
   "cell_type": "code",
   "execution_count": 2,
   "metadata": {},
   "outputs": [],
   "source": [
    "train=pd.read_csv('invite_info.txt',sep='\\s+',names=['qid','uid','time','target'])\n",
    "test=pd.read_csv('invite_info_evaluate_1.txt',sep='\\s+',names=['qid','uid','time'])"
   ]
  },
  {
   "cell_type": "code",
   "execution_count": 3,
   "metadata": {},
   "outputs": [],
   "source": [
    "import numpy\n",
    "import random\n",
    "import scipy.special as special\n",
    "import math\n",
    "from math import log\n",
    "\n",
    "class HyperParam(object):\n",
    "    def __init__(self, alpha, beta): # 先初始化alpha和beta\n",
    "        self.alpha = alpha\n",
    "        self.beta = beta\n",
    "\n",
    "    def sample_from_beta(self, alpha, beta, num, imp_upperbound):\n",
    "        sample = numpy.random.beta(alpha, beta, num)\n",
    "        I = []\n",
    "        C = []\n",
    "        for click_ratio in sample:\n",
    "            imp = random.random() * imp_upperbound\n",
    "            #imp = imp_upperbound\n",
    "            click = imp * click_ratio\n",
    "            I.append(imp)\n",
    "            C.append(click)\n",
    "        return I, C\n",
    "\n",
    "    # 更新方式1\n",
    "    def update_from_data_by_FPI(self, tries, success, iter_num, epsilon):\n",
    "        '''estimate alpha, beta using fixed point iteration(类似EM估计)\n",
    "        tries: 展示次数\n",
    "        success: 点击次数\n",
    "        iter_num: 迭代次数\n",
    "        epsilon: 精度\n",
    "        '''\n",
    "        for i in range(iter_num):\n",
    "            new_alpha, new_beta = self.__fixed_point_iteration(tries, success, self.alpha, self.beta)\n",
    "            # 当迭代稳定时，停止迭代\n",
    "            if abs(new_alpha - self.alpha) < epsilon and abs(new_beta - self.beta) < epsilon:\n",
    "                break\n",
    "            self.alpha = new_alpha\n",
    "            self.beta = new_beta\n",
    "\n",
    "    def __fixed_point_iteration(self, tries, success, alpha, beta):\n",
    "        '''fixed point iteration'''\n",
    "        sumfenzialpha = 0.0\n",
    "        sumfenzibeta = 0.0\n",
    "        sumfenmu = 0.0\n",
    "        for i in range(len(tries)):\n",
    "            sumfenzialpha += (special.digamma(success[i]+alpha) - special.digamma(alpha))\n",
    "            sumfenzibeta += (special.digamma(tries[i]-success[i]+beta) - special.digamma(beta))\n",
    "            sumfenmu += (special.digamma(tries[i]+alpha+beta) - special.digamma(alpha+beta))\n",
    "\n",
    "        return alpha*(sumfenzialpha/sumfenmu), beta*(sumfenzibeta/sumfenmu)\n",
    "\n",
    "    # 更新方式1\n",
    "    def update_from_data_by_moment(self, tries, success):\n",
    "        '''estimate alpha, beta using moment estimation(矩估计)\n",
    "        tries: 展示次数\n",
    "        success: 点击次数\n",
    "        '''\n",
    "        # 样本均值和样本方差\n",
    "        mean, var = self.__compute_moment(tries, success)\n",
    "        #print 'mean and variance: ', mean, var\n",
    "        #self.alpha = mean*(mean*(1-mean)/(var+0.000001)-1)\n",
    "        self.alpha = (mean+0.000001) * ((mean+0.000001) * (1.000001 - mean) / (var+0.000001) - 1)\n",
    "        #self.beta = (1-mean)*(mean*(1-mean)/(var+0.000001)-1)\n",
    "        self.beta = (1.000001 - mean) * ((mean+0.000001) * (1.000001 - mean) / (var+0.000001) - 1)\n",
    "\n",
    "    def __compute_moment(self, tries, success):\n",
    "        '''moment estimation(求样本均值和样本方差)'''\n",
    "        ctr_list = []\n",
    "        var = 0.0\n",
    "        for i in range(len(tries)):\n",
    "            ctr_list.append(float(success[i])/tries[i])\n",
    "        mean = sum(ctr_list)/len(ctr_list)\n",
    "        for ctr in ctr_list:\n",
    "            var += pow(ctr-mean, 2)\n",
    "\n",
    "        return mean, var/(len(ctr_list)-1)"
   ]
  },
  {
   "cell_type": "code",
   "execution_count": 4,
   "metadata": {},
   "outputs": [
    {
     "name": "stderr",
     "output_type": "stream",
     "text": [
      "100%|██████████| 10630845/10630845 [00:20<00:00, 520031.82it/s]\n"
     ]
    }
   ],
   "source": [
    "test['target']=-1\n",
    "data=pd.concat([train,test])\n",
    "data=data.reset_index(drop=True)\n",
    "from tqdm import tqdm\n",
    "tqdm.pandas()\n",
    "data['day']=data['time'].progress_apply(lambda x:int(x[1:].split('-H')[0]))"
   ]
  },
  {
   "cell_type": "code",
   "execution_count": 5,
   "metadata": {},
   "outputs": [],
   "source": [
    "data['fold']=0\n",
    "data.loc[(data.day>=3840)&(data.day<=3846),'fold']=1\n",
    "data.loc[(data.day>=3847)&(data.day<=3855),'fold']=2\n",
    "data.loc[(data.day>=3856)&(data.day<=3860),'fold']=3\n",
    "data.loc[(data.day>=3861)&(data.day<=3867),'fold']=4\n",
    "data.loc[data.target==-1,'fold']=5"
   ]
  },
  {
   "cell_type": "code",
   "execution_count": null,
   "metadata": {},
   "outputs": [],
   "source": [
    "###\n",
    "##\n",
    "#"
   ]
  },
  {
   "cell_type": "code",
   "execution_count": 3,
   "metadata": {},
   "outputs": [],
   "source": [
    "member_info=pd.read_csv('member_info.txt',sep='\\s+',names=['uid','sex','key_word','num_level','hot_level','regis_type','regis_platform',\n",
    "                                                          'look_freq','a','b','c','d','e','A','B','C','D','E','salt','l_topic','topic_n'])"
   ]
  },
  {
   "cell_type": "code",
   "execution_count": 4,
   "metadata": {},
   "outputs": [],
   "source": [
    "member_info=member_info[['uid','look_freq','A','B','C','D',]]"
   ]
  },
  {
   "cell_type": "code",
   "execution_count": 10,
   "metadata": {},
   "outputs": [],
   "source": [
    "data=data.merge(member_info,on='uid',how='left')"
   ]
  },
  {
   "cell_type": "code",
   "execution_count": 11,
   "metadata": {},
   "outputs": [
    {
     "data": {
      "text/html": [
       "<div>\n",
       "<style scoped>\n",
       "    .dataframe tbody tr th:only-of-type {\n",
       "        vertical-align: middle;\n",
       "    }\n",
       "\n",
       "    .dataframe tbody tr th {\n",
       "        vertical-align: top;\n",
       "    }\n",
       "\n",
       "    .dataframe thead th {\n",
       "        text-align: right;\n",
       "    }\n",
       "</style>\n",
       "<table border=\"1\" class=\"dataframe\">\n",
       "  <thead>\n",
       "    <tr style=\"text-align: right;\">\n",
       "      <th></th>\n",
       "      <th>index</th>\n",
       "      <th>qid</th>\n",
       "      <th>uid</th>\n",
       "      <th>time</th>\n",
       "      <th>target</th>\n",
       "      <th>day</th>\n",
       "      <th>fold</th>\n",
       "      <th>look_freq</th>\n",
       "      <th>A</th>\n",
       "      <th>B</th>\n",
       "      <th>C</th>\n",
       "      <th>D</th>\n",
       "    </tr>\n",
       "  </thead>\n",
       "  <tbody>\n",
       "    <tr>\n",
       "      <th>0</th>\n",
       "      <td>0</td>\n",
       "      <td>Q2166419046</td>\n",
       "      <td>M401693808</td>\n",
       "      <td>D3865-H22</td>\n",
       "      <td>0</td>\n",
       "      <td>3865</td>\n",
       "      <td>4</td>\n",
       "      <td>weekly</td>\n",
       "      <td>MD825760</td>\n",
       "      <td>BR641329</td>\n",
       "      <td>PV587951</td>\n",
       "      <td>CT587951</td>\n",
       "    </tr>\n",
       "    <tr>\n",
       "      <th>1</th>\n",
       "      <td>1</td>\n",
       "      <td>Q1550017551</td>\n",
       "      <td>M3392373099</td>\n",
       "      <td>D3844-H11</td>\n",
       "      <td>0</td>\n",
       "      <td>3844</td>\n",
       "      <td>1</td>\n",
       "      <td>monthly</td>\n",
       "      <td>MD470265</td>\n",
       "      <td>BR470265</td>\n",
       "      <td>PV596305</td>\n",
       "      <td>CT470265</td>\n",
       "    </tr>\n",
       "    <tr>\n",
       "      <th>2</th>\n",
       "      <td>2</td>\n",
       "      <td>Q604029601</td>\n",
       "      <td>M2317670257</td>\n",
       "      <td>D3862-H15</td>\n",
       "      <td>0</td>\n",
       "      <td>3862</td>\n",
       "      <td>4</td>\n",
       "      <td>weekly</td>\n",
       "      <td>MD590290</td>\n",
       "      <td>BR800099</td>\n",
       "      <td>PV002320</td>\n",
       "      <td>CT314932</td>\n",
       "    </tr>\n",
       "    <tr>\n",
       "      <th>3</th>\n",
       "      <td>3</td>\n",
       "      <td>Q2350061229</td>\n",
       "      <td>M1618461867</td>\n",
       "      <td>D3849-H11</td>\n",
       "      <td>0</td>\n",
       "      <td>3849</td>\n",
       "      <td>2</td>\n",
       "      <td>daily</td>\n",
       "      <td>MD470265</td>\n",
       "      <td>BR470265</td>\n",
       "      <td>PV587951</td>\n",
       "      <td>CT587951</td>\n",
       "    </tr>\n",
       "    <tr>\n",
       "      <th>4</th>\n",
       "      <td>4</td>\n",
       "      <td>Q2443223942</td>\n",
       "      <td>M3544409350</td>\n",
       "      <td>D3867-H4</td>\n",
       "      <td>0</td>\n",
       "      <td>3867</td>\n",
       "      <td>4</td>\n",
       "      <td>monthly</td>\n",
       "      <td>MD224131</td>\n",
       "      <td>BR788740</td>\n",
       "      <td>PV426364</td>\n",
       "      <td>CT513159</td>\n",
       "    </tr>\n",
       "  </tbody>\n",
       "</table>\n",
       "</div>"
      ],
      "text/plain": [
       "   index          qid          uid       time  target   day  fold look_freq  \\\n",
       "0      0  Q2166419046   M401693808  D3865-H22       0  3865     4    weekly   \n",
       "1      1  Q1550017551  M3392373099  D3844-H11       0  3844     1   monthly   \n",
       "2      2   Q604029601  M2317670257  D3862-H15       0  3862     4    weekly   \n",
       "3      3  Q2350061229  M1618461867  D3849-H11       0  3849     2     daily   \n",
       "4      4  Q2443223942  M3544409350   D3867-H4       0  3867     4   monthly   \n",
       "\n",
       "          A         B         C         D  \n",
       "0  MD825760  BR641329  PV587951  CT587951  \n",
       "1  MD470265  BR470265  PV596305  CT470265  \n",
       "2  MD590290  BR800099  PV002320  CT314932  \n",
       "3  MD470265  BR470265  PV587951  CT587951  \n",
       "4  MD224131  BR788740  PV426364  CT513159  "
      ]
     },
     "execution_count": 11,
     "metadata": {},
     "output_type": "execute_result"
    }
   ],
   "source": [
    "data.head()"
   ]
  },
  {
   "cell_type": "code",
   "execution_count": 25,
   "metadata": {
    "scrolled": true
   },
   "outputs": [
    {
     "name": "stderr",
     "output_type": "stream",
     "text": [
      "\n",
      "\n",
      "  0%|          | 0/7 [00:00<?, ?it/s]\u001b[A\u001b[A"
     ]
    },
    {
     "name": "stdout",
     "output_type": "stream",
     "text": [
      "0.24610192951574528\n",
      "0.23720049152604264\n",
      "0.23424362591617984\n",
      "0.23820420655289806\n"
     ]
    },
    {
     "name": "stderr",
     "output_type": "stream",
     "text": [
      "\n",
      "\n",
      " 14%|█▍        | 1/7 [01:01<06:07, 61.25s/it]\u001b[A\u001b[A"
     ]
    },
    {
     "name": "stdout",
     "output_type": "stream",
     "text": [
      "0.24185488964065213\n",
      "0.17969634834299322\n",
      "0.17631040971727288\n",
      "0.17716163637564009\n",
      "0.17462245505454044\n"
     ]
    },
    {
     "name": "stderr",
     "output_type": "stream",
     "text": [
      "\n",
      "\n",
      " 29%|██▊       | 2/7 [02:31<05:50, 70.05s/it]\u001b[A\u001b[A"
     ]
    },
    {
     "name": "stdout",
     "output_type": "stream",
     "text": [
      "0.17222701515611114\n",
      "0.17715326105832943\n",
      "0.1643207917995281\n",
      "0.16812789975754067\n",
      "0.18611010869858133\n"
     ]
    },
    {
     "name": "stderr",
     "output_type": "stream",
     "text": [
      "\n",
      "\n",
      " 43%|████▎     | 3/7 [02:53<03:42, 55.53s/it]\u001b[A\u001b[A"
     ]
    },
    {
     "name": "stdout",
     "output_type": "stream",
     "text": [
      "0.19899498992745973\n",
      "0.20141812196601885\n",
      "0.17686114476699394\n",
      "0.1748252422631751\n",
      "0.20434027060406867\n"
     ]
    },
    {
     "name": "stderr",
     "output_type": "stream",
     "text": [
      "\n",
      "\n",
      " 57%|█████▋    | 4/7 [03:15<02:16, 45.38s/it]\u001b[A\u001b[A"
     ]
    },
    {
     "name": "stdout",
     "output_type": "stream",
     "text": [
      "0.22502828328148505\n",
      "0.1812247001230216\n",
      "0.1731917607997316\n",
      "0.16001531188098583\n",
      "0.16074065208578617\n"
     ]
    },
    {
     "name": "stderr",
     "output_type": "stream",
     "text": [
      "\n",
      "\n",
      " 71%|███████▏  | 5/7 [03:37<01:16, 38.39s/it]\u001b[A\u001b[A"
     ]
    },
    {
     "name": "stdout",
     "output_type": "stream",
     "text": [
      "0.15329394891527084\n",
      "0.1752496191944366\n",
      "0.16805443929854383\n",
      "0.15201890184024008\n",
      "0.14911831090145813\n"
     ]
    },
    {
     "name": "stderr",
     "output_type": "stream",
     "text": [
      "\n",
      "\n",
      " 86%|████████▌ | 6/7 [04:00<00:33, 33.81s/it]\u001b[A\u001b[A"
     ]
    },
    {
     "name": "stdout",
     "output_type": "stream",
     "text": [
      "0.14206146570888067\n",
      "0.22632710392133687\n",
      "0.2146577887419691\n",
      "0.24734979240116065\n",
      "0.24701819085811713\n"
     ]
    },
    {
     "name": "stderr",
     "output_type": "stream",
     "text": [
      "\n",
      "\n",
      "100%|██████████| 7/7 [04:23<00:00, 37.58s/it]\u001b[A\u001b[A"
     ]
    },
    {
     "name": "stdout",
     "output_type": "stream",
     "text": [
      "0.2343314705264628\n"
     ]
    },
    {
     "name": "stderr",
     "output_type": "stream",
     "text": [
      "\n"
     ]
    }
   ],
   "source": [
    "encode_list=['qid','uid','A','B','C','D','look_freq']\n",
    "for i in tqdm(encode_list):\n",
    "    data[i+'_pro']=np.nan\n",
    "    #break\n",
    "    for fold in range(1,6):\n",
    "        count=data[data.fold<fold].groupby(i)['target'].agg('count')\n",
    "        sum_=data[data.fold<fold].groupby(i)['target'].agg('sum')\n",
    "        HP = HyperParam(1, 1)\n",
    "        HP.update_from_data_by_moment(count.values,sum_.values) \n",
    "        ctr=(sum_+ HP.alpha) / (count+ HP.alpha + HP.beta)\n",
    "        data.loc[data.fold==fold ,i+'_pro']=data[data.fold==fold][i].map(ctr)\n",
    "        data.loc[data.fold==fold ,i+'_pro']=data.loc[data.fold==fold ,i+'_pro'].fillna(HP.alpha / (HP.alpha + HP.beta))\n",
    "        print(HP.alpha / (HP.alpha + HP.beta))"
   ]
  },
  {
   "cell_type": "code",
   "execution_count": 27,
   "metadata": {},
   "outputs": [
    {
     "data": {
      "text/plain": [
       "Index(['index', 'qid', 'uid', 'time', 'target', 'day', 'fold', 'look_freq',\n",
       "       'A', 'B', 'C', 'D', 'qid_pro', 'uid_pro', 'A_pro', 'B_pro', 'C_pro',\n",
       "       'D_pro', 'look_freq_pro'],\n",
       "      dtype='object')"
      ]
     },
     "execution_count": 27,
     "metadata": {},
     "output_type": "execute_result"
    }
   ],
   "source": [
    "data.columns"
   ]
  },
  {
   "cell_type": "code",
   "execution_count": 28,
   "metadata": {
    "scrolled": true
   },
   "outputs": [],
   "source": [
    "data[['qid_pro', 'uid_pro', 'A_pro', 'B_pro', 'C_pro',\n",
    "       'D_pro', 'look_freq_pro']].to_hdf('feature_uid_ctr_new.h5', key='data')"
   ]
  },
  {
   "cell_type": "code",
   "execution_count": null,
   "metadata": {},
   "outputs": [],
   "source": []
  }
 ],
 "metadata": {
  "kernelspec": {
   "display_name": "Python 3",
   "language": "python",
   "name": "python3"
  },
  "language_info": {
   "codemirror_mode": {
    "name": "ipython",
    "version": 3
   },
   "file_extension": ".py",
   "mimetype": "text/x-python",
   "name": "python",
   "nbconvert_exporter": "python",
   "pygments_lexer": "ipython3",
   "version": "3.7.3"
  }
 },
 "nbformat": 4,
 "nbformat_minor": 2
}
