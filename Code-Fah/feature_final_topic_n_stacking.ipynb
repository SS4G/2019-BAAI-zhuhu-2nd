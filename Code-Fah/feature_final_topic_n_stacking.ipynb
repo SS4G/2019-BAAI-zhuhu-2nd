{
 "cells": [
  {
   "cell_type": "code",
   "execution_count": 1,
   "metadata": {
    "scrolled": true
   },
   "outputs": [],
   "source": [
    "import pandas as pd\n",
    "\n",
    "# answer_info=pd.read_csv('answer_info.txt',sep='\\s+',names=['aid','qid','uid','atime','ainfo','ainfoc','fine',\n",
    "#                                                                  'recommend','table','picture','video','numword',\n",
    "#                                                                  'thumbsup','thumbsdown','comment','collect','thank',\n",
    "#                                                                  'report','nohelp','oppose'])\n",
    "invite_info=pd.read_csv('invite_info.txt',sep='\\s+',names=['qid','uid','time','target'])\n",
    "invite_info_evaluate=pd.read_csv('invite_info_evaluate_2_0926.txt',sep='\\s+',names=['qid','uid','time'])\n",
    "ques_info=pd.read_csv('question_info.txt',sep='\\s+',names=['qid','qtime','qtitle','qtitlec','qinfo','qinfoc','qtopic'])"
   ]
  },
  {
   "cell_type": "code",
   "execution_count": 2,
   "metadata": {},
   "outputs": [],
   "source": [
    "member_info=pd.read_csv('member_info.txt',sep='\\s+',names=['uid','sex','key_word','num_level','hot_level','regis_type','regis_platform',\n",
    "                                                          'look_freq','a','b','c','d','e','A','B','C','D','E','salt','l_topic','topic_n'])"
   ]
  },
  {
   "cell_type": "code",
   "execution_count": 3,
   "metadata": {},
   "outputs": [],
   "source": [
    "member_info.drop_duplicates(['uid'],inplace=True)\n",
    "ques_info.drop_duplicates(['qid'],inplace=True)"
   ]
  },
  {
   "cell_type": "code",
   "execution_count": 4,
   "metadata": {
    "scrolled": true
   },
   "outputs": [],
   "source": [
    "train=invite_info[['qid','uid','target']]\n",
    "test=invite_info_evaluate[['qid','uid']]"
   ]
  },
  {
   "cell_type": "code",
   "execution_count": 5,
   "metadata": {},
   "outputs": [],
   "source": [
    "member_info=member_info[['uid','topic_n']]\n",
    "ques_info=ques_info[['qid','qtopic']]"
   ]
  },
  {
   "cell_type": "code",
   "execution_count": 6,
   "metadata": {},
   "outputs": [],
   "source": [
    "train=pd.merge(train,member_info,on='uid',how='left')\n",
    "test=pd.merge(test,member_info,on='uid',how='left')\n",
    "\n",
    "train=pd.merge(train,ques_info,on='qid',how='left')\n",
    "test=pd.merge(test,ques_info,on='qid',how='left')"
   ]
  },
  {
   "cell_type": "code",
   "execution_count": 7,
   "metadata": {},
   "outputs": [
    {
     "data": {
      "text/html": [
       "<div>\n",
       "<style scoped>\n",
       "    .dataframe tbody tr th:only-of-type {\n",
       "        vertical-align: middle;\n",
       "    }\n",
       "\n",
       "    .dataframe tbody tr th {\n",
       "        vertical-align: top;\n",
       "    }\n",
       "\n",
       "    .dataframe thead th {\n",
       "        text-align: right;\n",
       "    }\n",
       "</style>\n",
       "<table border=\"1\" class=\"dataframe\">\n",
       "  <thead>\n",
       "    <tr style=\"text-align: right;\">\n",
       "      <th></th>\n",
       "      <th>qid</th>\n",
       "      <th>uid</th>\n",
       "      <th>target</th>\n",
       "      <th>topic_n</th>\n",
       "      <th>qtopic</th>\n",
       "    </tr>\n",
       "  </thead>\n",
       "  <tbody>\n",
       "    <tr>\n",
       "      <th>0</th>\n",
       "      <td>Q2166419046</td>\n",
       "      <td>M401693808</td>\n",
       "      <td>0</td>\n",
       "      <td>T2794:1.1527717,T9701:0.94830835,T9533:0.85710...</td>\n",
       "      <td>T456,T112,T9566,T5310</td>\n",
       "    </tr>\n",
       "    <tr>\n",
       "      <th>1</th>\n",
       "      <td>Q1550017551</td>\n",
       "      <td>M3392373099</td>\n",
       "      <td>0</td>\n",
       "      <td>T1470:1.4682752,T235:1.4412646,T4692:1.3516154...</td>\n",
       "      <td>T2,T3095</td>\n",
       "    </tr>\n",
       "    <tr>\n",
       "      <th>2</th>\n",
       "      <td>Q604029601</td>\n",
       "      <td>M2317670257</td>\n",
       "      <td>0</td>\n",
       "      <td>T13383:1.4091244,T1955:1.385072,T8943:1.314409...</td>\n",
       "      <td>T6090,T2156,T97,T456</td>\n",
       "    </tr>\n",
       "    <tr>\n",
       "      <th>3</th>\n",
       "      <td>Q2350061229</td>\n",
       "      <td>M1618461867</td>\n",
       "      <td>0</td>\n",
       "      <td>T671:1.4648209,T3772:1.2451016,T974:1.2110636,...</td>\n",
       "      <td>T856</td>\n",
       "    </tr>\n",
       "    <tr>\n",
       "      <th>4</th>\n",
       "      <td>Q2443223942</td>\n",
       "      <td>M3544409350</td>\n",
       "      <td>0</td>\n",
       "      <td>T4876:1.1308655,T2467:0.9645766,T245:0.9475922...</td>\n",
       "      <td>T26,T76,T17</td>\n",
       "    </tr>\n",
       "  </tbody>\n",
       "</table>\n",
       "</div>"
      ],
      "text/plain": [
       "           qid          uid  target  \\\n",
       "0  Q2166419046   M401693808       0   \n",
       "1  Q1550017551  M3392373099       0   \n",
       "2   Q604029601  M2317670257       0   \n",
       "3  Q2350061229  M1618461867       0   \n",
       "4  Q2443223942  M3544409350       0   \n",
       "\n",
       "                                             topic_n                 qtopic  \n",
       "0  T2794:1.1527717,T9701:0.94830835,T9533:0.85710...  T456,T112,T9566,T5310  \n",
       "1  T1470:1.4682752,T235:1.4412646,T4692:1.3516154...               T2,T3095  \n",
       "2  T13383:1.4091244,T1955:1.385072,T8943:1.314409...   T6090,T2156,T97,T456  \n",
       "3  T671:1.4648209,T3772:1.2451016,T974:1.2110636,...                   T856  \n",
       "4  T4876:1.1308655,T2467:0.9645766,T245:0.9475922...            T26,T76,T17  "
      ]
     },
     "execution_count": 7,
     "metadata": {},
     "output_type": "execute_result"
    }
   ],
   "source": [
    "train.head()"
   ]
  },
  {
   "cell_type": "code",
   "execution_count": 8,
   "metadata": {},
   "outputs": [],
   "source": [
    "train['topic_n'] = train['topic_n'].astype(str).map(lambda x:x.split(','))\n",
    "train['qtopic_len'] = train['topic_n'].map(lambda x:len(x))"
   ]
  },
  {
   "cell_type": "code",
   "execution_count": 9,
   "metadata": {},
   "outputs": [],
   "source": [
    "test['topic_n'] = test['topic_n'].astype(str).map(lambda x:x.split(','))\n",
    "test['qtopic_len'] = test['topic_n'].map(lambda x:len(x))"
   ]
  },
  {
   "cell_type": "code",
   "execution_count": 10,
   "metadata": {},
   "outputs": [],
   "source": [
    "from tqdm import tqdm\n",
    "\n",
    "def flatten_topic(df):    \n",
    "    u = []\n",
    "    a = []\n",
    "    q=[]\n",
    "    for i in tqdm(range(len(df['topic_n'].values))):\n",
    "        u += [df['uid'].values[i]]*df['qtopic_len'].values[i]\n",
    "        q += [df['qid'].values[i]]*df['qtopic_len'].values[i]\n",
    "        a += list(df['topic_n'].values[i])\n",
    "        \n",
    "    new_df = pd.DataFrame()\n",
    "    new_df['uid'] = u\n",
    "    new_df['qid'] = q\n",
    "    new_df['topic_n'] = a\n",
    "        \n",
    "    return new_df"
   ]
  },
  {
   "cell_type": "code",
   "execution_count": 11,
   "metadata": {},
   "outputs": [
    {
     "name": "stderr",
     "output_type": "stream",
     "text": [
      "100%|██████████| 9489162/9489162 [03:25<00:00, 46237.07it/s]\n",
      "100%|██████████| 1141718/1141718 [00:25<00:00, 45202.13it/s]\n"
     ]
    }
   ],
   "source": [
    "deal_train=flatten_topic(train)\n",
    "deal_test=flatten_topic(test)"
   ]
  },
  {
   "cell_type": "code",
   "execution_count": 12,
   "metadata": {},
   "outputs": [],
   "source": [
    "from tqdm import tqdm\n",
    "tqdm.pandas()"
   ]
  },
  {
   "cell_type": "code",
   "execution_count": 13,
   "metadata": {},
   "outputs": [
    {
     "name": "stderr",
     "output_type": "stream",
     "text": [
      "100%|██████████| 75417893/75417893 [04:28<00:00, 280677.33it/s]\n"
     ]
    }
   ],
   "source": [
    "deal_train['topic_n_']=deal_train['topic_n'].progress_apply(lambda x:x.split(':'))"
   ]
  },
  {
   "cell_type": "code",
   "execution_count": 14,
   "metadata": {},
   "outputs": [
    {
     "name": "stderr",
     "output_type": "stream",
     "text": [
      "100%|██████████| 8726071/8726071 [00:24<00:00, 356224.93it/s]\n"
     ]
    }
   ],
   "source": [
    "deal_test['topic_n_']=deal_test['topic_n'].progress_apply(lambda x:x.split(':'))"
   ]
  },
  {
   "cell_type": "code",
   "execution_count": 15,
   "metadata": {},
   "outputs": [],
   "source": [
    "topic_n_tn=pd.DataFrame(deal_train['topic_n_'].tolist())\n",
    "topic_n_te=pd.DataFrame(deal_test['topic_n_'].tolist())"
   ]
  },
  {
   "cell_type": "code",
   "execution_count": 16,
   "metadata": {
    "scrolled": true
   },
   "outputs": [],
   "source": [
    "deal_train=pd.concat([deal_train,topic_n_tn],axis=1)\n",
    "deal_test=pd.concat([deal_test,topic_n_te],axis=1)\n",
    "deal_train['id']=deal_train['uid']+deal_train['qid']\n",
    "deal_test['id']=deal_test['uid']+deal_test['qid']"
   ]
  },
  {
   "cell_type": "code",
   "execution_count": 17,
   "metadata": {
    "scrolled": true
   },
   "outputs": [],
   "source": [
    "all_data=pd.concat([deal_train,deal_test])"
   ]
  },
  {
   "cell_type": "code",
   "execution_count": 18,
   "metadata": {},
   "outputs": [],
   "source": [
    "all_data=all_data.fillna(0)"
   ]
  },
  {
   "cell_type": "code",
   "execution_count": 19,
   "metadata": {},
   "outputs": [],
   "source": [
    "import numpy as np"
   ]
  },
  {
   "cell_type": "code",
   "execution_count": 20,
   "metadata": {},
   "outputs": [],
   "source": [
    "all_data[1]=all_data[1].astype(float).replace([np.inf,-np.inf],0)"
   ]
  },
  {
   "cell_type": "code",
   "execution_count": 21,
   "metadata": {},
   "outputs": [
    {
     "data": {
      "text/html": [
       "<div>\n",
       "<style scoped>\n",
       "    .dataframe tbody tr th:only-of-type {\n",
       "        vertical-align: middle;\n",
       "    }\n",
       "\n",
       "    .dataframe tbody tr th {\n",
       "        vertical-align: top;\n",
       "    }\n",
       "\n",
       "    .dataframe thead th {\n",
       "        text-align: right;\n",
       "    }\n",
       "</style>\n",
       "<table border=\"1\" class=\"dataframe\">\n",
       "  <thead>\n",
       "    <tr style=\"text-align: right;\">\n",
       "      <th></th>\n",
       "      <th>uid</th>\n",
       "      <th>qid</th>\n",
       "      <th>topic_n</th>\n",
       "      <th>topic_n_</th>\n",
       "      <th>0</th>\n",
       "      <th>1</th>\n",
       "      <th>id</th>\n",
       "    </tr>\n",
       "  </thead>\n",
       "  <tbody>\n",
       "    <tr>\n",
       "      <th>0</th>\n",
       "      <td>M401693808</td>\n",
       "      <td>Q2166419046</td>\n",
       "      <td>T2794:1.1527717</td>\n",
       "      <td>[T2794, 1.1527717]</td>\n",
       "      <td>T2794</td>\n",
       "      <td>1.152772</td>\n",
       "      <td>M401693808Q2166419046</td>\n",
       "    </tr>\n",
       "    <tr>\n",
       "      <th>1</th>\n",
       "      <td>M401693808</td>\n",
       "      <td>Q2166419046</td>\n",
       "      <td>T9701:0.94830835</td>\n",
       "      <td>[T9701, 0.94830835]</td>\n",
       "      <td>T9701</td>\n",
       "      <td>0.948308</td>\n",
       "      <td>M401693808Q2166419046</td>\n",
       "    </tr>\n",
       "    <tr>\n",
       "      <th>2</th>\n",
       "      <td>M401693808</td>\n",
       "      <td>Q2166419046</td>\n",
       "      <td>T9533:0.8571003</td>\n",
       "      <td>[T9533, 0.8571003]</td>\n",
       "      <td>T9533</td>\n",
       "      <td>0.857100</td>\n",
       "      <td>M401693808Q2166419046</td>\n",
       "    </tr>\n",
       "    <tr>\n",
       "      <th>3</th>\n",
       "      <td>M401693808</td>\n",
       "      <td>Q2166419046</td>\n",
       "      <td>T2396:0.8536834</td>\n",
       "      <td>[T2396, 0.8536834]</td>\n",
       "      <td>T2396</td>\n",
       "      <td>0.853683</td>\n",
       "      <td>M401693808Q2166419046</td>\n",
       "    </tr>\n",
       "    <tr>\n",
       "      <th>4</th>\n",
       "      <td>M401693808</td>\n",
       "      <td>Q2166419046</td>\n",
       "      <td>T11120:0.8136603</td>\n",
       "      <td>[T11120, 0.8136603]</td>\n",
       "      <td>T11120</td>\n",
       "      <td>0.813660</td>\n",
       "      <td>M401693808Q2166419046</td>\n",
       "    </tr>\n",
       "  </tbody>\n",
       "</table>\n",
       "</div>"
      ],
      "text/plain": [
       "          uid          qid           topic_n             topic_n_       0  \\\n",
       "0  M401693808  Q2166419046   T2794:1.1527717   [T2794, 1.1527717]   T2794   \n",
       "1  M401693808  Q2166419046  T9701:0.94830835  [T9701, 0.94830835]   T9701   \n",
       "2  M401693808  Q2166419046   T9533:0.8571003   [T9533, 0.8571003]   T9533   \n",
       "3  M401693808  Q2166419046   T2396:0.8536834   [T2396, 0.8536834]   T2396   \n",
       "4  M401693808  Q2166419046  T11120:0.8136603  [T11120, 0.8136603]  T11120   \n",
       "\n",
       "          1                     id  \n",
       "0  1.152772  M401693808Q2166419046  \n",
       "1  0.948308  M401693808Q2166419046  \n",
       "2  0.857100  M401693808Q2166419046  \n",
       "3  0.853683  M401693808Q2166419046  \n",
       "4  0.813660  M401693808Q2166419046  "
      ]
     },
     "execution_count": 21,
     "metadata": {},
     "output_type": "execute_result"
    }
   ],
   "source": [
    "all_data.head()"
   ]
  },
  {
   "cell_type": "code",
   "execution_count": 22,
   "metadata": {
    "scrolled": true
   },
   "outputs": [
    {
     "data": {
      "text/plain": [
       "84143964"
      ]
     },
     "execution_count": 22,
     "metadata": {},
     "output_type": "execute_result"
    }
   ],
   "source": [
    "id_=all_data[['id']]\n",
    "len(id_)"
   ]
  },
  {
   "cell_type": "code",
   "execution_count": 23,
   "metadata": {},
   "outputs": [
    {
     "data": {
      "text/plain": [
       "10630880"
      ]
     },
     "execution_count": 23,
     "metadata": {},
     "output_type": "execute_result"
    }
   ],
   "source": [
    "len(train)+len(test)"
   ]
  },
  {
   "cell_type": "code",
   "execution_count": 24,
   "metadata": {},
   "outputs": [
    {
     "name": "stderr",
     "output_type": "stream",
     "text": [
      "/root/anaconda3/lib/python3.7/site-packages/ipykernel_launcher.py:1: FutureWarning: Sorting because non-concatenation axis is not aligned. A future version\n",
      "of pandas will change to not sort by default.\n",
      "\n",
      "To accept the future behavior, pass 'sort=False'.\n",
      "\n",
      "To retain the current behavior and silence the warning, pass 'sort=True'.\n",
      "\n",
      "  \"\"\"Entry point for launching an IPython kernel.\n"
     ]
    },
    {
     "data": {
      "text/plain": [
       "10628231"
      ]
     },
     "execution_count": 24,
     "metadata": {},
     "output_type": "execute_result"
    }
   ],
   "source": [
    "x=pd.concat([train,test])\n",
    "x['id']=x['uid']+x['qid']\n",
    "#x=x.drop_duplicates(['id'])\n",
    "len(x.drop_duplicates(['id']))"
   ]
  },
  {
   "cell_type": "code",
   "execution_count": 25,
   "metadata": {},
   "outputs": [
    {
     "data": {
      "text/plain": [
       "10630880"
      ]
     },
     "execution_count": 25,
     "metadata": {},
     "output_type": "execute_result"
    }
   ],
   "source": [
    "len(x)"
   ]
  },
  {
   "cell_type": "code",
   "execution_count": 26,
   "metadata": {},
   "outputs": [
    {
     "name": "stderr",
     "output_type": "stream",
     "text": [
      "100%|██████████| 2/2 [03:30<00:00, 95.00s/it]\n"
     ]
    }
   ],
   "source": [
    "from tqdm import tqdm\n",
    "cat_col=[0,'id']\n",
    "from sklearn.preprocessing import LabelEncoder\n",
    "for feat in tqdm(cat_col):\n",
    "    lbl = LabelEncoder()\n",
    "    all_data[feat] = lbl.fit_transform(all_data[feat].astype('str'))"
   ]
  },
  {
   "cell_type": "code",
   "execution_count": 27,
   "metadata": {},
   "outputs": [],
   "source": [
    "all_data=all_data.sort_values('id')"
   ]
  },
  {
   "cell_type": "code",
   "execution_count": 28,
   "metadata": {
    "scrolled": true
   },
   "outputs": [],
   "source": [
    "x=all_data"
   ]
  },
  {
   "cell_type": "code",
   "execution_count": 29,
   "metadata": {},
   "outputs": [],
   "source": [
    "x['id_']=x['uid']+x['qid']"
   ]
  },
  {
   "cell_type": "code",
   "execution_count": 30,
   "metadata": {},
   "outputs": [
    {
     "data": {
      "text/plain": [
       "84143964"
      ]
     },
     "execution_count": 30,
     "metadata": {},
     "output_type": "execute_result"
    }
   ],
   "source": [
    "len(x)"
   ]
  },
  {
   "cell_type": "code",
   "execution_count": 31,
   "metadata": {},
   "outputs": [],
   "source": [
    "x=x.drop_duplicates(['id_'])"
   ]
  },
  {
   "cell_type": "code",
   "execution_count": 32,
   "metadata": {},
   "outputs": [
    {
     "data": {
      "text/plain": [
       "10628231"
      ]
     },
     "execution_count": 32,
     "metadata": {},
     "output_type": "execute_result"
    }
   ],
   "source": [
    "len(x)"
   ]
  },
  {
   "cell_type": "code",
   "execution_count": 33,
   "metadata": {},
   "outputs": [
    {
     "name": "stderr",
     "output_type": "stream",
     "text": [
      "/root/anaconda3/lib/python3.7/site-packages/ipykernel_launcher.py:1: FutureWarning: Sorting because non-concatenation axis is not aligned. A future version\n",
      "of pandas will change to not sort by default.\n",
      "\n",
      "To accept the future behavior, pass 'sort=False'.\n",
      "\n",
      "To retain the current behavior and silence the warning, pass 'sort=True'.\n",
      "\n",
      "  \"\"\"Entry point for launching an IPython kernel.\n"
     ]
    }
   ],
   "source": [
    "y=pd.concat([train,test])\n",
    "y['id_']=y['uid']+y['qid']\n",
    "y=y.drop_duplicates(['id_'])"
   ]
  },
  {
   "cell_type": "code",
   "execution_count": 34,
   "metadata": {},
   "outputs": [],
   "source": [
    "y=y[['qtopic','target','id_']]"
   ]
  },
  {
   "cell_type": "code",
   "execution_count": 35,
   "metadata": {},
   "outputs": [],
   "source": [
    "x=x.reset_index(drop=True)"
   ]
  },
  {
   "cell_type": "code",
   "execution_count": 36,
   "metadata": {
    "scrolled": true
   },
   "outputs": [],
   "source": [
    "x=pd.merge(x,y,how='left',on='id_')"
   ]
  },
  {
   "cell_type": "code",
   "execution_count": 37,
   "metadata": {},
   "outputs": [
    {
     "data": {
      "text/plain": [
       "84143964"
      ]
     },
     "execution_count": 37,
     "metadata": {},
     "output_type": "execute_result"
    }
   ],
   "source": [
    "len(all_data)"
   ]
  },
  {
   "cell_type": "code",
   "execution_count": 38,
   "metadata": {},
   "outputs": [
    {
     "name": "stdout",
     "output_type": "stream",
     "text": [
      "Mem. usage decreased to 4493.77 Mb (22.2% reduction)\n"
     ]
    }
   ],
   "source": [
    "def reduce_mem_usage(df, verbose=True):\n",
    "    numerics = ['int16', 'int32', 'int64', 'float16', 'float32', 'float64']\n",
    "    start_mem = df.memory_usage().sum() / 1024**2    \n",
    "    for col in df.columns:\n",
    "        col_type = df[col].dtypes\n",
    "        if col_type in numerics:\n",
    "            c_min = df[col].min()\n",
    "            c_max = df[col].max()\n",
    "            if str(col_type)[:3] == 'int':\n",
    "                if c_min > np.iinfo(np.int8).min and c_max < np.iinfo(np.int8).max:\n",
    "                    df[col] = df[col].astype(np.int8)\n",
    "                elif c_min > np.iinfo(np.int16).min and c_max < np.iinfo(np.int16).max:\n",
    "                    df[col] = df[col].astype(np.int16)\n",
    "                elif c_min > np.iinfo(np.int32).min and c_max < np.iinfo(np.int32).max:\n",
    "                    df[col] = df[col].astype(np.int32)\n",
    "                elif c_min > np.iinfo(np.int64).min and c_max < np.iinfo(np.int64).max:\n",
    "                    df[col] = df[col].astype(np.int64)  \n",
    "            else:\n",
    "                if c_min > np.finfo(np.float16).min and c_max < np.finfo(np.float16).max:\n",
    "                    df[col] = df[col].astype(np.float16)\n",
    "                elif c_min > np.finfo(np.float32).min and c_max < np.finfo(np.float32).max:\n",
    "                    df[col] = df[col].astype(np.float32)\n",
    "                else:\n",
    "                    df[col] = df[col].astype(np.float32)    \n",
    "    end_mem = df.memory_usage().sum() / 1024**2\n",
    "    if verbose: print('Mem. usage decreased to {:5.2f} Mb ({:.1f}% reduction)'.format(end_mem, 100 * (start_mem - end_mem) / start_mem))\n",
    "    return df\n",
    "all_data=reduce_mem_usage(all_data)"
   ]
  },
  {
   "cell_type": "code",
   "execution_count": 39,
   "metadata": {
    "scrolled": true
   },
   "outputs": [],
   "source": [
    "from scipy.sparse import csr_matrix\n",
    "\n",
    "csr_= csr_matrix((all_data[1], (all_data['id'], all_data[0])))#构造csr方法\n"
   ]
  },
  {
   "cell_type": "code",
   "execution_count": 40,
   "metadata": {
    "scrolled": true
   },
   "outputs": [
    {
     "data": {
      "text/plain": [
       "(10628231, 22872)"
      ]
     },
     "execution_count": 40,
     "metadata": {},
     "output_type": "execute_result"
    }
   ],
   "source": [
    "csr_.shape"
   ]
  },
  {
   "cell_type": "code",
   "execution_count": 41,
   "metadata": {
    "scrolled": true
   },
   "outputs": [
    {
     "name": "stderr",
     "output_type": "stream",
     "text": [
      "100%|██████████| 10628231/10628231 [00:40<00:00, 261622.13it/s]\n"
     ]
    }
   ],
   "source": [
    "x['qtopic']=x['qtopic'].progress_apply(lambda x:' '.join(str(x).split(',')))"
   ]
  },
  {
   "cell_type": "code",
   "execution_count": 42,
   "metadata": {},
   "outputs": [],
   "source": [
    "import numpy as np\n",
    "#import pandas as pd\n",
    "from sklearn.feature_extraction.text import CountVectorizer, TfidfVectorizer, TfidfTransformer\n",
    "import gc\n",
    "from sklearn.model_selection import KFold\n",
    "from sklearn.linear_model import LogisticRegression\n",
    "from sklearn.linear_model import SGDClassifier\n",
    "from sklearn.linear_model import PassiveAggressiveClassifier\n",
    "from sklearn.linear_model import RidgeClassifier\n",
    "from sklearn.naive_bayes import BernoulliNB\n",
    "from sklearn.naive_bayes import MultinomialNB\n",
    "from sklearn.svm import LinearSVC"
   ]
  },
  {
   "cell_type": "code",
   "execution_count": 43,
   "metadata": {},
   "outputs": [],
   "source": [
    "tfidf = CountVectorizer(ngram_range=(1,1))\n",
    "tf_qtopic = tfidf.fit_transform(x['qtopic'])"
   ]
  },
  {
   "cell_type": "code",
   "execution_count": 44,
   "metadata": {},
   "outputs": [],
   "source": [
    "from scipy import sparse\n",
    "\n",
    "csr_all=sparse.csc_matrix(sparse.hstack((tf_qtopic, csr_)))"
   ]
  },
  {
   "cell_type": "code",
   "execution_count": 45,
   "metadata": {},
   "outputs": [
    {
     "data": {
      "text/plain": [
       "(10628231, 78143)"
      ]
     },
     "execution_count": 45,
     "metadata": {},
     "output_type": "execute_result"
    }
   ],
   "source": [
    "csr_all.shape"
   ]
  },
  {
   "cell_type": "code",
   "execution_count": 46,
   "metadata": {
    "scrolled": true
   },
   "outputs": [],
   "source": [
    "index_=np.array(x[x['target'].notnull()].reset_index()['index'])"
   ]
  },
  {
   "cell_type": "code",
   "execution_count": 47,
   "metadata": {},
   "outputs": [],
   "source": [
    "index_t=np.array(x[x['target'].isnull()].reset_index()['index'])"
   ]
  },
  {
   "cell_type": "code",
   "execution_count": 48,
   "metadata": {
    "scrolled": true
   },
   "outputs": [],
   "source": [
    "train_feature = csr_[index_]\n",
    "test_feature = csr_[index_t]"
   ]
  },
  {
   "cell_type": "code",
   "execution_count": 49,
   "metadata": {},
   "outputs": [
    {
     "name": "stdout",
     "output_type": "stream",
     "text": [
      "(9486821, 22872) (1141410, 22872)\n"
     ]
    }
   ],
   "source": [
    "print(train_feature.shape,test_feature.shape)"
   ]
  },
  {
   "cell_type": "code",
   "execution_count": 50,
   "metadata": {},
   "outputs": [
    {
     "data": {
      "text/html": [
       "<div>\n",
       "<style scoped>\n",
       "    .dataframe tbody tr th:only-of-type {\n",
       "        vertical-align: middle;\n",
       "    }\n",
       "\n",
       "    .dataframe tbody tr th {\n",
       "        vertical-align: top;\n",
       "    }\n",
       "\n",
       "    .dataframe thead th {\n",
       "        text-align: right;\n",
       "    }\n",
       "</style>\n",
       "<table border=\"1\" class=\"dataframe\">\n",
       "  <thead>\n",
       "    <tr style=\"text-align: right;\">\n",
       "      <th></th>\n",
       "      <th>uid</th>\n",
       "      <th>qid</th>\n",
       "      <th>topic_n</th>\n",
       "      <th>topic_n_</th>\n",
       "      <th>0</th>\n",
       "      <th>1</th>\n",
       "      <th>id</th>\n",
       "      <th>id_</th>\n",
       "      <th>qtopic</th>\n",
       "      <th>target</th>\n",
       "    </tr>\n",
       "  </thead>\n",
       "  <tbody>\n",
       "    <tr>\n",
       "      <th>0</th>\n",
       "      <td>M1000000382</td>\n",
       "      <td>Q1282394327</td>\n",
       "      <td>T6:0.7224611</td>\n",
       "      <td>[T6, 0.7224611]</td>\n",
       "      <td>18800</td>\n",
       "      <td>0.722461</td>\n",
       "      <td>0</td>\n",
       "      <td>M1000000382Q1282394327</td>\n",
       "      <td>T547 T89</td>\n",
       "      <td>0.0</td>\n",
       "    </tr>\n",
       "    <tr>\n",
       "      <th>1</th>\n",
       "      <td>M1000000382</td>\n",
       "      <td>Q2418257178</td>\n",
       "      <td>T150:0.7708566</td>\n",
       "      <td>[T150, 0.7708566]</td>\n",
       "      <td>4403</td>\n",
       "      <td>0.770857</td>\n",
       "      <td>1</td>\n",
       "      <td>M1000000382Q2418257178</td>\n",
       "      <td>T89</td>\n",
       "      <td>0.0</td>\n",
       "    </tr>\n",
       "    <tr>\n",
       "      <th>2</th>\n",
       "      <td>M1000000382</td>\n",
       "      <td>Q2557202265</td>\n",
       "      <td>T101:0.6198262</td>\n",
       "      <td>[T101, 0.6198262]</td>\n",
       "      <td>95</td>\n",
       "      <td>0.619826</td>\n",
       "      <td>2</td>\n",
       "      <td>M1000000382Q2557202265</td>\n",
       "      <td>T476</td>\n",
       "      <td>0.0</td>\n",
       "    </tr>\n",
       "    <tr>\n",
       "      <th>3</th>\n",
       "      <td>M1000000382</td>\n",
       "      <td>Q2574396618</td>\n",
       "      <td>T9:1.0592799</td>\n",
       "      <td>[T9, 1.0592799]</td>\n",
       "      <td>21899</td>\n",
       "      <td>1.059280</td>\n",
       "      <td>3</td>\n",
       "      <td>M1000000382Q2574396618</td>\n",
       "      <td>T13 T567</td>\n",
       "      <td>1.0</td>\n",
       "    </tr>\n",
       "    <tr>\n",
       "      <th>4</th>\n",
       "      <td>M1000000382</td>\n",
       "      <td>Q3739876694</td>\n",
       "      <td>T93:0.56995815</td>\n",
       "      <td>[T93, 0.56995815]</td>\n",
       "      <td>22198</td>\n",
       "      <td>0.569958</td>\n",
       "      <td>4</td>\n",
       "      <td>M1000000382Q3739876694</td>\n",
       "      <td>T724 T89</td>\n",
       "      <td>0.0</td>\n",
       "    </tr>\n",
       "  </tbody>\n",
       "</table>\n",
       "</div>"
      ],
      "text/plain": [
       "           uid          qid         topic_n           topic_n_      0  \\\n",
       "0  M1000000382  Q1282394327    T6:0.7224611    [T6, 0.7224611]  18800   \n",
       "1  M1000000382  Q2418257178  T150:0.7708566  [T150, 0.7708566]   4403   \n",
       "2  M1000000382  Q2557202265  T101:0.6198262  [T101, 0.6198262]     95   \n",
       "3  M1000000382  Q2574396618    T9:1.0592799    [T9, 1.0592799]  21899   \n",
       "4  M1000000382  Q3739876694  T93:0.56995815  [T93, 0.56995815]  22198   \n",
       "\n",
       "          1  id                     id_    qtopic  target  \n",
       "0  0.722461   0  M1000000382Q1282394327  T547 T89     0.0  \n",
       "1  0.770857   1  M1000000382Q2418257178       T89     0.0  \n",
       "2  0.619826   2  M1000000382Q2557202265      T476     0.0  \n",
       "3  1.059280   3  M1000000382Q2574396618  T13 T567     1.0  \n",
       "4  0.569958   4  M1000000382Q3739876694  T724 T89     0.0  "
      ]
     },
     "execution_count": 50,
     "metadata": {},
     "output_type": "execute_result"
    }
   ],
   "source": [
    "x.head()"
   ]
  },
  {
   "cell_type": "code",
   "execution_count": 51,
   "metadata": {},
   "outputs": [],
   "source": [
    "train_id=x.iloc[index_,0:2]\n",
    "test_id=x.iloc[index_t,0:2]"
   ]
  },
  {
   "cell_type": "code",
   "execution_count": 52,
   "metadata": {},
   "outputs": [
    {
     "name": "stdout",
     "output_type": "stream",
     "text": [
      "(9486821, 2) (1141410, 2)\n"
     ]
    }
   ],
   "source": [
    "print(train_id.shape,test_id.shape)"
   ]
  },
  {
   "cell_type": "code",
   "execution_count": 53,
   "metadata": {},
   "outputs": [],
   "source": [
    "target=x.iloc[index_,-1].reset_index(drop=True)"
   ]
  },
  {
   "cell_type": "code",
   "execution_count": 54,
   "metadata": {},
   "outputs": [],
   "source": [
    "def sgdstacking():\n",
    "    gc.collect()\n",
    "    print('sgd stacking')\n",
    "    df_stack=pd.DataFrame()\n",
    "    n_folds=5\n",
    "    num_class=2\n",
    "    stack_train = np.zeros([train_feature.shape[0], num_class])\n",
    "    stack_test = np.zeros([test_feature.shape[0], num_class])\n",
    "    folds = KFold(n_splits=5, shuffle=True, random_state=15)\n",
    "    for i, (tr, va) in enumerate(folds.split(target)):\n",
    "        print('stack:%d/%d' % ((i + 1), n_folds))\n",
    "        sgd = SGDClassifier(random_state=1017,\n",
    "                            verbose=1,\n",
    "                            loss='log',\n",
    "                            penalty='elasticnet',\n",
    "                            shuffle=True,\n",
    "                            n_jobs=20,\n",
    "                            l1_ratio=0.0001,\n",
    "                            alpha=1e-05,\n",
    "                            class_weight=None)\n",
    "        gc.collect()\n",
    "        sgd.fit(train_feature[tr], target[tr])\n",
    "        score_va = sgd.predict_proba(train_feature[va])\n",
    "        score_te = sgd.predict_proba(test_feature)\n",
    "        stack_train[va] = score_va\n",
    "        stack_test += score_te\n",
    "    stack_test /= n_folds\n",
    "    stack = np.vstack([stack_train, stack_test])\n",
    "    for i in range(stack.shape[1]):\n",
    "        df_stack['tfc_sgd_{}'.format(i)] = stack[:, i]\n",
    "    print('sgd done')\n",
    "    return df_stack"
   ]
  },
  {
   "cell_type": "code",
   "execution_count": 55,
   "metadata": {
    "scrolled": true
   },
   "outputs": [
    {
     "name": "stdout",
     "output_type": "stream",
     "text": [
      "sgd stacking\n",
      "stack:1/5\n"
     ]
    },
    {
     "name": "stderr",
     "output_type": "stream",
     "text": [
      "/root/anaconda3/lib/python3.7/site-packages/sklearn/linear_model/stochastic_gradient.py:166: FutureWarning: max_iter and tol parameters have been added in SGDClassifier in 0.19. If both are left unset, they default to max_iter=5 and tol=None. If tol is not None, max_iter defaults to max_iter=1000. From 0.21, default max_iter will be 1000, and default tol will be 1e-3.\n",
      "  FutureWarning)\n"
     ]
    },
    {
     "name": "stdout",
     "output_type": "stream",
     "text": [
      "-- Epoch 1\n",
      "Norm: 14.64, NNZs: 22604, Bias: -1.095281, T: 7589456, Avg. loss: 0.521168\n",
      "Total training time: 7.77 seconds.\n",
      "-- Epoch 2\n",
      "Norm: 13.33, NNZs: 22561, Bias: -1.094389, T: 15178912, Avg. loss: 0.460907\n",
      "Total training time: 15.75 seconds.\n",
      "-- Epoch 3\n",
      "Norm: 13.00, NNZs: 22562, Bias: -1.092141, T: 22768368, Avg. loss: 0.459516\n",
      "Total training time: 23.22 seconds.\n",
      "-- Epoch 4\n",
      "Norm: 12.85, NNZs: 22549, Bias: -1.095849, T: 30357824, Avg. loss: 0.458919\n",
      "Total training time: 30.54 seconds.\n",
      "-- Epoch 5\n",
      "Norm: 12.76, NNZs: 22538, Bias: -1.098846, T: 37947280, Avg. loss: 0.458580\n",
      "Total training time: 38.21 seconds.\n",
      "stack:2/5\n",
      "-- Epoch 1\n",
      "Norm: 14.53, NNZs: 22578, Bias: -1.094728, T: 7589457, Avg. loss: 0.521409\n",
      "Total training time: 6.51 seconds.\n",
      "-- Epoch 2\n",
      "Norm: 13.27, NNZs: 22553, Bias: -1.086954, T: 15178914, Avg. loss: 0.460952\n",
      "Total training time: 12.21 seconds.\n",
      "-- Epoch 3\n",
      "Norm: 12.95, NNZs: 22564, Bias: -1.100146, T: 22768371, Avg. loss: 0.459567\n",
      "Total training time: 18.35 seconds.\n",
      "-- Epoch 4\n",
      "Norm: 12.82, NNZs: 22562, Bias: -1.092562, T: 30357828, Avg. loss: 0.458957\n",
      "Total training time: 25.07 seconds.\n",
      "-- Epoch 5\n",
      "Norm: 12.76, NNZs: 22539, Bias: -1.097178, T: 37947285, Avg. loss: 0.458632\n",
      "Total training time: 31.36 seconds.\n",
      "stack:3/5\n",
      "-- Epoch 1\n",
      "Norm: 14.58, NNZs: 22601, Bias: -1.100659, T: 7589457, Avg. loss: 0.521744\n",
      "Total training time: 3.67 seconds.\n",
      "-- Epoch 2\n",
      "Norm: 13.31, NNZs: 22589, Bias: -1.097483, T: 15178914, Avg. loss: 0.460876\n",
      "Total training time: 7.29 seconds.\n",
      "-- Epoch 3\n",
      "Norm: 12.98, NNZs: 22555, Bias: -1.092375, T: 22768371, Avg. loss: 0.459485\n",
      "Total training time: 11.35 seconds.\n",
      "-- Epoch 4\n",
      "Norm: 12.86, NNZs: 22560, Bias: -1.096119, T: 30357828, Avg. loss: 0.458887\n",
      "Total training time: 15.06 seconds.\n",
      "-- Epoch 5\n",
      "Norm: 12.76, NNZs: 22554, Bias: -1.093802, T: 37947285, Avg. loss: 0.458560\n",
      "Total training time: 18.76 seconds.\n",
      "stack:4/5\n",
      "-- Epoch 1\n",
      "Norm: 14.57, NNZs: 22595, Bias: -1.097973, T: 7589457, Avg. loss: 0.521185\n",
      "Total training time: 3.79 seconds.\n",
      "-- Epoch 2\n",
      "Norm: 13.38, NNZs: 22595, Bias: -1.101535, T: 15178914, Avg. loss: 0.460994\n",
      "Total training time: 7.47 seconds.\n",
      "-- Epoch 3\n",
      "Norm: 12.99, NNZs: 22571, Bias: -1.091482, T: 22768371, Avg. loss: 0.459588\n",
      "Total training time: 11.26 seconds.\n",
      "-- Epoch 4\n",
      "Norm: 12.85, NNZs: 22596, Bias: -1.090207, T: 30357828, Avg. loss: 0.459003\n",
      "Total training time: 15.15 seconds.\n",
      "-- Epoch 5\n",
      "Norm: 12.80, NNZs: 22566, Bias: -1.092805, T: 37947285, Avg. loss: 0.458665\n",
      "Total training time: 18.84 seconds.\n",
      "stack:5/5\n",
      "-- Epoch 1\n",
      "Norm: 14.56, NNZs: 22604, Bias: -1.081877, T: 7589457, Avg. loss: 0.521105\n",
      "Total training time: 3.87 seconds.\n",
      "-- Epoch 2\n",
      "Norm: 13.34, NNZs: 22580, Bias: -1.098754, T: 15178914, Avg. loss: 0.460720\n",
      "Total training time: 7.59 seconds.\n",
      "-- Epoch 3\n",
      "Norm: 12.98, NNZs: 22566, Bias: -1.096809, T: 22768371, Avg. loss: 0.459283\n",
      "Total training time: 11.40 seconds.\n",
      "-- Epoch 4\n",
      "Norm: 12.86, NNZs: 22587, Bias: -1.097859, T: 30357828, Avg. loss: 0.458700\n",
      "Total training time: 15.41 seconds.\n",
      "-- Epoch 5\n",
      "Norm: 12.80, NNZs: 22560, Bias: -1.093721, T: 37947285, Avg. loss: 0.458366\n",
      "Total training time: 19.11 seconds.\n",
      "sgd done\n"
     ]
    }
   ],
   "source": [
    "sgdstacking=sgdstacking()"
   ]
  },
  {
   "cell_type": "code",
   "execution_count": 56,
   "metadata": {},
   "outputs": [],
   "source": [
    "def lrstacking():\n",
    "    num_class=2\n",
    "    df_stack=pd.DataFrame()\n",
    "    n_folds=5\n",
    "    gc.collect()\n",
    "    print('LR stacking')\n",
    "    stack_train = np.zeros([train_feature.shape[0], num_class])\n",
    "    stack_test = np.zeros([test_feature.shape[0], num_class])\n",
    "    folds = KFold(n_splits=5, shuffle=True, random_state=15)\n",
    "    for i, (trn_idx, val_idx) in enumerate(folds.split(target)):\n",
    "        print('stack:%d' % ((i + 1) ))\n",
    "        clf = LogisticRegression(random_state=1017, C=8,solver='sag',verbose=1,n_jobs=-1)\n",
    "        clf.fit(train_feature[trn_idx], target[trn_idx])\n",
    "        score_va = clf.predict_proba(train_feature[val_idx])\n",
    "        score_te = clf.predict_proba(test_feature)\n",
    "        stack_train[val_idx, :] = score_va\n",
    "        stack_test[:, :] += score_te\n",
    "    stack_test /= n_folds\n",
    "    stack = np.vstack([stack_train, stack_test])\n",
    "    for i in range(stack.shape[1]):\n",
    "        df_stack['tfctn_lr_{}'.format(i)] = stack[:, i]\n",
    "    print('lr done')\n",
    "    return df_stack"
   ]
  },
  {
   "cell_type": "code",
   "execution_count": 57,
   "metadata": {
    "scrolled": true
   },
   "outputs": [
    {
     "name": "stdout",
     "output_type": "stream",
     "text": [
      "LR stacking\n",
      "stack:1\n"
     ]
    },
    {
     "name": "stderr",
     "output_type": "stream",
     "text": [
      "[Parallel(n_jobs=-1)]: Using backend ThreadingBackend with 58 concurrent workers.\n"
     ]
    },
    {
     "name": "stdout",
     "output_type": "stream",
     "text": [
      "max_iter reached after 637 seconds\n"
     ]
    },
    {
     "name": "stderr",
     "output_type": "stream",
     "text": [
      "/root/anaconda3/lib/python3.7/site-packages/sklearn/linear_model/sag.py:334: ConvergenceWarning: The max_iter was reached which means the coef_ did not converge\n",
      "  \"the coef_ did not converge\", ConvergenceWarning)\n",
      "[Parallel(n_jobs=-1)]: Done   1 out of   1 | elapsed: 10.6min finished\n"
     ]
    },
    {
     "name": "stdout",
     "output_type": "stream",
     "text": [
      "stack:2\n"
     ]
    },
    {
     "name": "stderr",
     "output_type": "stream",
     "text": [
      "[Parallel(n_jobs=-1)]: Using backend ThreadingBackend with 58 concurrent workers.\n"
     ]
    },
    {
     "name": "stdout",
     "output_type": "stream",
     "text": [
      "max_iter reached after 628 seconds\n"
     ]
    },
    {
     "name": "stderr",
     "output_type": "stream",
     "text": [
      "[Parallel(n_jobs=-1)]: Done   1 out of   1 | elapsed: 10.5min finished\n"
     ]
    },
    {
     "name": "stdout",
     "output_type": "stream",
     "text": [
      "stack:3\n"
     ]
    },
    {
     "name": "stderr",
     "output_type": "stream",
     "text": [
      "[Parallel(n_jobs=-1)]: Using backend ThreadingBackend with 58 concurrent workers.\n"
     ]
    },
    {
     "name": "stdout",
     "output_type": "stream",
     "text": [
      "max_iter reached after 588 seconds\n"
     ]
    },
    {
     "name": "stderr",
     "output_type": "stream",
     "text": [
      "[Parallel(n_jobs=-1)]: Done   1 out of   1 | elapsed:  9.8min finished\n"
     ]
    },
    {
     "name": "stdout",
     "output_type": "stream",
     "text": [
      "stack:4\n"
     ]
    },
    {
     "name": "stderr",
     "output_type": "stream",
     "text": [
      "[Parallel(n_jobs=-1)]: Using backend ThreadingBackend with 58 concurrent workers.\n"
     ]
    },
    {
     "name": "stdout",
     "output_type": "stream",
     "text": [
      "max_iter reached after 636 seconds\n"
     ]
    },
    {
     "name": "stderr",
     "output_type": "stream",
     "text": [
      "[Parallel(n_jobs=-1)]: Done   1 out of   1 | elapsed: 10.6min finished\n"
     ]
    },
    {
     "name": "stdout",
     "output_type": "stream",
     "text": [
      "stack:5\n"
     ]
    },
    {
     "name": "stderr",
     "output_type": "stream",
     "text": [
      "[Parallel(n_jobs=-1)]: Using backend ThreadingBackend with 58 concurrent workers.\n"
     ]
    },
    {
     "name": "stdout",
     "output_type": "stream",
     "text": [
      "max_iter reached after 627 seconds\n"
     ]
    },
    {
     "name": "stderr",
     "output_type": "stream",
     "text": [
      "[Parallel(n_jobs=-1)]: Done   1 out of   1 | elapsed: 10.5min finished\n"
     ]
    },
    {
     "name": "stdout",
     "output_type": "stream",
     "text": [
      "lr done\n"
     ]
    }
   ],
   "source": [
    "lrstacking=lrstacking()"
   ]
  },
  {
   "cell_type": "code",
   "execution_count": 58,
   "metadata": {},
   "outputs": [],
   "source": [
    "def ridgestacking():\n",
    "    gc.collect()\n",
    "    print('Ridge stacking')\n",
    "    df_stack=pd.DataFrame()\n",
    "    num_class=2\n",
    "    n_folds=5\n",
    "    stack_train = np.zeros([train_feature.shape[0], num_class])\n",
    "    stack_test = np.zeros([test_feature.shape[0], num_class])\n",
    "    folds = KFold(n_splits=5, shuffle=True, random_state=15)\n",
    "    for i, (tr, va) in enumerate(folds.split(target)):\n",
    "        print('stack:%d/%d' % ((i + 1), n_folds))\n",
    "        ridge = RidgeClassifier(random_state=1017,solver='sag',)\n",
    "        ridge.fit(train_feature[tr], target[tr])\n",
    "        score_va = ridge._predict_proba_lr(train_feature[va])\n",
    "        score_te = ridge._predict_proba_lr(test_feature)\n",
    "        stack_train[va] += score_va\n",
    "        stack_test += score_te\n",
    "    stack_test /= n_folds\n",
    "    stack = np.vstack([stack_train, stack_test])\n",
    "    for i in range(stack.shape[1]):\n",
    "        df_stack['tfc_ridge_{}'.format(i)] = stack[:, i]\n",
    "    print('ridge done')\n",
    "    return df_stack"
   ]
  },
  {
   "cell_type": "code",
   "execution_count": 59,
   "metadata": {},
   "outputs": [
    {
     "name": "stdout",
     "output_type": "stream",
     "text": [
      "Ridge stacking\n",
      "stack:1/5\n",
      "stack:2/5\n",
      "stack:3/5\n",
      "stack:4/5\n",
      "stack:5/5\n",
      "ridge done\n"
     ]
    }
   ],
   "source": [
    "ridgestacking=ridgestacking()"
   ]
  },
  {
   "cell_type": "code",
   "execution_count": 60,
   "metadata": {
    "scrolled": true
   },
   "outputs": [
    {
     "data": {
      "text/html": [
       "<div>\n",
       "<style scoped>\n",
       "    .dataframe tbody tr th:only-of-type {\n",
       "        vertical-align: middle;\n",
       "    }\n",
       "\n",
       "    .dataframe tbody tr th {\n",
       "        vertical-align: top;\n",
       "    }\n",
       "\n",
       "    .dataframe thead th {\n",
       "        text-align: right;\n",
       "    }\n",
       "</style>\n",
       "<table border=\"1\" class=\"dataframe\">\n",
       "  <thead>\n",
       "    <tr style=\"text-align: right;\">\n",
       "      <th></th>\n",
       "      <th>tfctn_lr_0</th>\n",
       "      <th>tfctn_lr_1</th>\n",
       "      <th>tfc_sgd_0</th>\n",
       "      <th>tfc_sgd_1</th>\n",
       "      <th>tfc_ridge_0</th>\n",
       "      <th>tfc_ridge_1</th>\n",
       "    </tr>\n",
       "  </thead>\n",
       "  <tbody>\n",
       "    <tr>\n",
       "      <th>0</th>\n",
       "      <td>0.773847</td>\n",
       "      <td>0.226153</td>\n",
       "      <td>0.781423</td>\n",
       "      <td>0.218577</td>\n",
       "      <td>0.633810</td>\n",
       "      <td>0.366190</td>\n",
       "    </tr>\n",
       "    <tr>\n",
       "      <th>1</th>\n",
       "      <td>0.772974</td>\n",
       "      <td>0.227026</td>\n",
       "      <td>0.793162</td>\n",
       "      <td>0.206838</td>\n",
       "      <td>0.633432</td>\n",
       "      <td>0.366568</td>\n",
       "    </tr>\n",
       "    <tr>\n",
       "      <th>2</th>\n",
       "      <td>0.772974</td>\n",
       "      <td>0.227026</td>\n",
       "      <td>0.793162</td>\n",
       "      <td>0.206838</td>\n",
       "      <td>0.633432</td>\n",
       "      <td>0.366568</td>\n",
       "    </tr>\n",
       "    <tr>\n",
       "      <th>3</th>\n",
       "      <td>0.772974</td>\n",
       "      <td>0.227026</td>\n",
       "      <td>0.793162</td>\n",
       "      <td>0.206838</td>\n",
       "      <td>0.633432</td>\n",
       "      <td>0.366568</td>\n",
       "    </tr>\n",
       "    <tr>\n",
       "      <th>4</th>\n",
       "      <td>0.772974</td>\n",
       "      <td>0.227026</td>\n",
       "      <td>0.793162</td>\n",
       "      <td>0.206838</td>\n",
       "      <td>0.633432</td>\n",
       "      <td>0.366568</td>\n",
       "    </tr>\n",
       "    <tr>\n",
       "      <th>5</th>\n",
       "      <td>0.772974</td>\n",
       "      <td>0.227026</td>\n",
       "      <td>0.793162</td>\n",
       "      <td>0.206838</td>\n",
       "      <td>0.633432</td>\n",
       "      <td>0.366568</td>\n",
       "    </tr>\n",
       "    <tr>\n",
       "      <th>6</th>\n",
       "      <td>0.772642</td>\n",
       "      <td>0.227358</td>\n",
       "      <td>0.789413</td>\n",
       "      <td>0.210587</td>\n",
       "      <td>0.633291</td>\n",
       "      <td>0.366709</td>\n",
       "    </tr>\n",
       "    <tr>\n",
       "      <th>7</th>\n",
       "      <td>0.772974</td>\n",
       "      <td>0.227026</td>\n",
       "      <td>0.793162</td>\n",
       "      <td>0.206838</td>\n",
       "      <td>0.633432</td>\n",
       "      <td>0.366568</td>\n",
       "    </tr>\n",
       "    <tr>\n",
       "      <th>8</th>\n",
       "      <td>0.938658</td>\n",
       "      <td>0.061342</td>\n",
       "      <td>0.916265</td>\n",
       "      <td>0.083735</td>\n",
       "      <td>0.717900</td>\n",
       "      <td>0.282100</td>\n",
       "    </tr>\n",
       "    <tr>\n",
       "      <th>9</th>\n",
       "      <td>0.933809</td>\n",
       "      <td>0.066191</td>\n",
       "      <td>0.910290</td>\n",
       "      <td>0.089710</td>\n",
       "      <td>0.712891</td>\n",
       "      <td>0.287109</td>\n",
       "    </tr>\n",
       "    <tr>\n",
       "      <th>10</th>\n",
       "      <td>0.920387</td>\n",
       "      <td>0.079613</td>\n",
       "      <td>0.916626</td>\n",
       "      <td>0.083374</td>\n",
       "      <td>0.705910</td>\n",
       "      <td>0.294090</td>\n",
       "    </tr>\n",
       "    <tr>\n",
       "      <th>11</th>\n",
       "      <td>0.933809</td>\n",
       "      <td>0.066191</td>\n",
       "      <td>0.910290</td>\n",
       "      <td>0.089710</td>\n",
       "      <td>0.712891</td>\n",
       "      <td>0.287109</td>\n",
       "    </tr>\n",
       "    <tr>\n",
       "      <th>12</th>\n",
       "      <td>0.933809</td>\n",
       "      <td>0.066191</td>\n",
       "      <td>0.910290</td>\n",
       "      <td>0.089710</td>\n",
       "      <td>0.712891</td>\n",
       "      <td>0.287109</td>\n",
       "    </tr>\n",
       "    <tr>\n",
       "      <th>13</th>\n",
       "      <td>0.923191</td>\n",
       "      <td>0.076809</td>\n",
       "      <td>0.898472</td>\n",
       "      <td>0.101528</td>\n",
       "      <td>0.707724</td>\n",
       "      <td>0.292276</td>\n",
       "    </tr>\n",
       "    <tr>\n",
       "      <th>14</th>\n",
       "      <td>0.925958</td>\n",
       "      <td>0.074042</td>\n",
       "      <td>0.902312</td>\n",
       "      <td>0.097688</td>\n",
       "      <td>0.708521</td>\n",
       "      <td>0.291479</td>\n",
       "    </tr>\n",
       "    <tr>\n",
       "      <th>15</th>\n",
       "      <td>0.925958</td>\n",
       "      <td>0.074042</td>\n",
       "      <td>0.902312</td>\n",
       "      <td>0.097688</td>\n",
       "      <td>0.708521</td>\n",
       "      <td>0.291479</td>\n",
       "    </tr>\n",
       "    <tr>\n",
       "      <th>16</th>\n",
       "      <td>0.938658</td>\n",
       "      <td>0.061342</td>\n",
       "      <td>0.916265</td>\n",
       "      <td>0.083735</td>\n",
       "      <td>0.717900</td>\n",
       "      <td>0.282100</td>\n",
       "    </tr>\n",
       "    <tr>\n",
       "      <th>17</th>\n",
       "      <td>0.920387</td>\n",
       "      <td>0.079613</td>\n",
       "      <td>0.916626</td>\n",
       "      <td>0.083374</td>\n",
       "      <td>0.705910</td>\n",
       "      <td>0.294090</td>\n",
       "    </tr>\n",
       "    <tr>\n",
       "      <th>18</th>\n",
       "      <td>0.925958</td>\n",
       "      <td>0.074042</td>\n",
       "      <td>0.902312</td>\n",
       "      <td>0.097688</td>\n",
       "      <td>0.708521</td>\n",
       "      <td>0.291479</td>\n",
       "    </tr>\n",
       "    <tr>\n",
       "      <th>19</th>\n",
       "      <td>0.923191</td>\n",
       "      <td>0.076809</td>\n",
       "      <td>0.898472</td>\n",
       "      <td>0.101528</td>\n",
       "      <td>0.707724</td>\n",
       "      <td>0.292276</td>\n",
       "    </tr>\n",
       "    <tr>\n",
       "      <th>20</th>\n",
       "      <td>0.923191</td>\n",
       "      <td>0.076809</td>\n",
       "      <td>0.898472</td>\n",
       "      <td>0.101528</td>\n",
       "      <td>0.707724</td>\n",
       "      <td>0.292276</td>\n",
       "    </tr>\n",
       "    <tr>\n",
       "      <th>21</th>\n",
       "      <td>0.933809</td>\n",
       "      <td>0.066191</td>\n",
       "      <td>0.910290</td>\n",
       "      <td>0.089710</td>\n",
       "      <td>0.712891</td>\n",
       "      <td>0.287109</td>\n",
       "    </tr>\n",
       "    <tr>\n",
       "      <th>22</th>\n",
       "      <td>0.894271</td>\n",
       "      <td>0.105729</td>\n",
       "      <td>0.872837</td>\n",
       "      <td>0.127163</td>\n",
       "      <td>0.684474</td>\n",
       "      <td>0.315526</td>\n",
       "    </tr>\n",
       "    <tr>\n",
       "      <th>23</th>\n",
       "      <td>0.752790</td>\n",
       "      <td>0.247210</td>\n",
       "      <td>0.753502</td>\n",
       "      <td>0.246498</td>\n",
       "      <td>0.624546</td>\n",
       "      <td>0.375454</td>\n",
       "    </tr>\n",
       "    <tr>\n",
       "      <th>24</th>\n",
       "      <td>0.753321</td>\n",
       "      <td>0.246679</td>\n",
       "      <td>0.754557</td>\n",
       "      <td>0.245443</td>\n",
       "      <td>0.624718</td>\n",
       "      <td>0.375282</td>\n",
       "    </tr>\n",
       "    <tr>\n",
       "      <th>25</th>\n",
       "      <td>0.753521</td>\n",
       "      <td>0.246479</td>\n",
       "      <td>0.758329</td>\n",
       "      <td>0.241671</td>\n",
       "      <td>0.624792</td>\n",
       "      <td>0.375208</td>\n",
       "    </tr>\n",
       "    <tr>\n",
       "      <th>26</th>\n",
       "      <td>0.752790</td>\n",
       "      <td>0.247210</td>\n",
       "      <td>0.753502</td>\n",
       "      <td>0.246498</td>\n",
       "      <td>0.624546</td>\n",
       "      <td>0.375454</td>\n",
       "    </tr>\n",
       "    <tr>\n",
       "      <th>27</th>\n",
       "      <td>0.753371</td>\n",
       "      <td>0.246629</td>\n",
       "      <td>0.753114</td>\n",
       "      <td>0.246886</td>\n",
       "      <td>0.624759</td>\n",
       "      <td>0.375241</td>\n",
       "    </tr>\n",
       "    <tr>\n",
       "      <th>28</th>\n",
       "      <td>0.753903</td>\n",
       "      <td>0.246097</td>\n",
       "      <td>0.751175</td>\n",
       "      <td>0.248825</td>\n",
       "      <td>0.624954</td>\n",
       "      <td>0.375046</td>\n",
       "    </tr>\n",
       "    <tr>\n",
       "      <th>29</th>\n",
       "      <td>0.752790</td>\n",
       "      <td>0.247210</td>\n",
       "      <td>0.753502</td>\n",
       "      <td>0.246498</td>\n",
       "      <td>0.624546</td>\n",
       "      <td>0.375454</td>\n",
       "    </tr>\n",
       "    <tr>\n",
       "      <th>...</th>\n",
       "      <td>...</td>\n",
       "      <td>...</td>\n",
       "      <td>...</td>\n",
       "      <td>...</td>\n",
       "      <td>...</td>\n",
       "      <td>...</td>\n",
       "    </tr>\n",
       "    <tr>\n",
       "      <th>10628201</th>\n",
       "      <td>0.880983</td>\n",
       "      <td>0.119017</td>\n",
       "      <td>0.869086</td>\n",
       "      <td>0.130914</td>\n",
       "      <td>0.680852</td>\n",
       "      <td>0.319148</td>\n",
       "    </tr>\n",
       "    <tr>\n",
       "      <th>10628202</th>\n",
       "      <td>0.890551</td>\n",
       "      <td>0.109449</td>\n",
       "      <td>0.845854</td>\n",
       "      <td>0.154146</td>\n",
       "      <td>0.685088</td>\n",
       "      <td>0.314912</td>\n",
       "    </tr>\n",
       "    <tr>\n",
       "      <th>10628203</th>\n",
       "      <td>0.890551</td>\n",
       "      <td>0.109449</td>\n",
       "      <td>0.845854</td>\n",
       "      <td>0.154146</td>\n",
       "      <td>0.685088</td>\n",
       "      <td>0.314912</td>\n",
       "    </tr>\n",
       "    <tr>\n",
       "      <th>10628204</th>\n",
       "      <td>0.890551</td>\n",
       "      <td>0.109449</td>\n",
       "      <td>0.845854</td>\n",
       "      <td>0.154146</td>\n",
       "      <td>0.685088</td>\n",
       "      <td>0.314912</td>\n",
       "    </tr>\n",
       "    <tr>\n",
       "      <th>10628205</th>\n",
       "      <td>0.861162</td>\n",
       "      <td>0.138838</td>\n",
       "      <td>0.862852</td>\n",
       "      <td>0.137148</td>\n",
       "      <td>0.671197</td>\n",
       "      <td>0.328803</td>\n",
       "    </tr>\n",
       "    <tr>\n",
       "      <th>10628206</th>\n",
       "      <td>0.861162</td>\n",
       "      <td>0.138838</td>\n",
       "      <td>0.862852</td>\n",
       "      <td>0.137148</td>\n",
       "      <td>0.671197</td>\n",
       "      <td>0.328803</td>\n",
       "    </tr>\n",
       "    <tr>\n",
       "      <th>10628207</th>\n",
       "      <td>0.805989</td>\n",
       "      <td>0.194011</td>\n",
       "      <td>0.779976</td>\n",
       "      <td>0.220024</td>\n",
       "      <td>0.654893</td>\n",
       "      <td>0.345107</td>\n",
       "    </tr>\n",
       "    <tr>\n",
       "      <th>10628208</th>\n",
       "      <td>0.805989</td>\n",
       "      <td>0.194011</td>\n",
       "      <td>0.779976</td>\n",
       "      <td>0.220024</td>\n",
       "      <td>0.654893</td>\n",
       "      <td>0.345107</td>\n",
       "    </tr>\n",
       "    <tr>\n",
       "      <th>10628209</th>\n",
       "      <td>0.805989</td>\n",
       "      <td>0.194011</td>\n",
       "      <td>0.779976</td>\n",
       "      <td>0.220024</td>\n",
       "      <td>0.654893</td>\n",
       "      <td>0.345107</td>\n",
       "    </tr>\n",
       "    <tr>\n",
       "      <th>10628210</th>\n",
       "      <td>0.746342</td>\n",
       "      <td>0.253658</td>\n",
       "      <td>0.749373</td>\n",
       "      <td>0.250627</td>\n",
       "      <td>0.621814</td>\n",
       "      <td>0.378186</td>\n",
       "    </tr>\n",
       "    <tr>\n",
       "      <th>10628211</th>\n",
       "      <td>0.903442</td>\n",
       "      <td>0.096558</td>\n",
       "      <td>0.910180</td>\n",
       "      <td>0.089820</td>\n",
       "      <td>0.694918</td>\n",
       "      <td>0.305082</td>\n",
       "    </tr>\n",
       "    <tr>\n",
       "      <th>10628212</th>\n",
       "      <td>0.798285</td>\n",
       "      <td>0.201715</td>\n",
       "      <td>0.801074</td>\n",
       "      <td>0.198926</td>\n",
       "      <td>0.644471</td>\n",
       "      <td>0.355529</td>\n",
       "    </tr>\n",
       "    <tr>\n",
       "      <th>10628213</th>\n",
       "      <td>0.746342</td>\n",
       "      <td>0.253658</td>\n",
       "      <td>0.749373</td>\n",
       "      <td>0.250627</td>\n",
       "      <td>0.621814</td>\n",
       "      <td>0.378186</td>\n",
       "    </tr>\n",
       "    <tr>\n",
       "      <th>10628214</th>\n",
       "      <td>0.746342</td>\n",
       "      <td>0.253658</td>\n",
       "      <td>0.749373</td>\n",
       "      <td>0.250627</td>\n",
       "      <td>0.621814</td>\n",
       "      <td>0.378186</td>\n",
       "    </tr>\n",
       "    <tr>\n",
       "      <th>10628215</th>\n",
       "      <td>0.746342</td>\n",
       "      <td>0.253658</td>\n",
       "      <td>0.749373</td>\n",
       "      <td>0.250627</td>\n",
       "      <td>0.621814</td>\n",
       "      <td>0.378186</td>\n",
       "    </tr>\n",
       "    <tr>\n",
       "      <th>10628216</th>\n",
       "      <td>0.746342</td>\n",
       "      <td>0.253658</td>\n",
       "      <td>0.749373</td>\n",
       "      <td>0.250627</td>\n",
       "      <td>0.621814</td>\n",
       "      <td>0.378186</td>\n",
       "    </tr>\n",
       "    <tr>\n",
       "      <th>10628217</th>\n",
       "      <td>0.746342</td>\n",
       "      <td>0.253658</td>\n",
       "      <td>0.749373</td>\n",
       "      <td>0.250627</td>\n",
       "      <td>0.621814</td>\n",
       "      <td>0.378186</td>\n",
       "    </tr>\n",
       "    <tr>\n",
       "      <th>10628218</th>\n",
       "      <td>0.948614</td>\n",
       "      <td>0.051386</td>\n",
       "      <td>0.938758</td>\n",
       "      <td>0.061242</td>\n",
       "      <td>0.720702</td>\n",
       "      <td>0.279298</td>\n",
       "    </tr>\n",
       "    <tr>\n",
       "      <th>10628219</th>\n",
       "      <td>0.866218</td>\n",
       "      <td>0.133782</td>\n",
       "      <td>0.860917</td>\n",
       "      <td>0.139083</td>\n",
       "      <td>0.676770</td>\n",
       "      <td>0.323230</td>\n",
       "    </tr>\n",
       "    <tr>\n",
       "      <th>10628220</th>\n",
       "      <td>0.866218</td>\n",
       "      <td>0.133782</td>\n",
       "      <td>0.860917</td>\n",
       "      <td>0.139083</td>\n",
       "      <td>0.676770</td>\n",
       "      <td>0.323230</td>\n",
       "    </tr>\n",
       "    <tr>\n",
       "      <th>10628221</th>\n",
       "      <td>0.861564</td>\n",
       "      <td>0.138436</td>\n",
       "      <td>0.858218</td>\n",
       "      <td>0.141782</td>\n",
       "      <td>0.671669</td>\n",
       "      <td>0.328331</td>\n",
       "    </tr>\n",
       "    <tr>\n",
       "      <th>10628222</th>\n",
       "      <td>0.862959</td>\n",
       "      <td>0.137041</td>\n",
       "      <td>0.870401</td>\n",
       "      <td>0.129599</td>\n",
       "      <td>0.671589</td>\n",
       "      <td>0.328411</td>\n",
       "    </tr>\n",
       "    <tr>\n",
       "      <th>10628223</th>\n",
       "      <td>0.815509</td>\n",
       "      <td>0.184491</td>\n",
       "      <td>0.818018</td>\n",
       "      <td>0.181982</td>\n",
       "      <td>0.652266</td>\n",
       "      <td>0.347734</td>\n",
       "    </tr>\n",
       "    <tr>\n",
       "      <th>10628224</th>\n",
       "      <td>0.854180</td>\n",
       "      <td>0.145820</td>\n",
       "      <td>0.857773</td>\n",
       "      <td>0.142227</td>\n",
       "      <td>0.670817</td>\n",
       "      <td>0.329183</td>\n",
       "    </tr>\n",
       "    <tr>\n",
       "      <th>10628225</th>\n",
       "      <td>0.916248</td>\n",
       "      <td>0.083752</td>\n",
       "      <td>0.912209</td>\n",
       "      <td>0.087791</td>\n",
       "      <td>0.698076</td>\n",
       "      <td>0.301924</td>\n",
       "    </tr>\n",
       "    <tr>\n",
       "      <th>10628226</th>\n",
       "      <td>0.816223</td>\n",
       "      <td>0.183777</td>\n",
       "      <td>0.822510</td>\n",
       "      <td>0.177490</td>\n",
       "      <td>0.653190</td>\n",
       "      <td>0.346810</td>\n",
       "    </tr>\n",
       "    <tr>\n",
       "      <th>10628227</th>\n",
       "      <td>0.816223</td>\n",
       "      <td>0.183777</td>\n",
       "      <td>0.822510</td>\n",
       "      <td>0.177490</td>\n",
       "      <td>0.653190</td>\n",
       "      <td>0.346810</td>\n",
       "    </tr>\n",
       "    <tr>\n",
       "      <th>10628228</th>\n",
       "      <td>0.816223</td>\n",
       "      <td>0.183777</td>\n",
       "      <td>0.822510</td>\n",
       "      <td>0.177490</td>\n",
       "      <td>0.653190</td>\n",
       "      <td>0.346810</td>\n",
       "    </tr>\n",
       "    <tr>\n",
       "      <th>10628229</th>\n",
       "      <td>0.864399</td>\n",
       "      <td>0.135601</td>\n",
       "      <td>0.867760</td>\n",
       "      <td>0.132240</td>\n",
       "      <td>0.674921</td>\n",
       "      <td>0.325079</td>\n",
       "    </tr>\n",
       "    <tr>\n",
       "      <th>10628230</th>\n",
       "      <td>0.765418</td>\n",
       "      <td>0.234582</td>\n",
       "      <td>0.769187</td>\n",
       "      <td>0.230813</td>\n",
       "      <td>0.629483</td>\n",
       "      <td>0.370517</td>\n",
       "    </tr>\n",
       "  </tbody>\n",
       "</table>\n",
       "<p>10628231 rows × 6 columns</p>\n",
       "</div>"
      ],
      "text/plain": [
       "          tfctn_lr_0  tfctn_lr_1  tfc_sgd_0  tfc_sgd_1  tfc_ridge_0  \\\n",
       "0           0.773847    0.226153   0.781423   0.218577     0.633810   \n",
       "1           0.772974    0.227026   0.793162   0.206838     0.633432   \n",
       "2           0.772974    0.227026   0.793162   0.206838     0.633432   \n",
       "3           0.772974    0.227026   0.793162   0.206838     0.633432   \n",
       "4           0.772974    0.227026   0.793162   0.206838     0.633432   \n",
       "5           0.772974    0.227026   0.793162   0.206838     0.633432   \n",
       "6           0.772642    0.227358   0.789413   0.210587     0.633291   \n",
       "7           0.772974    0.227026   0.793162   0.206838     0.633432   \n",
       "8           0.938658    0.061342   0.916265   0.083735     0.717900   \n",
       "9           0.933809    0.066191   0.910290   0.089710     0.712891   \n",
       "10          0.920387    0.079613   0.916626   0.083374     0.705910   \n",
       "11          0.933809    0.066191   0.910290   0.089710     0.712891   \n",
       "12          0.933809    0.066191   0.910290   0.089710     0.712891   \n",
       "13          0.923191    0.076809   0.898472   0.101528     0.707724   \n",
       "14          0.925958    0.074042   0.902312   0.097688     0.708521   \n",
       "15          0.925958    0.074042   0.902312   0.097688     0.708521   \n",
       "16          0.938658    0.061342   0.916265   0.083735     0.717900   \n",
       "17          0.920387    0.079613   0.916626   0.083374     0.705910   \n",
       "18          0.925958    0.074042   0.902312   0.097688     0.708521   \n",
       "19          0.923191    0.076809   0.898472   0.101528     0.707724   \n",
       "20          0.923191    0.076809   0.898472   0.101528     0.707724   \n",
       "21          0.933809    0.066191   0.910290   0.089710     0.712891   \n",
       "22          0.894271    0.105729   0.872837   0.127163     0.684474   \n",
       "23          0.752790    0.247210   0.753502   0.246498     0.624546   \n",
       "24          0.753321    0.246679   0.754557   0.245443     0.624718   \n",
       "25          0.753521    0.246479   0.758329   0.241671     0.624792   \n",
       "26          0.752790    0.247210   0.753502   0.246498     0.624546   \n",
       "27          0.753371    0.246629   0.753114   0.246886     0.624759   \n",
       "28          0.753903    0.246097   0.751175   0.248825     0.624954   \n",
       "29          0.752790    0.247210   0.753502   0.246498     0.624546   \n",
       "...              ...         ...        ...        ...          ...   \n",
       "10628201    0.880983    0.119017   0.869086   0.130914     0.680852   \n",
       "10628202    0.890551    0.109449   0.845854   0.154146     0.685088   \n",
       "10628203    0.890551    0.109449   0.845854   0.154146     0.685088   \n",
       "10628204    0.890551    0.109449   0.845854   0.154146     0.685088   \n",
       "10628205    0.861162    0.138838   0.862852   0.137148     0.671197   \n",
       "10628206    0.861162    0.138838   0.862852   0.137148     0.671197   \n",
       "10628207    0.805989    0.194011   0.779976   0.220024     0.654893   \n",
       "10628208    0.805989    0.194011   0.779976   0.220024     0.654893   \n",
       "10628209    0.805989    0.194011   0.779976   0.220024     0.654893   \n",
       "10628210    0.746342    0.253658   0.749373   0.250627     0.621814   \n",
       "10628211    0.903442    0.096558   0.910180   0.089820     0.694918   \n",
       "10628212    0.798285    0.201715   0.801074   0.198926     0.644471   \n",
       "10628213    0.746342    0.253658   0.749373   0.250627     0.621814   \n",
       "10628214    0.746342    0.253658   0.749373   0.250627     0.621814   \n",
       "10628215    0.746342    0.253658   0.749373   0.250627     0.621814   \n",
       "10628216    0.746342    0.253658   0.749373   0.250627     0.621814   \n",
       "10628217    0.746342    0.253658   0.749373   0.250627     0.621814   \n",
       "10628218    0.948614    0.051386   0.938758   0.061242     0.720702   \n",
       "10628219    0.866218    0.133782   0.860917   0.139083     0.676770   \n",
       "10628220    0.866218    0.133782   0.860917   0.139083     0.676770   \n",
       "10628221    0.861564    0.138436   0.858218   0.141782     0.671669   \n",
       "10628222    0.862959    0.137041   0.870401   0.129599     0.671589   \n",
       "10628223    0.815509    0.184491   0.818018   0.181982     0.652266   \n",
       "10628224    0.854180    0.145820   0.857773   0.142227     0.670817   \n",
       "10628225    0.916248    0.083752   0.912209   0.087791     0.698076   \n",
       "10628226    0.816223    0.183777   0.822510   0.177490     0.653190   \n",
       "10628227    0.816223    0.183777   0.822510   0.177490     0.653190   \n",
       "10628228    0.816223    0.183777   0.822510   0.177490     0.653190   \n",
       "10628229    0.864399    0.135601   0.867760   0.132240     0.674921   \n",
       "10628230    0.765418    0.234582   0.769187   0.230813     0.629483   \n",
       "\n",
       "          tfc_ridge_1  \n",
       "0            0.366190  \n",
       "1            0.366568  \n",
       "2            0.366568  \n",
       "3            0.366568  \n",
       "4            0.366568  \n",
       "5            0.366568  \n",
       "6            0.366709  \n",
       "7            0.366568  \n",
       "8            0.282100  \n",
       "9            0.287109  \n",
       "10           0.294090  \n",
       "11           0.287109  \n",
       "12           0.287109  \n",
       "13           0.292276  \n",
       "14           0.291479  \n",
       "15           0.291479  \n",
       "16           0.282100  \n",
       "17           0.294090  \n",
       "18           0.291479  \n",
       "19           0.292276  \n",
       "20           0.292276  \n",
       "21           0.287109  \n",
       "22           0.315526  \n",
       "23           0.375454  \n",
       "24           0.375282  \n",
       "25           0.375208  \n",
       "26           0.375454  \n",
       "27           0.375241  \n",
       "28           0.375046  \n",
       "29           0.375454  \n",
       "...               ...  \n",
       "10628201     0.319148  \n",
       "10628202     0.314912  \n",
       "10628203     0.314912  \n",
       "10628204     0.314912  \n",
       "10628205     0.328803  \n",
       "10628206     0.328803  \n",
       "10628207     0.345107  \n",
       "10628208     0.345107  \n",
       "10628209     0.345107  \n",
       "10628210     0.378186  \n",
       "10628211     0.305082  \n",
       "10628212     0.355529  \n",
       "10628213     0.378186  \n",
       "10628214     0.378186  \n",
       "10628215     0.378186  \n",
       "10628216     0.378186  \n",
       "10628217     0.378186  \n",
       "10628218     0.279298  \n",
       "10628219     0.323230  \n",
       "10628220     0.323230  \n",
       "10628221     0.328331  \n",
       "10628222     0.328411  \n",
       "10628223     0.347734  \n",
       "10628224     0.329183  \n",
       "10628225     0.301924  \n",
       "10628226     0.346810  \n",
       "10628227     0.346810  \n",
       "10628228     0.346810  \n",
       "10628229     0.325079  \n",
       "10628230     0.370517  \n",
       "\n",
       "[10628231 rows x 6 columns]"
      ]
     },
     "execution_count": 60,
     "metadata": {},
     "output_type": "execute_result"
    }
   ],
   "source": [
    "result=pd.concat([lrstacking,sgdstacking,ridgestacking],axis=1)\n",
    "result"
   ]
  },
  {
   "cell_type": "code",
   "execution_count": 61,
   "metadata": {},
   "outputs": [
    {
     "data": {
      "text/plain": [
       "10628231"
      ]
     },
     "execution_count": 61,
     "metadata": {},
     "output_type": "execute_result"
    }
   ],
   "source": [
    "len(result)"
   ]
  },
  {
   "cell_type": "code",
   "execution_count": 62,
   "metadata": {},
   "outputs": [
    {
     "data": {
      "text/plain": [
       "10628231"
      ]
     },
     "execution_count": 62,
     "metadata": {},
     "output_type": "execute_result"
    }
   ],
   "source": [
    "len(train_id)+len(test_id)"
   ]
  },
  {
   "cell_type": "code",
   "execution_count": 63,
   "metadata": {},
   "outputs": [],
   "source": [
    "result.drop(['tfctn_lr_1','tfc_sgd_1','tfc_ridge_1'],axis=1,inplace=True)"
   ]
  },
  {
   "cell_type": "code",
   "execution_count": 64,
   "metadata": {},
   "outputs": [],
   "source": [
    "id_=pd.concat([train_id,test_id])"
   ]
  },
  {
   "cell_type": "code",
   "execution_count": 65,
   "metadata": {},
   "outputs": [],
   "source": [
    "result=pd.concat([id_,result],axis=1)"
   ]
  },
  {
   "cell_type": "code",
   "execution_count": 67,
   "metadata": {
    "scrolled": true
   },
   "outputs": [],
   "source": [
    "test=test.merge(result,on =['qid','uid'],how='left')"
   ]
  },
  {
   "cell_type": "code",
   "execution_count": 69,
   "metadata": {},
   "outputs": [
    {
     "data": {
      "text/plain": [
       "10630880"
      ]
     },
     "execution_count": 69,
     "metadata": {},
     "output_type": "execute_result"
    }
   ],
   "source": [
    "len(test)+len(train)"
   ]
  },
  {
   "cell_type": "code",
   "execution_count": 123,
   "metadata": {},
   "outputs": [],
   "source": [
    "result.to_csv('feature_topic_n_stacking.csv',index=False)"
   ]
  },
  {
   "cell_type": "code",
   "execution_count": null,
   "metadata": {},
   "outputs": [],
   "source": [
    "feature.to_hdf('feature_qid_freq.h5', key='data')"
   ]
  }
 ],
 "metadata": {
  "kernelspec": {
   "display_name": "Python 3",
   "language": "python",
   "name": "python3"
  },
  "language_info": {
   "codemirror_mode": {
    "name": "ipython",
    "version": 3
   },
   "file_extension": ".py",
   "mimetype": "text/x-python",
   "name": "python",
   "nbconvert_exporter": "python",
   "pygments_lexer": "ipython3",
   "version": "3.7.3"
  }
 },
 "nbformat": 4,
 "nbformat_minor": 2
}
